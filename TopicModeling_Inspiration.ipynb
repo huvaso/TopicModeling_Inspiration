{
 "cells": [
  {
   "cell_type": "markdown",
   "id": "aefad920",
   "metadata": {},
   "source": [
    "## Importing libraries"
   ]
  },
  {
   "cell_type": "code",
   "execution_count": 1,
   "id": "06991c33",
   "metadata": {},
   "outputs": [],
   "source": [
    "from pycaret.nlp import *\n",
    "import pandas as pd\n",
    "import scipy.sparse as sp\n",
    "import numpy as np\n",
    "import nltk\n",
    "from nltk.corpus import stopwords\n",
    "stopword_es = nltk.corpus.stopwords.words('spanish')\n",
    "\n",
    "import warnings\n",
    "warnings.filterwarnings(\"ignore\")"
   ]
  },
  {
   "cell_type": "markdown",
   "id": "9aaaad52",
   "metadata": {},
   "source": [
    "## Read corpus and stopwords"
   ]
  },
  {
   "cell_type": "code",
   "execution_count": 2,
   "id": "7cfda998",
   "metadata": {},
   "outputs": [],
   "source": [
    "col_list = [\"Document\", \"Class\"]\n",
    "corpus = pd.read_csv('Data/survey_corpus.csv', usecols=col_list)"
   ]
  },
  {
   "cell_type": "code",
   "execution_count": 3,
   "id": "1459d189",
   "metadata": {},
   "outputs": [
    {
     "data": {
      "text/html": [
       "<div>\n",
       "<style scoped>\n",
       "    .dataframe tbody tr th:only-of-type {\n",
       "        vertical-align: middle;\n",
       "    }\n",
       "\n",
       "    .dataframe tbody tr th {\n",
       "        vertical-align: top;\n",
       "    }\n",
       "\n",
       "    .dataframe thead th {\n",
       "        text-align: right;\n",
       "    }\n",
       "</style>\n",
       "<table border=\"1\" class=\"dataframe\">\n",
       "  <thead>\n",
       "    <tr style=\"text-align: right;\">\n",
       "      <th></th>\n",
       "      <th>Document</th>\n",
       "      <th>Class</th>\n",
       "    </tr>\n",
       "  </thead>\n",
       "  <tbody>\n",
       "    <tr>\n",
       "      <th>0</th>\n",
       "      <td>igual proposito inspirar mujeres podemos hacer...</td>\n",
       "      <td>inspirado_por</td>\n",
       "    </tr>\n",
       "    <tr>\n",
       "      <th>1</th>\n",
       "      <td>necesariamente toda promocionan gran campaa en...</td>\n",
       "      <td>inspirado_por</td>\n",
       "    </tr>\n",
       "    <tr>\n",
       "      <th>2</th>\n",
       "      <td>diria si decidi ah inspira sino ver cifras cre...</td>\n",
       "      <td>inspirado_por</td>\n",
       "    </tr>\n",
       "    <tr>\n",
       "      <th>3</th>\n",
       "      <td>hizo reflexionar casi siempre veo contenido cu...</td>\n",
       "      <td>inspirado_por</td>\n",
       "    </tr>\n",
       "    <tr>\n",
       "      <th>4</th>\n",
       "      <td>entonces pienso inspiracional persona comunes ...</td>\n",
       "      <td>inspirado_por</td>\n",
       "    </tr>\n",
       "  </tbody>\n",
       "</table>\n",
       "</div>"
      ],
      "text/plain": [
       "                                            Document          Class\n",
       "0  igual proposito inspirar mujeres podemos hacer...  inspirado_por\n",
       "1  necesariamente toda promocionan gran campaa en...  inspirado_por\n",
       "2  diria si decidi ah inspira sino ver cifras cre...  inspirado_por\n",
       "3  hizo reflexionar casi siempre veo contenido cu...  inspirado_por\n",
       "4  entonces pienso inspiracional persona comunes ...  inspirado_por"
      ]
     },
     "execution_count": 3,
     "metadata": {},
     "output_type": "execute_result"
    }
   ],
   "source": [
    "corpus.head()"
   ]
  },
  {
   "cell_type": "code",
   "execution_count": 4,
   "id": "185751bd",
   "metadata": {},
   "outputs": [],
   "source": [
    "# We create a framework with personalized stop words\n",
    "stop_words = pd.read_csv(\"Data/stop_words_es.txt\", sep=\",\", decimal=\".\", engine=\"python\", encoding = 'utf8')"
   ]
  },
  {
   "cell_type": "code",
   "execution_count": 5,
   "id": "7c61e4e8",
   "metadata": {},
   "outputs": [],
   "source": [
    "sw_list = stop_words[\"listasw\"].values.tolist()"
   ]
  },
  {
   "cell_type": "code",
   "execution_count": 6,
   "id": "8edeca2c",
   "metadata": {},
   "outputs": [
    {
     "data": {
      "text/html": [
       "<style type=\"text/css\">\n",
       "</style>\n",
       "<table id=\"T_972c8_\">\n",
       "  <thead>\n",
       "    <tr>\n",
       "      <th class=\"col_heading level0 col0\" >Description</th>\n",
       "      <th class=\"col_heading level0 col1\" >Value</th>\n",
       "    </tr>\n",
       "  </thead>\n",
       "  <tbody>\n",
       "    <tr>\n",
       "      <td id=\"T_972c8_row0_col0\" class=\"data row0 col0\" >session_id</td>\n",
       "      <td id=\"T_972c8_row0_col1\" class=\"data row0 col1\" >12</td>\n",
       "    </tr>\n",
       "    <tr>\n",
       "      <td id=\"T_972c8_row1_col0\" class=\"data row1 col0\" >Documents</td>\n",
       "      <td id=\"T_972c8_row1_col1\" class=\"data row1 col1\" >181</td>\n",
       "    </tr>\n",
       "    <tr>\n",
       "      <td id=\"T_972c8_row2_col0\" class=\"data row2 col0\" >Vocab Size</td>\n",
       "      <td id=\"T_972c8_row2_col1\" class=\"data row2 col1\" >507</td>\n",
       "    </tr>\n",
       "    <tr>\n",
       "      <td id=\"T_972c8_row3_col0\" class=\"data row3 col0\" >Custom Stopwords</td>\n",
       "      <td id=\"T_972c8_row3_col1\" class=\"data row3 col1\" >True</td>\n",
       "    </tr>\n",
       "  </tbody>\n",
       "</table>\n"
      ],
      "text/plain": [
       "<pandas.io.formats.style.Styler at 0x7fde4412e400>"
      ]
     },
     "metadata": {},
     "output_type": "display_data"
    }
   ],
   "source": [
    "# Using customize stopwords before topic modeling\n",
    "nlp = setup(data = corpus, target = \"Document\", custom_stopwords = sw_list, session_id = 12)"
   ]
  },
  {
   "cell_type": "markdown",
   "id": "c2e46612",
   "metadata": {},
   "source": [
    "## Computing the best number of topics"
   ]
  },
  {
   "cell_type": "code",
   "execution_count": 7,
   "id": "5d6e6ad2",
   "metadata": {},
   "outputs": [],
   "source": [
    "from scipy.stats import entropy\n",
    "entros = []\n",
    "lista_topicos = []\n",
    "for i in range(2,20):\n",
    "    lda_bucle = create_model('lda', num_topics=i)\n",
    "    lda_data_bucle = assign_model(lda_bucle)\n",
    "    topics_por_bucle = lda_data_bucle[lda_data_bucle[\"Class\"] == \"inspirado_por\"]\n",
    "    topics_para_bucle = lda_data_bucle[lda_data_bucle[\"Class\"] == \"inspirado_para\"]\n",
    "    aux = []\n",
    "    if (topics_por_bucle.Dominant_Topic.mode()[0] != topics_para_bucle.Dominant_Topic.mode())[0]:\n",
    "        aux.append(i)\n",
    "        aux.append(topics_por_bucle.Dominant_Topic.mode()[0])\n",
    "        aux.append(topics_para_bucle.Dominant_Topic.mode()[0])\n",
    "        pd_series = pd.Series(lda_data_bucle[\"Dominant_Topic\"])\n",
    "        pd_series_por = pd.Series(topics_por_bucle[\"Dominant_Topic\"])\n",
    "        pd_series_para = pd.Series(topics_para_bucle[\"Dominant_Topic\"])\n",
    "        entropyx = entropy(pd_series.value_counts())\n",
    "        aux.append(entropy(pd_series_por.value_counts())/entropyx)\n",
    "        aux.append(entropy(pd_series_para.value_counts())/entropyx)\n",
    "        lista_topicos.append(aux)"
   ]
  },
  {
   "cell_type": "code",
   "execution_count": 9,
   "id": "6039ceea",
   "metadata": {},
   "outputs": [
    {
     "data": {
      "text/plain": [
       "[[2, 'Topic 1', 'Topic 0', 0.9950959043738096, 1.0016655367875502],\n",
       " [6, 'Topic 4', 'Topic 3', 0.9563692542432761, 0.9912062721709524],\n",
       " [7, 'Topic 4', 'Topic 3', 0.9820962248288816, 0.9729521505301039],\n",
       " [8, 'Topic 4', 'Topic 0', 0.9647359103319549, 0.9960039663413762],\n",
       " [10, 'Topic 8', 'Topic 0', 0.9882323459443828, 0.9464483475388226],\n",
       " [11, 'Topic 8', 'Topic 10', 1.0046860826817847, 0.9669072535653594],\n",
       " [13, 'Topic 8', 'Topic 0', 0.9897361782720662, 0.9806442476961654],\n",
       " [15, 'Topic 10', 'Topic 8', 0.9966244433030998, 0.9584102651026151],\n",
       " [18, 'Topic 8', 'Topic 2', 1.0293343911528687, 0.8652411699581734]]"
      ]
     },
     "execution_count": 9,
     "metadata": {},
     "output_type": "execute_result"
    }
   ],
   "source": [
    "lista_topicos"
   ]
  },
  {
   "cell_type": "markdown",
   "id": "709a073b",
   "metadata": {},
   "source": [
    "## LDA training for the best number of topics"
   ]
  },
  {
   "cell_type": "code",
   "execution_count": 10,
   "id": "a57e3ad3",
   "metadata": {},
   "outputs": [],
   "source": [
    "# Set the number of topics (it would be used in other tasks)\n",
    "n_topics = 3\n",
    "# Creating the topic modeling task\n",
    "lda = create_model('lda', num_topics = n_topics)"
   ]
  },
  {
   "cell_type": "code",
   "execution_count": 11,
   "id": "c11a7348",
   "metadata": {},
   "outputs": [
    {
     "data": {
      "text/html": [
       "<div>\n",
       "<style scoped>\n",
       "    .dataframe tbody tr th:only-of-type {\n",
       "        vertical-align: middle;\n",
       "    }\n",
       "\n",
       "    .dataframe tbody tr th {\n",
       "        vertical-align: top;\n",
       "    }\n",
       "\n",
       "    .dataframe thead th {\n",
       "        text-align: right;\n",
       "    }\n",
       "</style>\n",
       "<table border=\"1\" class=\"dataframe\">\n",
       "  <thead>\n",
       "    <tr style=\"text-align: right;\">\n",
       "      <th></th>\n",
       "      <th>Document</th>\n",
       "      <th>Class</th>\n",
       "      <th>Topic_0</th>\n",
       "      <th>Topic_1</th>\n",
       "      <th>Topic_2</th>\n",
       "      <th>Dominant_Topic</th>\n",
       "      <th>Perc_Dominant_Topic</th>\n",
       "    </tr>\n",
       "  </thead>\n",
       "  <tbody>\n",
       "    <tr>\n",
       "      <th>0</th>\n",
       "      <td>igual proposito ropa comoda ropa bonita declar...</td>\n",
       "      <td>inspirado_por</td>\n",
       "      <td>0.006446</td>\n",
       "      <td>0.006655</td>\n",
       "      <td>0.986899</td>\n",
       "      <td>Topic 2</td>\n",
       "      <td>0.99</td>\n",
       "    </tr>\n",
       "    <tr>\n",
       "      <th>1</th>\n",
       "      <td>necesariamente gran campaa envian ciertas pren...</td>\n",
       "      <td>inspirado_por</td>\n",
       "      <td>0.005091</td>\n",
       "      <td>0.005256</td>\n",
       "      <td>0.989653</td>\n",
       "      <td>Topic 2</td>\n",
       "      <td>0.99</td>\n",
       "    </tr>\n",
       "    <tr>\n",
       "      <th>2</th>\n",
       "      <td>decidi inspira sino ver cifra creo algun rabia...</td>\n",
       "      <td>inspirado_por</td>\n",
       "      <td>0.988545</td>\n",
       "      <td>0.004343</td>\n",
       "      <td>0.007112</td>\n",
       "      <td>Topic 0</td>\n",
       "      <td>0.99</td>\n",
       "    </tr>\n",
       "    <tr>\n",
       "      <th>3</th>\n",
       "      <td>tema presente mujer</td>\n",
       "      <td>inspirado_por</td>\n",
       "      <td>0.022215</td>\n",
       "      <td>0.022933</td>\n",
       "      <td>0.954851</td>\n",
       "      <td>Topic 2</td>\n",
       "      <td>0.95</td>\n",
       "    </tr>\n",
       "    <tr>\n",
       "      <th>4</th>\n",
       "      <td>pienso inspiracional persona comune utilizan p...</td>\n",
       "      <td>inspirado_por</td>\n",
       "      <td>0.007074</td>\n",
       "      <td>0.980977</td>\n",
       "      <td>0.011950</td>\n",
       "      <td>Topic 1</td>\n",
       "      <td>0.98</td>\n",
       "    </tr>\n",
       "  </tbody>\n",
       "</table>\n",
       "</div>"
      ],
      "text/plain": [
       "                                            Document          Class   Topic_0  \\\n",
       "0  igual proposito ropa comoda ropa bonita declar...  inspirado_por  0.006446   \n",
       "1  necesariamente gran campaa envian ciertas pren...  inspirado_por  0.005091   \n",
       "2  decidi inspira sino ver cifra creo algun rabia...  inspirado_por  0.988545   \n",
       "3                                tema presente mujer  inspirado_por  0.022215   \n",
       "4  pienso inspiracional persona comune utilizan p...  inspirado_por  0.007074   \n",
       "\n",
       "    Topic_1   Topic_2 Dominant_Topic  Perc_Dominant_Topic  \n",
       "0  0.006655  0.986899        Topic 2                 0.99  \n",
       "1  0.005256  0.989653        Topic 2                 0.99  \n",
       "2  0.004343  0.007112        Topic 0                 0.99  \n",
       "3  0.022933  0.954851        Topic 2                 0.95  \n",
       "4  0.980977  0.011950        Topic 1                 0.98  "
      ]
     },
     "execution_count": 11,
     "metadata": {},
     "output_type": "execute_result"
    }
   ],
   "source": [
    "lda_data = assign_model(lda)\n",
    "lda_data.head()"
   ]
  },
  {
   "cell_type": "code",
   "execution_count": 12,
   "id": "a012f608",
   "metadata": {},
   "outputs": [
    {
     "data": {
      "text/plain": [
       "Dominant_Topic  Class         \n",
       "Topic 0         inspirado_para    22\n",
       "                inspirado_por     21\n",
       "Topic 1         inspirado_para    17\n",
       "                inspirado_por     35\n",
       "Topic 2         inspirado_para    38\n",
       "                inspirado_por     48\n",
       "Name: Document, dtype: int64"
      ]
     },
     "execution_count": 12,
     "metadata": {},
     "output_type": "execute_result"
    }
   ],
   "source": [
    "# Resume the topic modeling task\n",
    "lda_data.groupby([\"Dominant_Topic\",\"Class\"])[\"Document\"].count()"
   ]
  },
  {
   "cell_type": "code",
   "execution_count": 13,
   "id": "c268fffc",
   "metadata": {},
   "outputs": [
    {
     "data": {
      "text/html": [
       "        <script type=\"text/javascript\">\n",
       "        window.PlotlyConfig = {MathJaxConfig: 'local'};\n",
       "        if (window.MathJax) {MathJax.Hub.Config({SVG: {font: \"STIX-Web\"}});}\n",
       "        if (typeof require !== 'undefined') {\n",
       "        require.undef(\"plotly\");\n",
       "        requirejs.config({\n",
       "            paths: {\n",
       "                'plotly': ['https://cdn.plot.ly/plotly-2.4.2.min']\n",
       "            }\n",
       "        });\n",
       "        require(['plotly'], function(Plotly) {\n",
       "            window._Plotly = Plotly;\n",
       "        });\n",
       "        }\n",
       "        </script>\n",
       "        "
      ]
     },
     "metadata": {},
     "output_type": "display_data"
    },
    {
     "data": {
      "application/vnd.plotly.v1+json": {
       "config": {
        "plotlyServerURL": "https://plot.ly"
       },
       "data": [
        {
         "alignmentgroup": "True",
         "customdata": [
          [
           "nike, ver, deporte, ropa, persona, correr, hacer, creo, chevere, mensaje"
          ],
          [
           "persona, puede, inspira, inspiracion, deportista, hazlo, compra, marca, cuanto, solo"
          ],
          [
           "deporte, hacer, ver, ropa, video, marca, vida, siente, final, haciendo"
          ]
         ],
         "hovertemplate": "Topic=%{x}<br>Documents=%{y}<br>Keyword=%{customdata[0]}<extra></extra>",
         "legendgroup": "",
         "marker": {
          "color": "#636efa",
          "pattern": {
           "shape": ""
          }
         },
         "name": "",
         "offsetgroup": "",
         "orientation": "v",
         "showlegend": false,
         "textposition": "auto",
         "type": "bar",
         "x": [
          "Topic 0",
          "Topic 1",
          "Topic 2"
         ],
         "xaxis": "x",
         "y": [
          44,
          51,
          86
         ],
         "yaxis": "y"
        }
       ],
       "layout": {
        "barmode": "relative",
        "legend": {
         "tracegroupgap": 0
        },
        "template": {
         "data": {
          "bar": [
           {
            "error_x": {
             "color": "#2a3f5f"
            },
            "error_y": {
             "color": "#2a3f5f"
            },
            "marker": {
             "line": {
              "color": "#E5ECF6",
              "width": 0.5
             },
             "pattern": {
              "fillmode": "overlay",
              "size": 10,
              "solidity": 0.2
             }
            },
            "type": "bar"
           }
          ],
          "barpolar": [
           {
            "marker": {
             "line": {
              "color": "#E5ECF6",
              "width": 0.5
             },
             "pattern": {
              "fillmode": "overlay",
              "size": 10,
              "solidity": 0.2
             }
            },
            "type": "barpolar"
           }
          ],
          "carpet": [
           {
            "aaxis": {
             "endlinecolor": "#2a3f5f",
             "gridcolor": "white",
             "linecolor": "white",
             "minorgridcolor": "white",
             "startlinecolor": "#2a3f5f"
            },
            "baxis": {
             "endlinecolor": "#2a3f5f",
             "gridcolor": "white",
             "linecolor": "white",
             "minorgridcolor": "white",
             "startlinecolor": "#2a3f5f"
            },
            "type": "carpet"
           }
          ],
          "choropleth": [
           {
            "colorbar": {
             "outlinewidth": 0,
             "ticks": ""
            },
            "type": "choropleth"
           }
          ],
          "contour": [
           {
            "colorbar": {
             "outlinewidth": 0,
             "ticks": ""
            },
            "colorscale": [
             [
              0,
              "#0d0887"
             ],
             [
              0.1111111111111111,
              "#46039f"
             ],
             [
              0.2222222222222222,
              "#7201a8"
             ],
             [
              0.3333333333333333,
              "#9c179e"
             ],
             [
              0.4444444444444444,
              "#bd3786"
             ],
             [
              0.5555555555555556,
              "#d8576b"
             ],
             [
              0.6666666666666666,
              "#ed7953"
             ],
             [
              0.7777777777777778,
              "#fb9f3a"
             ],
             [
              0.8888888888888888,
              "#fdca26"
             ],
             [
              1,
              "#f0f921"
             ]
            ],
            "type": "contour"
           }
          ],
          "contourcarpet": [
           {
            "colorbar": {
             "outlinewidth": 0,
             "ticks": ""
            },
            "type": "contourcarpet"
           }
          ],
          "heatmap": [
           {
            "colorbar": {
             "outlinewidth": 0,
             "ticks": ""
            },
            "colorscale": [
             [
              0,
              "#0d0887"
             ],
             [
              0.1111111111111111,
              "#46039f"
             ],
             [
              0.2222222222222222,
              "#7201a8"
             ],
             [
              0.3333333333333333,
              "#9c179e"
             ],
             [
              0.4444444444444444,
              "#bd3786"
             ],
             [
              0.5555555555555556,
              "#d8576b"
             ],
             [
              0.6666666666666666,
              "#ed7953"
             ],
             [
              0.7777777777777778,
              "#fb9f3a"
             ],
             [
              0.8888888888888888,
              "#fdca26"
             ],
             [
              1,
              "#f0f921"
             ]
            ],
            "type": "heatmap"
           }
          ],
          "heatmapgl": [
           {
            "colorbar": {
             "outlinewidth": 0,
             "ticks": ""
            },
            "colorscale": [
             [
              0,
              "#0d0887"
             ],
             [
              0.1111111111111111,
              "#46039f"
             ],
             [
              0.2222222222222222,
              "#7201a8"
             ],
             [
              0.3333333333333333,
              "#9c179e"
             ],
             [
              0.4444444444444444,
              "#bd3786"
             ],
             [
              0.5555555555555556,
              "#d8576b"
             ],
             [
              0.6666666666666666,
              "#ed7953"
             ],
             [
              0.7777777777777778,
              "#fb9f3a"
             ],
             [
              0.8888888888888888,
              "#fdca26"
             ],
             [
              1,
              "#f0f921"
             ]
            ],
            "type": "heatmapgl"
           }
          ],
          "histogram": [
           {
            "marker": {
             "pattern": {
              "fillmode": "overlay",
              "size": 10,
              "solidity": 0.2
             }
            },
            "type": "histogram"
           }
          ],
          "histogram2d": [
           {
            "colorbar": {
             "outlinewidth": 0,
             "ticks": ""
            },
            "colorscale": [
             [
              0,
              "#0d0887"
             ],
             [
              0.1111111111111111,
              "#46039f"
             ],
             [
              0.2222222222222222,
              "#7201a8"
             ],
             [
              0.3333333333333333,
              "#9c179e"
             ],
             [
              0.4444444444444444,
              "#bd3786"
             ],
             [
              0.5555555555555556,
              "#d8576b"
             ],
             [
              0.6666666666666666,
              "#ed7953"
             ],
             [
              0.7777777777777778,
              "#fb9f3a"
             ],
             [
              0.8888888888888888,
              "#fdca26"
             ],
             [
              1,
              "#f0f921"
             ]
            ],
            "type": "histogram2d"
           }
          ],
          "histogram2dcontour": [
           {
            "colorbar": {
             "outlinewidth": 0,
             "ticks": ""
            },
            "colorscale": [
             [
              0,
              "#0d0887"
             ],
             [
              0.1111111111111111,
              "#46039f"
             ],
             [
              0.2222222222222222,
              "#7201a8"
             ],
             [
              0.3333333333333333,
              "#9c179e"
             ],
             [
              0.4444444444444444,
              "#bd3786"
             ],
             [
              0.5555555555555556,
              "#d8576b"
             ],
             [
              0.6666666666666666,
              "#ed7953"
             ],
             [
              0.7777777777777778,
              "#fb9f3a"
             ],
             [
              0.8888888888888888,
              "#fdca26"
             ],
             [
              1,
              "#f0f921"
             ]
            ],
            "type": "histogram2dcontour"
           }
          ],
          "mesh3d": [
           {
            "colorbar": {
             "outlinewidth": 0,
             "ticks": ""
            },
            "type": "mesh3d"
           }
          ],
          "parcoords": [
           {
            "line": {
             "colorbar": {
              "outlinewidth": 0,
              "ticks": ""
             }
            },
            "type": "parcoords"
           }
          ],
          "pie": [
           {
            "automargin": true,
            "type": "pie"
           }
          ],
          "scatter": [
           {
            "marker": {
             "colorbar": {
              "outlinewidth": 0,
              "ticks": ""
             }
            },
            "type": "scatter"
           }
          ],
          "scatter3d": [
           {
            "line": {
             "colorbar": {
              "outlinewidth": 0,
              "ticks": ""
             }
            },
            "marker": {
             "colorbar": {
              "outlinewidth": 0,
              "ticks": ""
             }
            },
            "type": "scatter3d"
           }
          ],
          "scattercarpet": [
           {
            "marker": {
             "colorbar": {
              "outlinewidth": 0,
              "ticks": ""
             }
            },
            "type": "scattercarpet"
           }
          ],
          "scattergeo": [
           {
            "marker": {
             "colorbar": {
              "outlinewidth": 0,
              "ticks": ""
             }
            },
            "type": "scattergeo"
           }
          ],
          "scattergl": [
           {
            "marker": {
             "colorbar": {
              "outlinewidth": 0,
              "ticks": ""
             }
            },
            "type": "scattergl"
           }
          ],
          "scattermapbox": [
           {
            "marker": {
             "colorbar": {
              "outlinewidth": 0,
              "ticks": ""
             }
            },
            "type": "scattermapbox"
           }
          ],
          "scatterpolar": [
           {
            "marker": {
             "colorbar": {
              "outlinewidth": 0,
              "ticks": ""
             }
            },
            "type": "scatterpolar"
           }
          ],
          "scatterpolargl": [
           {
            "marker": {
             "colorbar": {
              "outlinewidth": 0,
              "ticks": ""
             }
            },
            "type": "scatterpolargl"
           }
          ],
          "scatterternary": [
           {
            "marker": {
             "colorbar": {
              "outlinewidth": 0,
              "ticks": ""
             }
            },
            "type": "scatterternary"
           }
          ],
          "surface": [
           {
            "colorbar": {
             "outlinewidth": 0,
             "ticks": ""
            },
            "colorscale": [
             [
              0,
              "#0d0887"
             ],
             [
              0.1111111111111111,
              "#46039f"
             ],
             [
              0.2222222222222222,
              "#7201a8"
             ],
             [
              0.3333333333333333,
              "#9c179e"
             ],
             [
              0.4444444444444444,
              "#bd3786"
             ],
             [
              0.5555555555555556,
              "#d8576b"
             ],
             [
              0.6666666666666666,
              "#ed7953"
             ],
             [
              0.7777777777777778,
              "#fb9f3a"
             ],
             [
              0.8888888888888888,
              "#fdca26"
             ],
             [
              1,
              "#f0f921"
             ]
            ],
            "type": "surface"
           }
          ],
          "table": [
           {
            "cells": {
             "fill": {
              "color": "#EBF0F8"
             },
             "line": {
              "color": "white"
             }
            },
            "header": {
             "fill": {
              "color": "#C8D4E3"
             },
             "line": {
              "color": "white"
             }
            },
            "type": "table"
           }
          ]
         },
         "layout": {
          "annotationdefaults": {
           "arrowcolor": "#2a3f5f",
           "arrowhead": 0,
           "arrowwidth": 1
          },
          "autotypenumbers": "strict",
          "coloraxis": {
           "colorbar": {
            "outlinewidth": 0,
            "ticks": ""
           }
          },
          "colorscale": {
           "diverging": [
            [
             0,
             "#8e0152"
            ],
            [
             0.1,
             "#c51b7d"
            ],
            [
             0.2,
             "#de77ae"
            ],
            [
             0.3,
             "#f1b6da"
            ],
            [
             0.4,
             "#fde0ef"
            ],
            [
             0.5,
             "#f7f7f7"
            ],
            [
             0.6,
             "#e6f5d0"
            ],
            [
             0.7,
             "#b8e186"
            ],
            [
             0.8,
             "#7fbc41"
            ],
            [
             0.9,
             "#4d9221"
            ],
            [
             1,
             "#276419"
            ]
           ],
           "sequential": [
            [
             0,
             "#0d0887"
            ],
            [
             0.1111111111111111,
             "#46039f"
            ],
            [
             0.2222222222222222,
             "#7201a8"
            ],
            [
             0.3333333333333333,
             "#9c179e"
            ],
            [
             0.4444444444444444,
             "#bd3786"
            ],
            [
             0.5555555555555556,
             "#d8576b"
            ],
            [
             0.6666666666666666,
             "#ed7953"
            ],
            [
             0.7777777777777778,
             "#fb9f3a"
            ],
            [
             0.8888888888888888,
             "#fdca26"
            ],
            [
             1,
             "#f0f921"
            ]
           ],
           "sequentialminus": [
            [
             0,
             "#0d0887"
            ],
            [
             0.1111111111111111,
             "#46039f"
            ],
            [
             0.2222222222222222,
             "#7201a8"
            ],
            [
             0.3333333333333333,
             "#9c179e"
            ],
            [
             0.4444444444444444,
             "#bd3786"
            ],
            [
             0.5555555555555556,
             "#d8576b"
            ],
            [
             0.6666666666666666,
             "#ed7953"
            ],
            [
             0.7777777777777778,
             "#fb9f3a"
            ],
            [
             0.8888888888888888,
             "#fdca26"
            ],
            [
             1,
             "#f0f921"
            ]
           ]
          },
          "colorway": [
           "#636efa",
           "#EF553B",
           "#00cc96",
           "#ab63fa",
           "#FFA15A",
           "#19d3f3",
           "#FF6692",
           "#B6E880",
           "#FF97FF",
           "#FECB52"
          ],
          "font": {
           "color": "#2a3f5f"
          },
          "geo": {
           "bgcolor": "white",
           "lakecolor": "white",
           "landcolor": "#E5ECF6",
           "showlakes": true,
           "showland": true,
           "subunitcolor": "white"
          },
          "hoverlabel": {
           "align": "left"
          },
          "hovermode": "closest",
          "mapbox": {
           "style": "light"
          },
          "paper_bgcolor": "white",
          "plot_bgcolor": "#E5ECF6",
          "polar": {
           "angularaxis": {
            "gridcolor": "white",
            "linecolor": "white",
            "ticks": ""
           },
           "bgcolor": "#E5ECF6",
           "radialaxis": {
            "gridcolor": "white",
            "linecolor": "white",
            "ticks": ""
           }
          },
          "scene": {
           "xaxis": {
            "backgroundcolor": "#E5ECF6",
            "gridcolor": "white",
            "gridwidth": 2,
            "linecolor": "white",
            "showbackground": true,
            "ticks": "",
            "zerolinecolor": "white"
           },
           "yaxis": {
            "backgroundcolor": "#E5ECF6",
            "gridcolor": "white",
            "gridwidth": 2,
            "linecolor": "white",
            "showbackground": true,
            "ticks": "",
            "zerolinecolor": "white"
           },
           "zaxis": {
            "backgroundcolor": "#E5ECF6",
            "gridcolor": "white",
            "gridwidth": 2,
            "linecolor": "white",
            "showbackground": true,
            "ticks": "",
            "zerolinecolor": "white"
           }
          },
          "shapedefaults": {
           "line": {
            "color": "#2a3f5f"
           }
          },
          "ternary": {
           "aaxis": {
            "gridcolor": "white",
            "linecolor": "white",
            "ticks": ""
           },
           "baxis": {
            "gridcolor": "white",
            "linecolor": "white",
            "ticks": ""
           },
           "bgcolor": "#E5ECF6",
           "caxis": {
            "gridcolor": "white",
            "linecolor": "white",
            "ticks": ""
           }
          },
          "title": {
           "x": 0.05
          },
          "xaxis": {
           "automargin": true,
           "gridcolor": "white",
           "linecolor": "white",
           "ticks": "",
           "title": {
            "standoff": 15
           },
           "zerolinecolor": "white",
           "zerolinewidth": 2
          },
          "yaxis": {
           "automargin": true,
           "gridcolor": "white",
           "linecolor": "white",
           "ticks": "",
           "title": {
            "standoff": 15
           },
           "zerolinecolor": "white",
           "zerolinewidth": 2
          }
         }
        },
        "title": {
         "text": "Document Distribution by Topics"
        },
        "xaxis": {
         "anchor": "y",
         "domain": [
          0,
          1
         ],
         "title": {
          "text": "Topic"
         }
        },
        "yaxis": {
         "anchor": "x",
         "domain": [
          0,
          1
         ],
         "title": {
          "text": "Documents"
         }
        }
       }
      },
      "text/html": [
       "<div>                            <div id=\"39c7b501-88f1-4f34-86ae-8c2510852ea2\" class=\"plotly-graph-div\" style=\"height:525px; width:100%;\"></div>            <script type=\"text/javascript\">                require([\"plotly\"], function(Plotly) {                    window.PLOTLYENV=window.PLOTLYENV || {};                                    if (document.getElementById(\"39c7b501-88f1-4f34-86ae-8c2510852ea2\")) {                    Plotly.newPlot(                        \"39c7b501-88f1-4f34-86ae-8c2510852ea2\",                        [{\"alignmentgroup\":\"True\",\"customdata\":[[\"nike, ver, deporte, ropa, persona, correr, hacer, creo, chevere, mensaje\"],[\"persona, puede, inspira, inspiracion, deportista, hazlo, compra, marca, cuanto, solo\"],[\"deporte, hacer, ver, ropa, video, marca, vida, siente, final, haciendo\"]],\"hovertemplate\":\"Topic=%{x}<br>Documents=%{y}<br>Keyword=%{customdata[0]}<extra></extra>\",\"legendgroup\":\"\",\"marker\":{\"color\":\"#636efa\",\"pattern\":{\"shape\":\"\"}},\"name\":\"\",\"offsetgroup\":\"\",\"orientation\":\"v\",\"showlegend\":false,\"textposition\":\"auto\",\"type\":\"bar\",\"x\":[\"Topic 0\",\"Topic 1\",\"Topic 2\"],\"xaxis\":\"x\",\"y\":[44,51,86],\"yaxis\":\"y\"}],                        {\"barmode\":\"relative\",\"legend\":{\"tracegroupgap\":0},\"template\":{\"data\":{\"bar\":[{\"error_x\":{\"color\":\"#2a3f5f\"},\"error_y\":{\"color\":\"#2a3f5f\"},\"marker\":{\"line\":{\"color\":\"#E5ECF6\",\"width\":0.5},\"pattern\":{\"fillmode\":\"overlay\",\"size\":10,\"solidity\":0.2}},\"type\":\"bar\"}],\"barpolar\":[{\"marker\":{\"line\":{\"color\":\"#E5ECF6\",\"width\":0.5},\"pattern\":{\"fillmode\":\"overlay\",\"size\":10,\"solidity\":0.2}},\"type\":\"barpolar\"}],\"carpet\":[{\"aaxis\":{\"endlinecolor\":\"#2a3f5f\",\"gridcolor\":\"white\",\"linecolor\":\"white\",\"minorgridcolor\":\"white\",\"startlinecolor\":\"#2a3f5f\"},\"baxis\":{\"endlinecolor\":\"#2a3f5f\",\"gridcolor\":\"white\",\"linecolor\":\"white\",\"minorgridcolor\":\"white\",\"startlinecolor\":\"#2a3f5f\"},\"type\":\"carpet\"}],\"choropleth\":[{\"colorbar\":{\"outlinewidth\":0,\"ticks\":\"\"},\"type\":\"choropleth\"}],\"contour\":[{\"colorbar\":{\"outlinewidth\":0,\"ticks\":\"\"},\"colorscale\":[[0.0,\"#0d0887\"],[0.1111111111111111,\"#46039f\"],[0.2222222222222222,\"#7201a8\"],[0.3333333333333333,\"#9c179e\"],[0.4444444444444444,\"#bd3786\"],[0.5555555555555556,\"#d8576b\"],[0.6666666666666666,\"#ed7953\"],[0.7777777777777778,\"#fb9f3a\"],[0.8888888888888888,\"#fdca26\"],[1.0,\"#f0f921\"]],\"type\":\"contour\"}],\"contourcarpet\":[{\"colorbar\":{\"outlinewidth\":0,\"ticks\":\"\"},\"type\":\"contourcarpet\"}],\"heatmap\":[{\"colorbar\":{\"outlinewidth\":0,\"ticks\":\"\"},\"colorscale\":[[0.0,\"#0d0887\"],[0.1111111111111111,\"#46039f\"],[0.2222222222222222,\"#7201a8\"],[0.3333333333333333,\"#9c179e\"],[0.4444444444444444,\"#bd3786\"],[0.5555555555555556,\"#d8576b\"],[0.6666666666666666,\"#ed7953\"],[0.7777777777777778,\"#fb9f3a\"],[0.8888888888888888,\"#fdca26\"],[1.0,\"#f0f921\"]],\"type\":\"heatmap\"}],\"heatmapgl\":[{\"colorbar\":{\"outlinewidth\":0,\"ticks\":\"\"},\"colorscale\":[[0.0,\"#0d0887\"],[0.1111111111111111,\"#46039f\"],[0.2222222222222222,\"#7201a8\"],[0.3333333333333333,\"#9c179e\"],[0.4444444444444444,\"#bd3786\"],[0.5555555555555556,\"#d8576b\"],[0.6666666666666666,\"#ed7953\"],[0.7777777777777778,\"#fb9f3a\"],[0.8888888888888888,\"#fdca26\"],[1.0,\"#f0f921\"]],\"type\":\"heatmapgl\"}],\"histogram\":[{\"marker\":{\"pattern\":{\"fillmode\":\"overlay\",\"size\":10,\"solidity\":0.2}},\"type\":\"histogram\"}],\"histogram2d\":[{\"colorbar\":{\"outlinewidth\":0,\"ticks\":\"\"},\"colorscale\":[[0.0,\"#0d0887\"],[0.1111111111111111,\"#46039f\"],[0.2222222222222222,\"#7201a8\"],[0.3333333333333333,\"#9c179e\"],[0.4444444444444444,\"#bd3786\"],[0.5555555555555556,\"#d8576b\"],[0.6666666666666666,\"#ed7953\"],[0.7777777777777778,\"#fb9f3a\"],[0.8888888888888888,\"#fdca26\"],[1.0,\"#f0f921\"]],\"type\":\"histogram2d\"}],\"histogram2dcontour\":[{\"colorbar\":{\"outlinewidth\":0,\"ticks\":\"\"},\"colorscale\":[[0.0,\"#0d0887\"],[0.1111111111111111,\"#46039f\"],[0.2222222222222222,\"#7201a8\"],[0.3333333333333333,\"#9c179e\"],[0.4444444444444444,\"#bd3786\"],[0.5555555555555556,\"#d8576b\"],[0.6666666666666666,\"#ed7953\"],[0.7777777777777778,\"#fb9f3a\"],[0.8888888888888888,\"#fdca26\"],[1.0,\"#f0f921\"]],\"type\":\"histogram2dcontour\"}],\"mesh3d\":[{\"colorbar\":{\"outlinewidth\":0,\"ticks\":\"\"},\"type\":\"mesh3d\"}],\"parcoords\":[{\"line\":{\"colorbar\":{\"outlinewidth\":0,\"ticks\":\"\"}},\"type\":\"parcoords\"}],\"pie\":[{\"automargin\":true,\"type\":\"pie\"}],\"scatter\":[{\"marker\":{\"colorbar\":{\"outlinewidth\":0,\"ticks\":\"\"}},\"type\":\"scatter\"}],\"scatter3d\":[{\"line\":{\"colorbar\":{\"outlinewidth\":0,\"ticks\":\"\"}},\"marker\":{\"colorbar\":{\"outlinewidth\":0,\"ticks\":\"\"}},\"type\":\"scatter3d\"}],\"scattercarpet\":[{\"marker\":{\"colorbar\":{\"outlinewidth\":0,\"ticks\":\"\"}},\"type\":\"scattercarpet\"}],\"scattergeo\":[{\"marker\":{\"colorbar\":{\"outlinewidth\":0,\"ticks\":\"\"}},\"type\":\"scattergeo\"}],\"scattergl\":[{\"marker\":{\"colorbar\":{\"outlinewidth\":0,\"ticks\":\"\"}},\"type\":\"scattergl\"}],\"scattermapbox\":[{\"marker\":{\"colorbar\":{\"outlinewidth\":0,\"ticks\":\"\"}},\"type\":\"scattermapbox\"}],\"scatterpolar\":[{\"marker\":{\"colorbar\":{\"outlinewidth\":0,\"ticks\":\"\"}},\"type\":\"scatterpolar\"}],\"scatterpolargl\":[{\"marker\":{\"colorbar\":{\"outlinewidth\":0,\"ticks\":\"\"}},\"type\":\"scatterpolargl\"}],\"scatterternary\":[{\"marker\":{\"colorbar\":{\"outlinewidth\":0,\"ticks\":\"\"}},\"type\":\"scatterternary\"}],\"surface\":[{\"colorbar\":{\"outlinewidth\":0,\"ticks\":\"\"},\"colorscale\":[[0.0,\"#0d0887\"],[0.1111111111111111,\"#46039f\"],[0.2222222222222222,\"#7201a8\"],[0.3333333333333333,\"#9c179e\"],[0.4444444444444444,\"#bd3786\"],[0.5555555555555556,\"#d8576b\"],[0.6666666666666666,\"#ed7953\"],[0.7777777777777778,\"#fb9f3a\"],[0.8888888888888888,\"#fdca26\"],[1.0,\"#f0f921\"]],\"type\":\"surface\"}],\"table\":[{\"cells\":{\"fill\":{\"color\":\"#EBF0F8\"},\"line\":{\"color\":\"white\"}},\"header\":{\"fill\":{\"color\":\"#C8D4E3\"},\"line\":{\"color\":\"white\"}},\"type\":\"table\"}]},\"layout\":{\"annotationdefaults\":{\"arrowcolor\":\"#2a3f5f\",\"arrowhead\":0,\"arrowwidth\":1},\"autotypenumbers\":\"strict\",\"coloraxis\":{\"colorbar\":{\"outlinewidth\":0,\"ticks\":\"\"}},\"colorscale\":{\"diverging\":[[0,\"#8e0152\"],[0.1,\"#c51b7d\"],[0.2,\"#de77ae\"],[0.3,\"#f1b6da\"],[0.4,\"#fde0ef\"],[0.5,\"#f7f7f7\"],[0.6,\"#e6f5d0\"],[0.7,\"#b8e186\"],[0.8,\"#7fbc41\"],[0.9,\"#4d9221\"],[1,\"#276419\"]],\"sequential\":[[0.0,\"#0d0887\"],[0.1111111111111111,\"#46039f\"],[0.2222222222222222,\"#7201a8\"],[0.3333333333333333,\"#9c179e\"],[0.4444444444444444,\"#bd3786\"],[0.5555555555555556,\"#d8576b\"],[0.6666666666666666,\"#ed7953\"],[0.7777777777777778,\"#fb9f3a\"],[0.8888888888888888,\"#fdca26\"],[1.0,\"#f0f921\"]],\"sequentialminus\":[[0.0,\"#0d0887\"],[0.1111111111111111,\"#46039f\"],[0.2222222222222222,\"#7201a8\"],[0.3333333333333333,\"#9c179e\"],[0.4444444444444444,\"#bd3786\"],[0.5555555555555556,\"#d8576b\"],[0.6666666666666666,\"#ed7953\"],[0.7777777777777778,\"#fb9f3a\"],[0.8888888888888888,\"#fdca26\"],[1.0,\"#f0f921\"]]},\"colorway\":[\"#636efa\",\"#EF553B\",\"#00cc96\",\"#ab63fa\",\"#FFA15A\",\"#19d3f3\",\"#FF6692\",\"#B6E880\",\"#FF97FF\",\"#FECB52\"],\"font\":{\"color\":\"#2a3f5f\"},\"geo\":{\"bgcolor\":\"white\",\"lakecolor\":\"white\",\"landcolor\":\"#E5ECF6\",\"showlakes\":true,\"showland\":true,\"subunitcolor\":\"white\"},\"hoverlabel\":{\"align\":\"left\"},\"hovermode\":\"closest\",\"mapbox\":{\"style\":\"light\"},\"paper_bgcolor\":\"white\",\"plot_bgcolor\":\"#E5ECF6\",\"polar\":{\"angularaxis\":{\"gridcolor\":\"white\",\"linecolor\":\"white\",\"ticks\":\"\"},\"bgcolor\":\"#E5ECF6\",\"radialaxis\":{\"gridcolor\":\"white\",\"linecolor\":\"white\",\"ticks\":\"\"}},\"scene\":{\"xaxis\":{\"backgroundcolor\":\"#E5ECF6\",\"gridcolor\":\"white\",\"gridwidth\":2,\"linecolor\":\"white\",\"showbackground\":true,\"ticks\":\"\",\"zerolinecolor\":\"white\"},\"yaxis\":{\"backgroundcolor\":\"#E5ECF6\",\"gridcolor\":\"white\",\"gridwidth\":2,\"linecolor\":\"white\",\"showbackground\":true,\"ticks\":\"\",\"zerolinecolor\":\"white\"},\"zaxis\":{\"backgroundcolor\":\"#E5ECF6\",\"gridcolor\":\"white\",\"gridwidth\":2,\"linecolor\":\"white\",\"showbackground\":true,\"ticks\":\"\",\"zerolinecolor\":\"white\"}},\"shapedefaults\":{\"line\":{\"color\":\"#2a3f5f\"}},\"ternary\":{\"aaxis\":{\"gridcolor\":\"white\",\"linecolor\":\"white\",\"ticks\":\"\"},\"baxis\":{\"gridcolor\":\"white\",\"linecolor\":\"white\",\"ticks\":\"\"},\"bgcolor\":\"#E5ECF6\",\"caxis\":{\"gridcolor\":\"white\",\"linecolor\":\"white\",\"ticks\":\"\"}},\"title\":{\"x\":0.05},\"xaxis\":{\"automargin\":true,\"gridcolor\":\"white\",\"linecolor\":\"white\",\"ticks\":\"\",\"title\":{\"standoff\":15},\"zerolinecolor\":\"white\",\"zerolinewidth\":2},\"yaxis\":{\"automargin\":true,\"gridcolor\":\"white\",\"linecolor\":\"white\",\"ticks\":\"\",\"title\":{\"standoff\":15},\"zerolinecolor\":\"white\",\"zerolinewidth\":2}}},\"title\":{\"text\":\"Document Distribution by Topics\"},\"xaxis\":{\"anchor\":\"y\",\"domain\":[0.0,1.0],\"title\":{\"text\":\"Topic\"}},\"yaxis\":{\"anchor\":\"x\",\"domain\":[0.0,1.0],\"title\":{\"text\":\"Documents\"}}},                        {\"responsive\": true}                    ).then(function(){\n",
       "                            \n",
       "var gd = document.getElementById('39c7b501-88f1-4f34-86ae-8c2510852ea2');\n",
       "var x = new MutationObserver(function (mutations, observer) {{\n",
       "        var display = window.getComputedStyle(gd).display;\n",
       "        if (!display || display === 'none') {{\n",
       "            console.log([gd, 'removed!']);\n",
       "            Plotly.purge(gd);\n",
       "            observer.disconnect();\n",
       "        }}\n",
       "}});\n",
       "\n",
       "// Listen for the removal of the full notebook cells\n",
       "var notebookContainer = gd.closest('#notebook-container');\n",
       "if (notebookContainer) {{\n",
       "    x.observe(notebookContainer, {childList: true});\n",
       "}}\n",
       "\n",
       "// Listen for the clearing of the current output cell\n",
       "var outputEl = gd.closest('.output');\n",
       "if (outputEl) {{\n",
       "    x.observe(outputEl, {childList: true});\n",
       "}}\n",
       "\n",
       "                        })                };                });            </script>        </div>"
      ]
     },
     "metadata": {},
     "output_type": "display_data"
    }
   ],
   "source": [
    "Fig1 = plot_model(lda, plot = 'topic_distribution')"
   ]
  },
  {
   "cell_type": "code",
   "execution_count": 14,
   "id": "e88d6314",
   "metadata": {},
   "outputs": [
    {
     "data": {
      "application/vnd.plotly.v1+json": {
       "config": {
        "plotlyServerURL": "https://plot.ly"
       },
       "data": [
        {
         "alignmentgroup": "True",
         "hovertemplate": "Class=inspirado_por<br>Dominant_Topic=%{x}<br>Perc_Dominant_Topic=%{y}<extra></extra>",
         "legendgroup": "inspirado_por",
         "marker": {
          "color": "#636efa",
          "pattern": {
           "shape": ""
          }
         },
         "name": "inspirado_por",
         "offsetgroup": "inspirado_por",
         "orientation": "v",
         "showlegend": true,
         "textposition": "auto",
         "type": "bar",
         "x": [
          "Topic 2",
          "Topic 2",
          "Topic 0",
          "Topic 2",
          "Topic 1",
          "Topic 2",
          "Topic 1",
          "Topic 2",
          "Topic 2",
          "Topic 2",
          "Topic 2",
          "Topic 1",
          "Topic 2",
          "Topic 1",
          "Topic 2",
          "Topic 0",
          "Topic 2",
          "Topic 1",
          "Topic 1",
          "Topic 2",
          "Topic 2",
          "Topic 2",
          "Topic 1",
          "Topic 1",
          "Topic 1",
          "Topic 0",
          "Topic 1",
          "Topic 1",
          "Topic 1",
          "Topic 0",
          "Topic 1",
          "Topic 2",
          "Topic 1",
          "Topic 2",
          "Topic 0",
          "Topic 2",
          "Topic 2",
          "Topic 2",
          "Topic 2",
          "Topic 0",
          "Topic 0",
          "Topic 0",
          "Topic 0",
          "Topic 1",
          "Topic 1",
          "Topic 2",
          "Topic 2",
          "Topic 2",
          "Topic 2",
          "Topic 0",
          "Topic 0",
          "Topic 2",
          "Topic 2",
          "Topic 1",
          "Topic 2",
          "Topic 0",
          "Topic 2",
          "Topic 0",
          "Topic 2",
          "Topic 0",
          "Topic 0",
          "Topic 0",
          "Topic 1",
          "Topic 0",
          "Topic 2",
          "Topic 1",
          "Topic 0",
          "Topic 1",
          "Topic 1",
          "Topic 2",
          "Topic 1",
          "Topic 1",
          "Topic 2",
          "Topic 2",
          "Topic 0",
          "Topic 2",
          "Topic 2",
          "Topic 0",
          "Topic 1",
          "Topic 1",
          "Topic 1",
          "Topic 1",
          "Topic 1",
          "Topic 2",
          "Topic 2",
          "Topic 2",
          "Topic 2",
          "Topic 2",
          "Topic 1",
          "Topic 1",
          "Topic 1",
          "Topic 2",
          "Topic 2",
          "Topic 1",
          "Topic 2",
          "Topic 2",
          "Topic 2",
          "Topic 2",
          "Topic 1",
          "Topic 0",
          "Topic 2",
          "Topic 1",
          "Topic 1",
          "Topic 2"
         ],
         "xaxis": "x",
         "y": [
          0.99,
          0.99,
          0.99,
          0.95,
          0.98,
          0.97,
          0.97,
          0.93,
          0.93,
          0.93,
          0.88,
          0.85,
          0.98,
          0.97,
          0.88,
          0.98,
          0.97,
          0.99,
          0.97,
          0.97,
          0.97,
          0.99,
          0.97,
          0.97,
          0.98,
          0.91,
          0.81,
          0.98,
          0.58,
          0.98,
          0.99,
          0.45,
          0.95,
          0.88,
          0.95,
          0.99,
          0.97,
          0.99,
          0.97,
          0.98,
          0.99,
          0.98,
          0.98,
          0.85,
          0.97,
          0.98,
          0.99,
          0.98,
          0.98,
          0.98,
          0.98,
          0.97,
          0.99,
          0.91,
          0.99,
          0.69,
          0.98,
          0.96,
          0.98,
          0.98,
          0.99,
          0.97,
          0.85,
          0.96,
          0.97,
          0.85,
          0.98,
          0.85,
          0.99,
          0.97,
          0.95,
          0.85,
          0.6,
          0.73,
          0.97,
          0.98,
          0.98,
          0.98,
          0.85,
          0.91,
          0.98,
          0.98,
          0.94,
          0.97,
          0.99,
          0.93,
          0.99,
          0.99,
          0.96,
          0.98,
          0.91,
          0.57,
          0.99,
          0.98,
          0.99,
          0.98,
          0.98,
          0.97,
          0.97,
          0.98,
          0.98,
          0.97,
          0.98,
          0.88
         ],
         "yaxis": "y"
        },
        {
         "alignmentgroup": "True",
         "hovertemplate": "Class=inspirado_para<br>Dominant_Topic=%{x}<br>Perc_Dominant_Topic=%{y}<extra></extra>",
         "legendgroup": "inspirado_para",
         "marker": {
          "color": "#EF553B",
          "pattern": {
           "shape": ""
          }
         },
         "name": "inspirado_para",
         "offsetgroup": "inspirado_para",
         "orientation": "v",
         "showlegend": true,
         "textposition": "auto",
         "type": "bar",
         "x": [
          "Topic 2",
          "Topic 2",
          "Topic 0",
          "Topic 2",
          "Topic 1",
          "Topic 2",
          "Topic 0",
          "Topic 2",
          "Topic 2",
          "Topic 2",
          "Topic 2",
          "Topic 1",
          "Topic 0",
          "Topic 0",
          "Topic 0",
          "Topic 2",
          "Topic 2",
          "Topic 2",
          "Topic 2",
          "Topic 1",
          "Topic 1",
          "Topic 1",
          "Topic 2",
          "Topic 1",
          "Topic 0",
          "Topic 2",
          "Topic 0",
          "Topic 0",
          "Topic 1",
          "Topic 0",
          "Topic 2",
          "Topic 0",
          "Topic 1",
          "Topic 2",
          "Topic 2",
          "Topic 2",
          "Topic 0",
          "Topic 0",
          "Topic 0",
          "Topic 0",
          "Topic 0",
          "Topic 2",
          "Topic 2",
          "Topic 2",
          "Topic 2",
          "Topic 1",
          "Topic 1",
          "Topic 1",
          "Topic 1",
          "Topic 0",
          "Topic 2",
          "Topic 2",
          "Topic 2",
          "Topic 2",
          "Topic 2",
          "Topic 1",
          "Topic 1",
          "Topic 2",
          "Topic 0",
          "Topic 2",
          "Topic 0",
          "Topic 0",
          "Topic 2",
          "Topic 0",
          "Topic 2",
          "Topic 2",
          "Topic 2",
          "Topic 2",
          "Topic 2",
          "Topic 2",
          "Topic 0",
          "Topic 2",
          "Topic 1",
          "Topic 1",
          "Topic 2",
          "Topic 0",
          "Topic 1"
         ],
         "xaxis": "x",
         "y": [
          0.97,
          0.99,
          0.97,
          0.98,
          0.98,
          0.93,
          0.96,
          0.93,
          0.95,
          0.88,
          0.95,
          0.97,
          0.98,
          0.97,
          0.97,
          0.45,
          0.98,
          0.97,
          0.95,
          0.98,
          0.98,
          0.98,
          0.93,
          0.95,
          0.84,
          0.88,
          0.98,
          0.98,
          0.85,
          0.98,
          0.95,
          0.95,
          0.79,
          0.99,
          0.98,
          0.99,
          0.97,
          0.98,
          0.99,
          0.99,
          0.98,
          0.98,
          0.99,
          0.97,
          0.99,
          0.94,
          0.98,
          0.98,
          0.74,
          0.97,
          0.98,
          0.99,
          0.95,
          0.98,
          0.99,
          0.67,
          0.97,
          0.67,
          0.98,
          0.98,
          0.98,
          0.94,
          0.97,
          0.99,
          0.51,
          0.93,
          0.98,
          0.99,
          0.99,
          0.88,
          0.99,
          0.99,
          0.91,
          0.98,
          0.98,
          0.96,
          0.85
         ],
         "yaxis": "y"
        }
       ],
       "layout": {
        "barmode": "relative",
        "legend": {
         "title": {
          "text": "Class"
         },
         "tracegroupgap": 0
        },
        "margin": {
         "t": 60
        },
        "template": {
         "data": {
          "bar": [
           {
            "error_x": {
             "color": "#2a3f5f"
            },
            "error_y": {
             "color": "#2a3f5f"
            },
            "marker": {
             "line": {
              "color": "#E5ECF6",
              "width": 0.5
             },
             "pattern": {
              "fillmode": "overlay",
              "size": 10,
              "solidity": 0.2
             }
            },
            "type": "bar"
           }
          ],
          "barpolar": [
           {
            "marker": {
             "line": {
              "color": "#E5ECF6",
              "width": 0.5
             },
             "pattern": {
              "fillmode": "overlay",
              "size": 10,
              "solidity": 0.2
             }
            },
            "type": "barpolar"
           }
          ],
          "carpet": [
           {
            "aaxis": {
             "endlinecolor": "#2a3f5f",
             "gridcolor": "white",
             "linecolor": "white",
             "minorgridcolor": "white",
             "startlinecolor": "#2a3f5f"
            },
            "baxis": {
             "endlinecolor": "#2a3f5f",
             "gridcolor": "white",
             "linecolor": "white",
             "minorgridcolor": "white",
             "startlinecolor": "#2a3f5f"
            },
            "type": "carpet"
           }
          ],
          "choropleth": [
           {
            "colorbar": {
             "outlinewidth": 0,
             "ticks": ""
            },
            "type": "choropleth"
           }
          ],
          "contour": [
           {
            "colorbar": {
             "outlinewidth": 0,
             "ticks": ""
            },
            "colorscale": [
             [
              0,
              "#0d0887"
             ],
             [
              0.1111111111111111,
              "#46039f"
             ],
             [
              0.2222222222222222,
              "#7201a8"
             ],
             [
              0.3333333333333333,
              "#9c179e"
             ],
             [
              0.4444444444444444,
              "#bd3786"
             ],
             [
              0.5555555555555556,
              "#d8576b"
             ],
             [
              0.6666666666666666,
              "#ed7953"
             ],
             [
              0.7777777777777778,
              "#fb9f3a"
             ],
             [
              0.8888888888888888,
              "#fdca26"
             ],
             [
              1,
              "#f0f921"
             ]
            ],
            "type": "contour"
           }
          ],
          "contourcarpet": [
           {
            "colorbar": {
             "outlinewidth": 0,
             "ticks": ""
            },
            "type": "contourcarpet"
           }
          ],
          "heatmap": [
           {
            "colorbar": {
             "outlinewidth": 0,
             "ticks": ""
            },
            "colorscale": [
             [
              0,
              "#0d0887"
             ],
             [
              0.1111111111111111,
              "#46039f"
             ],
             [
              0.2222222222222222,
              "#7201a8"
             ],
             [
              0.3333333333333333,
              "#9c179e"
             ],
             [
              0.4444444444444444,
              "#bd3786"
             ],
             [
              0.5555555555555556,
              "#d8576b"
             ],
             [
              0.6666666666666666,
              "#ed7953"
             ],
             [
              0.7777777777777778,
              "#fb9f3a"
             ],
             [
              0.8888888888888888,
              "#fdca26"
             ],
             [
              1,
              "#f0f921"
             ]
            ],
            "type": "heatmap"
           }
          ],
          "heatmapgl": [
           {
            "colorbar": {
             "outlinewidth": 0,
             "ticks": ""
            },
            "colorscale": [
             [
              0,
              "#0d0887"
             ],
             [
              0.1111111111111111,
              "#46039f"
             ],
             [
              0.2222222222222222,
              "#7201a8"
             ],
             [
              0.3333333333333333,
              "#9c179e"
             ],
             [
              0.4444444444444444,
              "#bd3786"
             ],
             [
              0.5555555555555556,
              "#d8576b"
             ],
             [
              0.6666666666666666,
              "#ed7953"
             ],
             [
              0.7777777777777778,
              "#fb9f3a"
             ],
             [
              0.8888888888888888,
              "#fdca26"
             ],
             [
              1,
              "#f0f921"
             ]
            ],
            "type": "heatmapgl"
           }
          ],
          "histogram": [
           {
            "marker": {
             "pattern": {
              "fillmode": "overlay",
              "size": 10,
              "solidity": 0.2
             }
            },
            "type": "histogram"
           }
          ],
          "histogram2d": [
           {
            "colorbar": {
             "outlinewidth": 0,
             "ticks": ""
            },
            "colorscale": [
             [
              0,
              "#0d0887"
             ],
             [
              0.1111111111111111,
              "#46039f"
             ],
             [
              0.2222222222222222,
              "#7201a8"
             ],
             [
              0.3333333333333333,
              "#9c179e"
             ],
             [
              0.4444444444444444,
              "#bd3786"
             ],
             [
              0.5555555555555556,
              "#d8576b"
             ],
             [
              0.6666666666666666,
              "#ed7953"
             ],
             [
              0.7777777777777778,
              "#fb9f3a"
             ],
             [
              0.8888888888888888,
              "#fdca26"
             ],
             [
              1,
              "#f0f921"
             ]
            ],
            "type": "histogram2d"
           }
          ],
          "histogram2dcontour": [
           {
            "colorbar": {
             "outlinewidth": 0,
             "ticks": ""
            },
            "colorscale": [
             [
              0,
              "#0d0887"
             ],
             [
              0.1111111111111111,
              "#46039f"
             ],
             [
              0.2222222222222222,
              "#7201a8"
             ],
             [
              0.3333333333333333,
              "#9c179e"
             ],
             [
              0.4444444444444444,
              "#bd3786"
             ],
             [
              0.5555555555555556,
              "#d8576b"
             ],
             [
              0.6666666666666666,
              "#ed7953"
             ],
             [
              0.7777777777777778,
              "#fb9f3a"
             ],
             [
              0.8888888888888888,
              "#fdca26"
             ],
             [
              1,
              "#f0f921"
             ]
            ],
            "type": "histogram2dcontour"
           }
          ],
          "mesh3d": [
           {
            "colorbar": {
             "outlinewidth": 0,
             "ticks": ""
            },
            "type": "mesh3d"
           }
          ],
          "parcoords": [
           {
            "line": {
             "colorbar": {
              "outlinewidth": 0,
              "ticks": ""
             }
            },
            "type": "parcoords"
           }
          ],
          "pie": [
           {
            "automargin": true,
            "type": "pie"
           }
          ],
          "scatter": [
           {
            "marker": {
             "colorbar": {
              "outlinewidth": 0,
              "ticks": ""
             }
            },
            "type": "scatter"
           }
          ],
          "scatter3d": [
           {
            "line": {
             "colorbar": {
              "outlinewidth": 0,
              "ticks": ""
             }
            },
            "marker": {
             "colorbar": {
              "outlinewidth": 0,
              "ticks": ""
             }
            },
            "type": "scatter3d"
           }
          ],
          "scattercarpet": [
           {
            "marker": {
             "colorbar": {
              "outlinewidth": 0,
              "ticks": ""
             }
            },
            "type": "scattercarpet"
           }
          ],
          "scattergeo": [
           {
            "marker": {
             "colorbar": {
              "outlinewidth": 0,
              "ticks": ""
             }
            },
            "type": "scattergeo"
           }
          ],
          "scattergl": [
           {
            "marker": {
             "colorbar": {
              "outlinewidth": 0,
              "ticks": ""
             }
            },
            "type": "scattergl"
           }
          ],
          "scattermapbox": [
           {
            "marker": {
             "colorbar": {
              "outlinewidth": 0,
              "ticks": ""
             }
            },
            "type": "scattermapbox"
           }
          ],
          "scatterpolar": [
           {
            "marker": {
             "colorbar": {
              "outlinewidth": 0,
              "ticks": ""
             }
            },
            "type": "scatterpolar"
           }
          ],
          "scatterpolargl": [
           {
            "marker": {
             "colorbar": {
              "outlinewidth": 0,
              "ticks": ""
             }
            },
            "type": "scatterpolargl"
           }
          ],
          "scatterternary": [
           {
            "marker": {
             "colorbar": {
              "outlinewidth": 0,
              "ticks": ""
             }
            },
            "type": "scatterternary"
           }
          ],
          "surface": [
           {
            "colorbar": {
             "outlinewidth": 0,
             "ticks": ""
            },
            "colorscale": [
             [
              0,
              "#0d0887"
             ],
             [
              0.1111111111111111,
              "#46039f"
             ],
             [
              0.2222222222222222,
              "#7201a8"
             ],
             [
              0.3333333333333333,
              "#9c179e"
             ],
             [
              0.4444444444444444,
              "#bd3786"
             ],
             [
              0.5555555555555556,
              "#d8576b"
             ],
             [
              0.6666666666666666,
              "#ed7953"
             ],
             [
              0.7777777777777778,
              "#fb9f3a"
             ],
             [
              0.8888888888888888,
              "#fdca26"
             ],
             [
              1,
              "#f0f921"
             ]
            ],
            "type": "surface"
           }
          ],
          "table": [
           {
            "cells": {
             "fill": {
              "color": "#EBF0F8"
             },
             "line": {
              "color": "white"
             }
            },
            "header": {
             "fill": {
              "color": "#C8D4E3"
             },
             "line": {
              "color": "white"
             }
            },
            "type": "table"
           }
          ]
         },
         "layout": {
          "annotationdefaults": {
           "arrowcolor": "#2a3f5f",
           "arrowhead": 0,
           "arrowwidth": 1
          },
          "autotypenumbers": "strict",
          "coloraxis": {
           "colorbar": {
            "outlinewidth": 0,
            "ticks": ""
           }
          },
          "colorscale": {
           "diverging": [
            [
             0,
             "#8e0152"
            ],
            [
             0.1,
             "#c51b7d"
            ],
            [
             0.2,
             "#de77ae"
            ],
            [
             0.3,
             "#f1b6da"
            ],
            [
             0.4,
             "#fde0ef"
            ],
            [
             0.5,
             "#f7f7f7"
            ],
            [
             0.6,
             "#e6f5d0"
            ],
            [
             0.7,
             "#b8e186"
            ],
            [
             0.8,
             "#7fbc41"
            ],
            [
             0.9,
             "#4d9221"
            ],
            [
             1,
             "#276419"
            ]
           ],
           "sequential": [
            [
             0,
             "#0d0887"
            ],
            [
             0.1111111111111111,
             "#46039f"
            ],
            [
             0.2222222222222222,
             "#7201a8"
            ],
            [
             0.3333333333333333,
             "#9c179e"
            ],
            [
             0.4444444444444444,
             "#bd3786"
            ],
            [
             0.5555555555555556,
             "#d8576b"
            ],
            [
             0.6666666666666666,
             "#ed7953"
            ],
            [
             0.7777777777777778,
             "#fb9f3a"
            ],
            [
             0.8888888888888888,
             "#fdca26"
            ],
            [
             1,
             "#f0f921"
            ]
           ],
           "sequentialminus": [
            [
             0,
             "#0d0887"
            ],
            [
             0.1111111111111111,
             "#46039f"
            ],
            [
             0.2222222222222222,
             "#7201a8"
            ],
            [
             0.3333333333333333,
             "#9c179e"
            ],
            [
             0.4444444444444444,
             "#bd3786"
            ],
            [
             0.5555555555555556,
             "#d8576b"
            ],
            [
             0.6666666666666666,
             "#ed7953"
            ],
            [
             0.7777777777777778,
             "#fb9f3a"
            ],
            [
             0.8888888888888888,
             "#fdca26"
            ],
            [
             1,
             "#f0f921"
            ]
           ]
          },
          "colorway": [
           "#636efa",
           "#EF553B",
           "#00cc96",
           "#ab63fa",
           "#FFA15A",
           "#19d3f3",
           "#FF6692",
           "#B6E880",
           "#FF97FF",
           "#FECB52"
          ],
          "font": {
           "color": "#2a3f5f"
          },
          "geo": {
           "bgcolor": "white",
           "lakecolor": "white",
           "landcolor": "#E5ECF6",
           "showlakes": true,
           "showland": true,
           "subunitcolor": "white"
          },
          "hoverlabel": {
           "align": "left"
          },
          "hovermode": "closest",
          "mapbox": {
           "style": "light"
          },
          "paper_bgcolor": "white",
          "plot_bgcolor": "#E5ECF6",
          "polar": {
           "angularaxis": {
            "gridcolor": "white",
            "linecolor": "white",
            "ticks": ""
           },
           "bgcolor": "#E5ECF6",
           "radialaxis": {
            "gridcolor": "white",
            "linecolor": "white",
            "ticks": ""
           }
          },
          "scene": {
           "xaxis": {
            "backgroundcolor": "#E5ECF6",
            "gridcolor": "white",
            "gridwidth": 2,
            "linecolor": "white",
            "showbackground": true,
            "ticks": "",
            "zerolinecolor": "white"
           },
           "yaxis": {
            "backgroundcolor": "#E5ECF6",
            "gridcolor": "white",
            "gridwidth": 2,
            "linecolor": "white",
            "showbackground": true,
            "ticks": "",
            "zerolinecolor": "white"
           },
           "zaxis": {
            "backgroundcolor": "#E5ECF6",
            "gridcolor": "white",
            "gridwidth": 2,
            "linecolor": "white",
            "showbackground": true,
            "ticks": "",
            "zerolinecolor": "white"
           }
          },
          "shapedefaults": {
           "line": {
            "color": "#2a3f5f"
           }
          },
          "ternary": {
           "aaxis": {
            "gridcolor": "white",
            "linecolor": "white",
            "ticks": ""
           },
           "baxis": {
            "gridcolor": "white",
            "linecolor": "white",
            "ticks": ""
           },
           "bgcolor": "#E5ECF6",
           "caxis": {
            "gridcolor": "white",
            "linecolor": "white",
            "ticks": ""
           }
          },
          "title": {
           "x": 0.05
          },
          "xaxis": {
           "automargin": true,
           "gridcolor": "white",
           "linecolor": "white",
           "ticks": "",
           "title": {
            "standoff": 15
           },
           "zerolinecolor": "white",
           "zerolinewidth": 2
          },
          "yaxis": {
           "automargin": true,
           "gridcolor": "white",
           "linecolor": "white",
           "ticks": "",
           "title": {
            "standoff": 15
           },
           "zerolinecolor": "white",
           "zerolinewidth": 2
          }
         }
        },
        "xaxis": {
         "anchor": "y",
         "domain": [
          0,
          1
         ],
         "title": {
          "text": "Dominant_Topic"
         }
        },
        "yaxis": {
         "anchor": "x",
         "domain": [
          0,
          1
         ],
         "title": {
          "text": "Perc_Dominant_Topic"
         }
        }
       }
      },
      "text/html": [
       "<div>                            <div id=\"5879a439-b3a3-4a5e-8325-59e00a9ce041\" class=\"plotly-graph-div\" style=\"height:525px; width:100%;\"></div>            <script type=\"text/javascript\">                require([\"plotly\"], function(Plotly) {                    window.PLOTLYENV=window.PLOTLYENV || {};                                    if (document.getElementById(\"5879a439-b3a3-4a5e-8325-59e00a9ce041\")) {                    Plotly.newPlot(                        \"5879a439-b3a3-4a5e-8325-59e00a9ce041\",                        [{\"alignmentgroup\":\"True\",\"hovertemplate\":\"Class=inspirado_por<br>Dominant_Topic=%{x}<br>Perc_Dominant_Topic=%{y}<extra></extra>\",\"legendgroup\":\"inspirado_por\",\"marker\":{\"color\":\"#636efa\",\"pattern\":{\"shape\":\"\"}},\"name\":\"inspirado_por\",\"offsetgroup\":\"inspirado_por\",\"orientation\":\"v\",\"showlegend\":true,\"textposition\":\"auto\",\"type\":\"bar\",\"x\":[\"Topic 2\",\"Topic 2\",\"Topic 0\",\"Topic 2\",\"Topic 1\",\"Topic 2\",\"Topic 1\",\"Topic 2\",\"Topic 2\",\"Topic 2\",\"Topic 2\",\"Topic 1\",\"Topic 2\",\"Topic 1\",\"Topic 2\",\"Topic 0\",\"Topic 2\",\"Topic 1\",\"Topic 1\",\"Topic 2\",\"Topic 2\",\"Topic 2\",\"Topic 1\",\"Topic 1\",\"Topic 1\",\"Topic 0\",\"Topic 1\",\"Topic 1\",\"Topic 1\",\"Topic 0\",\"Topic 1\",\"Topic 2\",\"Topic 1\",\"Topic 2\",\"Topic 0\",\"Topic 2\",\"Topic 2\",\"Topic 2\",\"Topic 2\",\"Topic 0\",\"Topic 0\",\"Topic 0\",\"Topic 0\",\"Topic 1\",\"Topic 1\",\"Topic 2\",\"Topic 2\",\"Topic 2\",\"Topic 2\",\"Topic 0\",\"Topic 0\",\"Topic 2\",\"Topic 2\",\"Topic 1\",\"Topic 2\",\"Topic 0\",\"Topic 2\",\"Topic 0\",\"Topic 2\",\"Topic 0\",\"Topic 0\",\"Topic 0\",\"Topic 1\",\"Topic 0\",\"Topic 2\",\"Topic 1\",\"Topic 0\",\"Topic 1\",\"Topic 1\",\"Topic 2\",\"Topic 1\",\"Topic 1\",\"Topic 2\",\"Topic 2\",\"Topic 0\",\"Topic 2\",\"Topic 2\",\"Topic 0\",\"Topic 1\",\"Topic 1\",\"Topic 1\",\"Topic 1\",\"Topic 1\",\"Topic 2\",\"Topic 2\",\"Topic 2\",\"Topic 2\",\"Topic 2\",\"Topic 1\",\"Topic 1\",\"Topic 1\",\"Topic 2\",\"Topic 2\",\"Topic 1\",\"Topic 2\",\"Topic 2\",\"Topic 2\",\"Topic 2\",\"Topic 1\",\"Topic 0\",\"Topic 2\",\"Topic 1\",\"Topic 1\",\"Topic 2\"],\"xaxis\":\"x\",\"y\":[0.99,0.99,0.99,0.95,0.98,0.97,0.97,0.93,0.93,0.93,0.88,0.85,0.98,0.97,0.88,0.98,0.97,0.99,0.97,0.97,0.97,0.99,0.97,0.97,0.98,0.91,0.81,0.98,0.58,0.98,0.99,0.45,0.95,0.88,0.95,0.99,0.97,0.99,0.97,0.98,0.99,0.98,0.98,0.85,0.97,0.98,0.99,0.98,0.98,0.98,0.98,0.97,0.99,0.91,0.99,0.69,0.98,0.96,0.98,0.98,0.99,0.97,0.85,0.96,0.97,0.85,0.98,0.85,0.99,0.97,0.95,0.85,0.6,0.73,0.97,0.98,0.98,0.98,0.85,0.91,0.98,0.98,0.94,0.97,0.99,0.93,0.99,0.99,0.96,0.98,0.91,0.57,0.99,0.98,0.99,0.98,0.98,0.97,0.97,0.98,0.98,0.97,0.98,0.88],\"yaxis\":\"y\"},{\"alignmentgroup\":\"True\",\"hovertemplate\":\"Class=inspirado_para<br>Dominant_Topic=%{x}<br>Perc_Dominant_Topic=%{y}<extra></extra>\",\"legendgroup\":\"inspirado_para\",\"marker\":{\"color\":\"#EF553B\",\"pattern\":{\"shape\":\"\"}},\"name\":\"inspirado_para\",\"offsetgroup\":\"inspirado_para\",\"orientation\":\"v\",\"showlegend\":true,\"textposition\":\"auto\",\"type\":\"bar\",\"x\":[\"Topic 2\",\"Topic 2\",\"Topic 0\",\"Topic 2\",\"Topic 1\",\"Topic 2\",\"Topic 0\",\"Topic 2\",\"Topic 2\",\"Topic 2\",\"Topic 2\",\"Topic 1\",\"Topic 0\",\"Topic 0\",\"Topic 0\",\"Topic 2\",\"Topic 2\",\"Topic 2\",\"Topic 2\",\"Topic 1\",\"Topic 1\",\"Topic 1\",\"Topic 2\",\"Topic 1\",\"Topic 0\",\"Topic 2\",\"Topic 0\",\"Topic 0\",\"Topic 1\",\"Topic 0\",\"Topic 2\",\"Topic 0\",\"Topic 1\",\"Topic 2\",\"Topic 2\",\"Topic 2\",\"Topic 0\",\"Topic 0\",\"Topic 0\",\"Topic 0\",\"Topic 0\",\"Topic 2\",\"Topic 2\",\"Topic 2\",\"Topic 2\",\"Topic 1\",\"Topic 1\",\"Topic 1\",\"Topic 1\",\"Topic 0\",\"Topic 2\",\"Topic 2\",\"Topic 2\",\"Topic 2\",\"Topic 2\",\"Topic 1\",\"Topic 1\",\"Topic 2\",\"Topic 0\",\"Topic 2\",\"Topic 0\",\"Topic 0\",\"Topic 2\",\"Topic 0\",\"Topic 2\",\"Topic 2\",\"Topic 2\",\"Topic 2\",\"Topic 2\",\"Topic 2\",\"Topic 0\",\"Topic 2\",\"Topic 1\",\"Topic 1\",\"Topic 2\",\"Topic 0\",\"Topic 1\"],\"xaxis\":\"x\",\"y\":[0.97,0.99,0.97,0.98,0.98,0.93,0.96,0.93,0.95,0.88,0.95,0.97,0.98,0.97,0.97,0.45,0.98,0.97,0.95,0.98,0.98,0.98,0.93,0.95,0.84,0.88,0.98,0.98,0.85,0.98,0.95,0.95,0.79,0.99,0.98,0.99,0.97,0.98,0.99,0.99,0.98,0.98,0.99,0.97,0.99,0.94,0.98,0.98,0.74,0.97,0.98,0.99,0.95,0.98,0.99,0.67,0.97,0.67,0.98,0.98,0.98,0.94,0.97,0.99,0.51,0.93,0.98,0.99,0.99,0.88,0.99,0.99,0.91,0.98,0.98,0.96,0.85],\"yaxis\":\"y\"}],                        {\"barmode\":\"relative\",\"legend\":{\"title\":{\"text\":\"Class\"},\"tracegroupgap\":0},\"margin\":{\"t\":60},\"template\":{\"data\":{\"bar\":[{\"error_x\":{\"color\":\"#2a3f5f\"},\"error_y\":{\"color\":\"#2a3f5f\"},\"marker\":{\"line\":{\"color\":\"#E5ECF6\",\"width\":0.5},\"pattern\":{\"fillmode\":\"overlay\",\"size\":10,\"solidity\":0.2}},\"type\":\"bar\"}],\"barpolar\":[{\"marker\":{\"line\":{\"color\":\"#E5ECF6\",\"width\":0.5},\"pattern\":{\"fillmode\":\"overlay\",\"size\":10,\"solidity\":0.2}},\"type\":\"barpolar\"}],\"carpet\":[{\"aaxis\":{\"endlinecolor\":\"#2a3f5f\",\"gridcolor\":\"white\",\"linecolor\":\"white\",\"minorgridcolor\":\"white\",\"startlinecolor\":\"#2a3f5f\"},\"baxis\":{\"endlinecolor\":\"#2a3f5f\",\"gridcolor\":\"white\",\"linecolor\":\"white\",\"minorgridcolor\":\"white\",\"startlinecolor\":\"#2a3f5f\"},\"type\":\"carpet\"}],\"choropleth\":[{\"colorbar\":{\"outlinewidth\":0,\"ticks\":\"\"},\"type\":\"choropleth\"}],\"contour\":[{\"colorbar\":{\"outlinewidth\":0,\"ticks\":\"\"},\"colorscale\":[[0.0,\"#0d0887\"],[0.1111111111111111,\"#46039f\"],[0.2222222222222222,\"#7201a8\"],[0.3333333333333333,\"#9c179e\"],[0.4444444444444444,\"#bd3786\"],[0.5555555555555556,\"#d8576b\"],[0.6666666666666666,\"#ed7953\"],[0.7777777777777778,\"#fb9f3a\"],[0.8888888888888888,\"#fdca26\"],[1.0,\"#f0f921\"]],\"type\":\"contour\"}],\"contourcarpet\":[{\"colorbar\":{\"outlinewidth\":0,\"ticks\":\"\"},\"type\":\"contourcarpet\"}],\"heatmap\":[{\"colorbar\":{\"outlinewidth\":0,\"ticks\":\"\"},\"colorscale\":[[0.0,\"#0d0887\"],[0.1111111111111111,\"#46039f\"],[0.2222222222222222,\"#7201a8\"],[0.3333333333333333,\"#9c179e\"],[0.4444444444444444,\"#bd3786\"],[0.5555555555555556,\"#d8576b\"],[0.6666666666666666,\"#ed7953\"],[0.7777777777777778,\"#fb9f3a\"],[0.8888888888888888,\"#fdca26\"],[1.0,\"#f0f921\"]],\"type\":\"heatmap\"}],\"heatmapgl\":[{\"colorbar\":{\"outlinewidth\":0,\"ticks\":\"\"},\"colorscale\":[[0.0,\"#0d0887\"],[0.1111111111111111,\"#46039f\"],[0.2222222222222222,\"#7201a8\"],[0.3333333333333333,\"#9c179e\"],[0.4444444444444444,\"#bd3786\"],[0.5555555555555556,\"#d8576b\"],[0.6666666666666666,\"#ed7953\"],[0.7777777777777778,\"#fb9f3a\"],[0.8888888888888888,\"#fdca26\"],[1.0,\"#f0f921\"]],\"type\":\"heatmapgl\"}],\"histogram\":[{\"marker\":{\"pattern\":{\"fillmode\":\"overlay\",\"size\":10,\"solidity\":0.2}},\"type\":\"histogram\"}],\"histogram2d\":[{\"colorbar\":{\"outlinewidth\":0,\"ticks\":\"\"},\"colorscale\":[[0.0,\"#0d0887\"],[0.1111111111111111,\"#46039f\"],[0.2222222222222222,\"#7201a8\"],[0.3333333333333333,\"#9c179e\"],[0.4444444444444444,\"#bd3786\"],[0.5555555555555556,\"#d8576b\"],[0.6666666666666666,\"#ed7953\"],[0.7777777777777778,\"#fb9f3a\"],[0.8888888888888888,\"#fdca26\"],[1.0,\"#f0f921\"]],\"type\":\"histogram2d\"}],\"histogram2dcontour\":[{\"colorbar\":{\"outlinewidth\":0,\"ticks\":\"\"},\"colorscale\":[[0.0,\"#0d0887\"],[0.1111111111111111,\"#46039f\"],[0.2222222222222222,\"#7201a8\"],[0.3333333333333333,\"#9c179e\"],[0.4444444444444444,\"#bd3786\"],[0.5555555555555556,\"#d8576b\"],[0.6666666666666666,\"#ed7953\"],[0.7777777777777778,\"#fb9f3a\"],[0.8888888888888888,\"#fdca26\"],[1.0,\"#f0f921\"]],\"type\":\"histogram2dcontour\"}],\"mesh3d\":[{\"colorbar\":{\"outlinewidth\":0,\"ticks\":\"\"},\"type\":\"mesh3d\"}],\"parcoords\":[{\"line\":{\"colorbar\":{\"outlinewidth\":0,\"ticks\":\"\"}},\"type\":\"parcoords\"}],\"pie\":[{\"automargin\":true,\"type\":\"pie\"}],\"scatter\":[{\"marker\":{\"colorbar\":{\"outlinewidth\":0,\"ticks\":\"\"}},\"type\":\"scatter\"}],\"scatter3d\":[{\"line\":{\"colorbar\":{\"outlinewidth\":0,\"ticks\":\"\"}},\"marker\":{\"colorbar\":{\"outlinewidth\":0,\"ticks\":\"\"}},\"type\":\"scatter3d\"}],\"scattercarpet\":[{\"marker\":{\"colorbar\":{\"outlinewidth\":0,\"ticks\":\"\"}},\"type\":\"scattercarpet\"}],\"scattergeo\":[{\"marker\":{\"colorbar\":{\"outlinewidth\":0,\"ticks\":\"\"}},\"type\":\"scattergeo\"}],\"scattergl\":[{\"marker\":{\"colorbar\":{\"outlinewidth\":0,\"ticks\":\"\"}},\"type\":\"scattergl\"}],\"scattermapbox\":[{\"marker\":{\"colorbar\":{\"outlinewidth\":0,\"ticks\":\"\"}},\"type\":\"scattermapbox\"}],\"scatterpolar\":[{\"marker\":{\"colorbar\":{\"outlinewidth\":0,\"ticks\":\"\"}},\"type\":\"scatterpolar\"}],\"scatterpolargl\":[{\"marker\":{\"colorbar\":{\"outlinewidth\":0,\"ticks\":\"\"}},\"type\":\"scatterpolargl\"}],\"scatterternary\":[{\"marker\":{\"colorbar\":{\"outlinewidth\":0,\"ticks\":\"\"}},\"type\":\"scatterternary\"}],\"surface\":[{\"colorbar\":{\"outlinewidth\":0,\"ticks\":\"\"},\"colorscale\":[[0.0,\"#0d0887\"],[0.1111111111111111,\"#46039f\"],[0.2222222222222222,\"#7201a8\"],[0.3333333333333333,\"#9c179e\"],[0.4444444444444444,\"#bd3786\"],[0.5555555555555556,\"#d8576b\"],[0.6666666666666666,\"#ed7953\"],[0.7777777777777778,\"#fb9f3a\"],[0.8888888888888888,\"#fdca26\"],[1.0,\"#f0f921\"]],\"type\":\"surface\"}],\"table\":[{\"cells\":{\"fill\":{\"color\":\"#EBF0F8\"},\"line\":{\"color\":\"white\"}},\"header\":{\"fill\":{\"color\":\"#C8D4E3\"},\"line\":{\"color\":\"white\"}},\"type\":\"table\"}]},\"layout\":{\"annotationdefaults\":{\"arrowcolor\":\"#2a3f5f\",\"arrowhead\":0,\"arrowwidth\":1},\"autotypenumbers\":\"strict\",\"coloraxis\":{\"colorbar\":{\"outlinewidth\":0,\"ticks\":\"\"}},\"colorscale\":{\"diverging\":[[0,\"#8e0152\"],[0.1,\"#c51b7d\"],[0.2,\"#de77ae\"],[0.3,\"#f1b6da\"],[0.4,\"#fde0ef\"],[0.5,\"#f7f7f7\"],[0.6,\"#e6f5d0\"],[0.7,\"#b8e186\"],[0.8,\"#7fbc41\"],[0.9,\"#4d9221\"],[1,\"#276419\"]],\"sequential\":[[0.0,\"#0d0887\"],[0.1111111111111111,\"#46039f\"],[0.2222222222222222,\"#7201a8\"],[0.3333333333333333,\"#9c179e\"],[0.4444444444444444,\"#bd3786\"],[0.5555555555555556,\"#d8576b\"],[0.6666666666666666,\"#ed7953\"],[0.7777777777777778,\"#fb9f3a\"],[0.8888888888888888,\"#fdca26\"],[1.0,\"#f0f921\"]],\"sequentialminus\":[[0.0,\"#0d0887\"],[0.1111111111111111,\"#46039f\"],[0.2222222222222222,\"#7201a8\"],[0.3333333333333333,\"#9c179e\"],[0.4444444444444444,\"#bd3786\"],[0.5555555555555556,\"#d8576b\"],[0.6666666666666666,\"#ed7953\"],[0.7777777777777778,\"#fb9f3a\"],[0.8888888888888888,\"#fdca26\"],[1.0,\"#f0f921\"]]},\"colorway\":[\"#636efa\",\"#EF553B\",\"#00cc96\",\"#ab63fa\",\"#FFA15A\",\"#19d3f3\",\"#FF6692\",\"#B6E880\",\"#FF97FF\",\"#FECB52\"],\"font\":{\"color\":\"#2a3f5f\"},\"geo\":{\"bgcolor\":\"white\",\"lakecolor\":\"white\",\"landcolor\":\"#E5ECF6\",\"showlakes\":true,\"showland\":true,\"subunitcolor\":\"white\"},\"hoverlabel\":{\"align\":\"left\"},\"hovermode\":\"closest\",\"mapbox\":{\"style\":\"light\"},\"paper_bgcolor\":\"white\",\"plot_bgcolor\":\"#E5ECF6\",\"polar\":{\"angularaxis\":{\"gridcolor\":\"white\",\"linecolor\":\"white\",\"ticks\":\"\"},\"bgcolor\":\"#E5ECF6\",\"radialaxis\":{\"gridcolor\":\"white\",\"linecolor\":\"white\",\"ticks\":\"\"}},\"scene\":{\"xaxis\":{\"backgroundcolor\":\"#E5ECF6\",\"gridcolor\":\"white\",\"gridwidth\":2,\"linecolor\":\"white\",\"showbackground\":true,\"ticks\":\"\",\"zerolinecolor\":\"white\"},\"yaxis\":{\"backgroundcolor\":\"#E5ECF6\",\"gridcolor\":\"white\",\"gridwidth\":2,\"linecolor\":\"white\",\"showbackground\":true,\"ticks\":\"\",\"zerolinecolor\":\"white\"},\"zaxis\":{\"backgroundcolor\":\"#E5ECF6\",\"gridcolor\":\"white\",\"gridwidth\":2,\"linecolor\":\"white\",\"showbackground\":true,\"ticks\":\"\",\"zerolinecolor\":\"white\"}},\"shapedefaults\":{\"line\":{\"color\":\"#2a3f5f\"}},\"ternary\":{\"aaxis\":{\"gridcolor\":\"white\",\"linecolor\":\"white\",\"ticks\":\"\"},\"baxis\":{\"gridcolor\":\"white\",\"linecolor\":\"white\",\"ticks\":\"\"},\"bgcolor\":\"#E5ECF6\",\"caxis\":{\"gridcolor\":\"white\",\"linecolor\":\"white\",\"ticks\":\"\"}},\"title\":{\"x\":0.05},\"xaxis\":{\"automargin\":true,\"gridcolor\":\"white\",\"linecolor\":\"white\",\"ticks\":\"\",\"title\":{\"standoff\":15},\"zerolinecolor\":\"white\",\"zerolinewidth\":2},\"yaxis\":{\"automargin\":true,\"gridcolor\":\"white\",\"linecolor\":\"white\",\"ticks\":\"\",\"title\":{\"standoff\":15},\"zerolinecolor\":\"white\",\"zerolinewidth\":2}}},\"xaxis\":{\"anchor\":\"y\",\"domain\":[0.0,1.0],\"title\":{\"text\":\"Dominant_Topic\"}},\"yaxis\":{\"anchor\":\"x\",\"domain\":[0.0,1.0],\"title\":{\"text\":\"Perc_Dominant_Topic\"}}},                        {\"responsive\": true}                    ).then(function(){\n",
       "                            \n",
       "var gd = document.getElementById('5879a439-b3a3-4a5e-8325-59e00a9ce041');\n",
       "var x = new MutationObserver(function (mutations, observer) {{\n",
       "        var display = window.getComputedStyle(gd).display;\n",
       "        if (!display || display === 'none') {{\n",
       "            console.log([gd, 'removed!']);\n",
       "            Plotly.purge(gd);\n",
       "            observer.disconnect();\n",
       "        }}\n",
       "}});\n",
       "\n",
       "// Listen for the removal of the full notebook cells\n",
       "var notebookContainer = gd.closest('#notebook-container');\n",
       "if (notebookContainer) {{\n",
       "    x.observe(notebookContainer, {childList: true});\n",
       "}}\n",
       "\n",
       "// Listen for the clearing of the current output cell\n",
       "var outputEl = gd.closest('.output');\n",
       "if (outputEl) {{\n",
       "    x.observe(outputEl, {childList: true});\n",
       "}}\n",
       "\n",
       "                        })                };                });            </script>        </div>"
      ]
     },
     "metadata": {},
     "output_type": "display_data"
    }
   ],
   "source": [
    "import plotly.express as px\n",
    "fig2 = px.bar(lda_data, x=lda_data[\"Dominant_Topic\"], y=lda_data[\"Perc_Dominant_Topic\"], color=lda_data[\"Class\"])\n",
    "fig2.write_html(\"Figures/acumm_distri.html\")\n",
    "fig2.show()"
   ]
  },
  {
   "cell_type": "code",
   "execution_count": 15,
   "id": "ccd1e35c",
   "metadata": {},
   "outputs": [
    {
     "data": {
      "text/html": [
       "        <script type=\"text/javascript\">\n",
       "        window.PlotlyConfig = {MathJaxConfig: 'local'};\n",
       "        if (window.MathJax) {MathJax.Hub.Config({SVG: {font: \"STIX-Web\"}});}\n",
       "        if (typeof require !== 'undefined') {\n",
       "        require.undef(\"plotly\");\n",
       "        requirejs.config({\n",
       "            paths: {\n",
       "                'plotly': ['https://cdn.plot.ly/plotly-2.4.2.min']\n",
       "            }\n",
       "        });\n",
       "        require(['plotly'], function(Plotly) {\n",
       "            window._Plotly = Plotly;\n",
       "        });\n",
       "        }\n",
       "        </script>\n",
       "        "
      ]
     },
     "metadata": {},
     "output_type": "display_data"
    },
    {
     "data": {
      "text/html": [
       "\n",
       "<link rel=\"stylesheet\" type=\"text/css\" href=\"https://cdn.jsdelivr.net/gh/bmabey/pyLDAvis@3.3.1/pyLDAvis/js/ldavis.v1.0.0.css\">\n",
       "\n",
       "\n",
       "<div id=\"ldavis_el46631405933492750885123932072\"></div>\n",
       "<script type=\"text/javascript\">\n",
       "\n",
       "var ldavis_el46631405933492750885123932072_data = {\"mdsDat\": {\"x\": [-0.04381530050961076, 0.12045724440131622, -0.07664194389170548], \"y\": [0.12692156652860637, -0.024762020802186903, -0.10215954572641946], \"topics\": [1, 2, 3], \"cluster\": [1, 1, 1], \"Freq\": [43.42716367449187, 31.388058397198233, 25.1847779283099]}, \"tinfo\": {\"Term\": [\"nike\", \"deporte\", \"persona\", \"ver\", \"ropa\", \"chevere\", \"correr\", \"cuanto\", \"video\", \"compra\", \"mensaje\", \"resultado\", \"mejor\", \"hazlo\", \"ultimo\", \"ahi\", \"grande\", \"cualqui\", \"siempre\", \"hora\", \"revise\", \"virtual\", \"tienda\", \"vida\", \"comune\", \"tema\", \"inspiracion\", \"veia\", \"pueda\", \"oye\", \"tema\", \"meno\", \"tiempo\", \"basquet\", \"sale\", \"salian\", \"clip\", \"chequear\", \"bonita\", \"rede\", \"dije\", \"estilo\", \"cualquier\", \"video\", \"justo\", \"motivacionale\", \"inspiracionale\", \"youtube\", \"conoce\", \"conversacion\", \"mencionan\", \"comprarme\", \"pandemia\", \"joven\", \"nio\", \"practique\", \"remotamente\", \"siente\", \"accione\", \"busque\", \"vida\", \"deporte\", \"final\", \"hacer\", \"ver\", \"ropa\", \"haciendo\", \"atleta\", \"marca\", \"visto\", \"send\", \"accion\", \"voy\", \"motivacion\", \"puede\", \"deportista\", \"creo\", \"inspiracion\", \"mujere\", \"comercial\", \"inspira\", \"nike\", \"chevere\", \"mensaje\", \"ultimo\", \"veia\", \"deportivos\", \"lloro\", \"evento\", \"llore\", \"termine\", \"caso\", \"mismo\", \"color\", \"aos\", \"inspiro\", \"transmitiendo\", \"futbol\", \"probablemente\", \"surgio\", \"referente\", \"podium\", \"salir\", \"ejemplo\", \"rubro\", \"personal\", \"colore\", \"gusta\", \"llamativos\", \"vez\", \"deja\", \"siempre\", \"correr\", \"hora\", \"puse\", \"persona\", \"creo\", \"ver\", \"ropa\", \"super\", \"diferente\", \"deporte\", \"hacer\", \"comercial\", \"sentir\", \"mujere\", \"puede\", \"algun\", \"inspira\", \"visto\", \"cuanto\", \"resultado\", \"mejor\", \"grande\", \"ahi\", \"cualqui\", \"revise\", \"virtual\", \"tienda\", \"pueda\", \"utilizan\", \"campaas\", \"compra\", \"medium\", \"inspiracional\", \"muestran\", \"foto\", \"usan\", \"probable\", \"vuelve\", \"factor\", \"importante\", \"producto\", \"nivel\", \"comune\", \"pienso\", \"decisione\", \"objetivo\", \"opinion\", \"olvide\", \"hazlo\", \"persona\", \"oye\", \"manera\", \"inspiracion\", \"inspira\", \"deportista\", \"solo\", \"puede\", \"cuerpo\", \"marca\", \"dice\", \"creo\", \"obviamente\", \"alguna_manera\", \"deporte\", \"hora\"], \"Freq\": [9.0, 48.0, 17.0, 25.0, 22.0, 5.0, 7.0, 3.0, 11.0, 4.0, 4.0, 3.0, 3.0, 5.0, 4.0, 3.0, 3.0, 3.0, 4.0, 6.0, 3.0, 3.0, 3.0, 10.0, 3.0, 5.0, 8.0, 3.0, 2.0, 4.0, 5.161150290464786, 3.8874507911595044, 3.887440081403513, 3.8874323168304197, 3.8567170043914745, 3.4416269429639197, 3.4280164495624663, 3.314203604899775, 3.532278333832179, 2.995910460072147, 2.995908853608748, 2.868517377068678, 2.8685128254223815, 9.709782861401203, 2.422748416372548, 2.4227478808847485, 2.4227478808847485, 2.4227476131408485, 2.4227259258849663, 2.295258677821258, 2.295258677821258, 2.294944881970715, 2.2948755363006716, 2.2947633516066634, 2.2947633516066634, 2.2947633516066634, 2.2947633516066634, 6.261704629172068, 2.746239809014419, 2.2793209544429103, 8.6002205469297, 38.25053182413166, 5.8558145158848784, 17.682757096875598, 17.643627932386043, 15.638525996196156, 5.466864023649016, 3.314217259838664, 8.664540128486223, 5.152140172749365, 3.1235688772802988, 2.9273731088623767, 4.665183632462166, 3.8881316638966466, 5.456813988626847, 4.0157086869592655, 4.785670529314691, 4.002799147087438, 3.4418746060712166, 3.4640716463386383, 3.4785359750364924, 8.503408078525402, 4.918086668100691, 4.232868106023888, 4.004133066165137, 3.08946750953353, 2.5749917069049872, 2.5749917069049872, 2.5749911263493774, 2.574972742088403, 2.5749690652362083, 2.5746449216874483, 2.574159770716259, 2.5711573306213267, 2.560521164814192, 2.1748338834604573, 2.1748338834604573, 2.1748304001267993, 2.17482807790436, 2.1748292390155797, 2.1748145316068, 2.1747899547526552, 2.1553769492377817, 2.1563408650684526, 2.0604652024198624, 2.0602353023984135, 2.0601840199862216, 2.0601840199862216, 2.0601840199862216, 2.0600464283067184, 2.058874093012158, 4.004172543946598, 5.833180094216662, 3.887620199739311, 2.5749439078264538, 6.461980649177996, 5.382165018805094, 7.765069065196337, 6.939480284467895, 2.6158924301653355, 3.3058009139759896, 7.746706478297982, 5.685655108230839, 3.4267128437751966, 3.089346753966708, 3.0892871502574435, 3.9967263376963356, 2.6892011221899823, 2.5957423125446546, 2.574412312406487, 3.442671554509647, 3.155830263569607, 3.126774628038379, 2.7651044316339006, 2.993036347738462, 2.647196244652971, 2.5403169512311807, 2.5403166406849658, 2.5403166406849658, 2.2535042305429376, 2.145545323204062, 2.1432016309180706, 3.5408749630447436, 2.0323583703325694, 1.7498710926025114, 1.6379690246963412, 1.6379690246963412, 1.6379690246963412, 1.6379603294023162, 1.6379593977636706, 1.6379583108519173, 1.6379564475746262, 1.6379559817553035, 1.637597456149874, 2.76593234784358, 1.2431877697365514, 1.2431824128143396, 1.2431384705248911, 1.2431433616277803, 1.2431348992434164, 3.6673411826237046, 9.36144919570249, 2.5355014663454356, 2.1455347646327456, 4.031325258877516, 4.517553989461081, 3.668304186436989, 3.3155665413660533, 4.654620393549122, 2.031951088971356, 3.4427436012315695, 2.145014289176098, 3.1489988679279968, 2.1454389611253615, 2.0610155750697166, 2.932224877334984, 2.03237700310548], \"Total\": [9.0, 48.0, 17.0, 25.0, 22.0, 5.0, 7.0, 3.0, 11.0, 4.0, 4.0, 3.0, 3.0, 5.0, 4.0, 3.0, 3.0, 3.0, 4.0, 6.0, 3.0, 3.0, 3.0, 10.0, 3.0, 5.0, 8.0, 3.0, 2.0, 4.0, 5.620458613929617, 4.346740135377187, 4.346739001835987, 4.34673779699968, 4.343211177671341, 3.900963475359117, 3.899449552185299, 3.773550746360257, 4.024106678907655, 3.455191729010229, 3.4551910626011377, 3.3277994358550624, 3.327794171710594, 11.287909414797548, 2.8820286673333455, 2.882028325364083, 2.8820284319711322, 2.8820284109060816, 2.882024940613437, 2.754603060981217, 2.754603060981217, 2.754570285619974, 2.7545582724719897, 2.7545528785197178, 2.7545528785197178, 2.7545528785197178, 2.7545528785197178, 7.550985540756276, 3.3152400991708832, 2.7528360970075854, 10.544874822153508, 48.929463179764625, 7.222620029307573, 25.23011425053184, 25.648451621599506, 22.81364824410781, 7.347570831172056, 4.281085357744559, 13.766871026218537, 7.963207702672338, 4.097039340717998, 3.8420501409869665, 7.903075556161568, 6.690609361303701, 14.108160719872304, 8.428882411640151, 13.316834416047783, 8.822769095052188, 6.759304727404716, 7.781492445774607, 10.59183227704223, 9.065656276017599, 5.404577430665951, 4.718512938798473, 4.489823941436282, 3.57514913562034, 3.06063174869386, 3.0606318069212755, 3.0606317417612012, 3.060634809171303, 3.0606354249300645, 3.0606657694866155, 3.0607187566583955, 3.0610660627511885, 3.062240241727261, 2.6604740410210357, 2.6604741213327343, 2.660473516871767, 2.6604731498514504, 2.6604746861660553, 2.660474882592405, 2.6604784907950187, 2.6601894093080687, 2.662544363710722, 2.5461059704296494, 2.5461152378782868, 2.546135902819855, 2.546135902819855, 2.546135902819855, 2.546144321160158, 2.5462740333830594, 4.997351831415533, 7.729071635779903, 6.180393072103961, 3.63371550255473, 17.9952917851464, 13.316834416047783, 25.648451621599506, 22.81364824410781, 3.9634324633542235, 6.587490345541423, 48.929463179764625, 25.23011425053184, 7.781492445774607, 6.310927158502118, 6.759304727404716, 14.108160719872304, 7.32329155210315, 10.59183227704223, 7.963207702672338, 3.9314254196317306, 3.6500712686472454, 3.6538182837033486, 3.2547895070689066, 3.5428634275612687, 3.142152726054606, 3.029071260215967, 3.0290711635669765, 3.029071379286548, 2.7477250372475623, 2.6343040188168594, 2.6343345354061354, 4.3636456339620855, 2.521522837791831, 2.239638705561666, 2.1267202731826207, 2.1267203382962485, 2.126720461067681, 2.126720310903425, 2.126720041834446, 2.1267203037525375, 2.1267200370031727, 2.126720781997746, 2.1267669040400525, 3.7691361494724163, 1.7319451619201844, 1.7319441621355607, 1.7319411305085493, 1.7319500750237355, 1.7319510361994976, 5.586232888422895, 17.9952917851464, 4.458816331739475, 3.6531351681068855, 8.822769095052188, 10.59183227704223, 8.428882411640151, 7.531324076194089, 14.108160719872304, 3.436088769432023, 13.766871026218537, 4.353778725025494, 13.316834416047783, 4.57799139123175, 4.578698436631928, 48.929463179764625, 6.180393072103961], \"Category\": [\"Default\", \"Default\", \"Default\", \"Default\", \"Default\", \"Default\", \"Default\", \"Default\", \"Default\", \"Default\", \"Default\", \"Default\", \"Default\", \"Default\", \"Default\", \"Default\", \"Default\", \"Default\", \"Default\", \"Default\", \"Default\", \"Default\", \"Default\", \"Default\", \"Default\", \"Default\", \"Default\", \"Default\", \"Default\", \"Default\", \"Topic1\", \"Topic1\", \"Topic1\", \"Topic1\", \"Topic1\", \"Topic1\", \"Topic1\", \"Topic1\", \"Topic1\", \"Topic1\", \"Topic1\", \"Topic1\", \"Topic1\", \"Topic1\", \"Topic1\", \"Topic1\", \"Topic1\", \"Topic1\", \"Topic1\", \"Topic1\", \"Topic1\", \"Topic1\", \"Topic1\", \"Topic1\", \"Topic1\", \"Topic1\", \"Topic1\", \"Topic1\", \"Topic1\", \"Topic1\", \"Topic1\", \"Topic1\", \"Topic1\", \"Topic1\", \"Topic1\", \"Topic1\", \"Topic1\", \"Topic1\", \"Topic1\", \"Topic1\", \"Topic1\", \"Topic1\", \"Topic1\", \"Topic1\", \"Topic1\", \"Topic1\", \"Topic1\", \"Topic1\", \"Topic1\", \"Topic1\", \"Topic1\", \"Topic2\", \"Topic2\", \"Topic2\", \"Topic2\", \"Topic2\", \"Topic2\", \"Topic2\", \"Topic2\", \"Topic2\", \"Topic2\", \"Topic2\", \"Topic2\", \"Topic2\", \"Topic2\", \"Topic2\", \"Topic2\", \"Topic2\", \"Topic2\", \"Topic2\", \"Topic2\", \"Topic2\", \"Topic2\", \"Topic2\", \"Topic2\", \"Topic2\", \"Topic2\", \"Topic2\", \"Topic2\", \"Topic2\", \"Topic2\", \"Topic2\", \"Topic2\", \"Topic2\", \"Topic2\", \"Topic2\", \"Topic2\", \"Topic2\", \"Topic2\", \"Topic2\", \"Topic2\", \"Topic2\", \"Topic2\", \"Topic2\", \"Topic2\", \"Topic2\", \"Topic2\", \"Topic2\", \"Topic2\", \"Topic2\", \"Topic3\", \"Topic3\", \"Topic3\", \"Topic3\", \"Topic3\", \"Topic3\", \"Topic3\", \"Topic3\", \"Topic3\", \"Topic3\", \"Topic3\", \"Topic3\", \"Topic3\", \"Topic3\", \"Topic3\", \"Topic3\", \"Topic3\", \"Topic3\", \"Topic3\", \"Topic3\", \"Topic3\", \"Topic3\", \"Topic3\", \"Topic3\", \"Topic3\", \"Topic3\", \"Topic3\", \"Topic3\", \"Topic3\", \"Topic3\", \"Topic3\", \"Topic3\", \"Topic3\", \"Topic3\", \"Topic3\", \"Topic3\", \"Topic3\", \"Topic3\", \"Topic3\", \"Topic3\", \"Topic3\", \"Topic3\", \"Topic3\", \"Topic3\", \"Topic3\", \"Topic3\", \"Topic3\"], \"logprob\": [30.0, 29.0, 28.0, 27.0, 26.0, 25.0, 24.0, 23.0, 22.0, 21.0, 20.0, 19.0, 18.0, 17.0, 16.0, 15.0, 14.0, 13.0, 12.0, 11.0, 10.0, 9.0, 8.0, 7.0, 6.0, 5.0, 4.0, 3.0, 2.0, 1.0, -4.7132, -4.9966, -4.9966, -4.9966, -5.0045, -5.1184, -5.1223, -5.1561, -5.0924, -5.2571, -5.2571, -5.3005, -5.3005, -4.0812, -5.4694, -5.4694, -5.4694, -5.4694, -5.4694, -5.5235, -5.5235, -5.5236, -5.5236, -5.5237, -5.5237, -5.5237, -5.5237, -4.5199, -5.3441, -5.5305, -4.2025, -2.7102, -4.5869, -3.4817, -3.484, -3.6046, -4.6556, -5.1561, -4.1951, -4.7149, -5.2154, -5.2802, -4.8142, -4.9964, -4.6575, -4.9641, -4.7887, -4.9673, -5.1183, -5.1119, -5.1077, -3.8892, -4.4368, -4.5868, -4.6423, -4.9017, -5.0838, -5.0838, -5.0838, -5.0838, -5.0838, -5.084, -5.0841, -5.0853, -5.0895, -5.2527, -5.2527, -5.2527, -5.2527, -5.2527, -5.2527, -5.2527, -5.2617, -5.2613, -5.3067, -5.3068, -5.3069, -5.3069, -5.3069, -5.3069, -5.3075, -4.6423, -4.2661, -4.6719, -5.0838, -4.1637, -4.3466, -3.98, -4.0924, -5.0681, -4.834, -3.9824, -4.2917, -4.7981, -4.9017, -4.9017, -4.6442, -5.0404, -5.0758, -5.084, -4.5732, -4.6602, -4.6695, -4.7924, -4.7132, -4.836, -4.8772, -4.8772, -4.8772, -4.997, -5.0461, -5.0472, -4.5451, -5.1003, -5.2499, -5.316, -5.316, -5.316, -5.316, -5.316, -5.316, -5.316, -5.316, -5.3163, -4.7921, -5.5918, -5.5918, -5.5918, -5.5918, -5.5918, -4.51, -3.5729, -4.8791, -5.0461, -4.4154, -4.3015, -4.5098, -4.6109, -4.2716, -5.1005, -4.5732, -5.0463, -4.6624, -5.0461, -5.0863, -4.7337, -5.1003], \"loglift\": [30.0, 29.0, 28.0, 27.0, 26.0, 25.0, 24.0, 23.0, 22.0, 21.0, 20.0, 19.0, 18.0, 17.0, 16.0, 15.0, 14.0, 13.0, 12.0, 11.0, 10.0, 9.0, 8.0, 7.0, 6.0, 5.0, 4.0, 3.0, 2.0, 1.0, 0.7488, 0.7224, 0.7224, 0.7224, 0.7153, 0.7088, 0.7052, 0.7043, 0.7037, 0.6915, 0.6915, 0.6856, 0.6856, 0.6835, 0.6605, 0.6605, 0.6605, 0.6605, 0.6605, 0.6517, 0.6517, 0.6515, 0.6515, 0.6515, 0.6515, 0.6515, 0.6515, 0.6469, 0.6458, 0.6453, 0.6302, 0.5879, 0.6243, 0.4786, 0.46, 0.4565, 0.5384, 0.5781, 0.3711, 0.3987, 0.5628, 0.5622, 0.307, 0.2913, -0.1158, 0.0926, -0.1893, 0.0437, 0.1592, 0.0248, -0.2794, 1.0947, 1.0644, 1.0501, 1.0443, 1.0127, 0.986, 0.986, 0.986, 0.986, 0.986, 0.9858, 0.9856, 0.9843, 0.9798, 0.9572, 0.9572, 0.9572, 0.9572, 0.9572, 0.9572, 0.9572, 0.9483, 0.9479, 0.9471, 0.947, 0.947, 0.947, 0.947, 0.9469, 0.9463, 0.9372, 0.8773, 0.6952, 0.8143, 0.1346, 0.2528, -0.0361, -0.0314, 0.7432, 0.4692, -0.6844, -0.3313, 0.3386, 0.4444, 0.3758, -0.1025, 0.1569, -0.2475, 0.0295, 1.2462, 1.2334, 1.2232, 1.2159, 1.2103, 1.2075, 1.203, 1.203, 1.203, 1.1806, 1.1737, 1.1726, 1.17, 1.1633, 1.1322, 1.1178, 1.1178, 1.1178, 1.1178, 1.1178, 1.1178, 1.1178, 1.1178, 1.1176, 1.0695, 1.0474, 1.0474, 1.0473, 1.0473, 1.0473, 0.9581, 0.7254, 0.8144, 0.8467, 0.5957, 0.5268, 0.547, 0.5585, 0.27, 0.8536, -0.0071, 0.671, -0.063, 0.621, 0.5807, -1.4357, 0.2668]}, \"token.table\": {\"Topic\": [1, 3, 1, 3, 1, 2, 3, 1, 2, 3, 2, 1, 3, 1, 1, 1, 3, 2, 1, 2, 1, 2, 2, 1, 2, 3, 1, 3, 1, 2, 3, 1, 1, 2, 3, 1, 2, 3, 3, 1, 3, 2, 3, 3, 2, 1, 2, 3, 1, 2, 3, 2, 1, 3, 1, 2, 3, 1, 2, 1, 2, 3, 1, 3, 3, 2, 3, 2, 1, 2, 3, 1, 3, 2, 3, 2, 3, 3, 1, 2, 3, 1, 2, 3, 3, 1, 2, 1, 1, 2, 2, 2, 1, 3, 1, 2, 3, 3, 3, 1, 1, 2, 2, 1, 2, 1, 3, 1, 2, 2, 1, 3, 3, 2, 3, 3, 3, 2, 3, 1, 1, 2, 3, 2, 3, 2, 1, 3, 2, 3, 3, 1, 2, 3, 1, 2, 1, 2, 1, 3, 3, 1, 2, 2, 1, 1, 2, 1, 2, 1, 2, 2, 3, 1, 3, 1, 2, 3, 2, 3, 2, 1, 2, 1, 3, 2, 2, 3, 3, 2, 1, 2, 2, 1, 2, 1, 2, 3, 1, 2, 1, 2, 3, 3, 1], \"Freq\": [0.7808331203166817, 0.2602777067722272, 0.9049118345154783, 0.8467726914511777, 0.40965185922967123, 0.40965185922967123, 0.2731012394864475, 0.21840267793124107, 0.21840267793124107, 0.43680535586248215, 0.9796749318100025, 0.7007568757238037, 0.2335856252412679, 0.9202303398104633, 0.9940094334392251, 0.7265234578164895, 0.7592050186183585, 0.980178897646576, 0.7950071965756978, 0.9251417088835937, 0.769339354145193, 0.9800507204028441, 0.7855040250541978, 0.3855301564456336, 0.3855301564456336, 0.12851005214854452, 0.2291661798146574, 0.9166647192586296, 0.7260660620790287, 0.2653127826491422, 0.7959383479474267, 0.6939565205755303, 0.7260574230566563, 0.7762898680126633, 0.25876328933755444, 0.37546460696204387, 0.37546460696204387, 0.22527876417722634, 0.9547594472808781, 0.901498063042133, 0.7630820071059671, 0.2910285697203619, 0.5820571394407238, 0.5773858198563154, 0.7854614129425564, 0.776628181273719, 0.16350066974183558, 0.06131275115318834, 0.47455876172576145, 0.11863969043144036, 0.47455876172576145, 0.9801897929341761, 0.4593710719619286, 0.4593710719619286, 0.3036057580492167, 0.455408637073825, 0.15180287902460834, 0.8682587867489849, 0.7511611927519771, 0.9014966369898323, 0.980189795154411, 0.9404151530744578, 0.830723473705319, 0.13845391228421983, 0.9404151377995631, 0.7517458780614499, 0.9217185914740285, 0.7855040250541978, 0.7134331545732325, 0.23781105152441084, 0.07927035050813695, 0.6804970125347427, 0.27219880501389704, 0.358023025524924, 0.716046051049848, 0.6472080259837422, 0.3236040129918711, 0.9404152710284623, 0.28323711342205565, 0.28323711342205565, 0.4720618557034261, 0.45337240008278146, 0.11334310002069536, 0.45337240008278146, 0.8930011769458286, 0.6939556799001186, 0.7517457299573729, 0.7260706503753123, 0.6939556232279049, 0.7855040250541978, 0.9801888127947808, 0.9801897742864191, 0.2737374758892966, 0.5474749517785932, 0.6537433221288851, 0.1452762938064189, 0.21791444070962837, 0.7931714795617146, 0.821058894302574, 0.7260574230566563, 0.9202298447622521, 0.8477247073139453, 0.980161928786725, 0.5978528686990296, 0.44838965152427224, 0.6939557055697371, 0.9404151665921796, 0.44383263086762353, 0.44383263086762353, 0.9927576918847798, 0.7260706503753123, 0.9403945473294495, 0.5773868305248749, 0.4368728180290182, 0.4368728180290182, 0.5773835282285736, 0.5773838486575864, 0.4485495367376479, 0.6728243051064718, 0.7260692285900215, 0.11114018176970222, 0.33342054530910664, 0.50013081796366, 0.7855104004116592, 0.5773854865539237, 0.7517444726276847, 0.7260706503753123, 0.9404151499124046, 0.7517459817670671, 0.9404149415990989, 0.7278748684415054, 0.35440480862662416, 0.28352384690129934, 0.35440480862662416, 0.27520041106601145, 0.8256012331980344, 0.868258619286339, 0.7517454921623508, 0.7260706503753123, 0.8219017600475049, 0.9904025829310155, 0.7013345620480669, 0.30683387089602926, 0.7855132595531775, 0.920977552407351, 0.7690407815786648, 0.7518261643332428, 0.7322360735433543, 0.2440786911811181, 0.4753659683677988, 0.4753659683677988, 0.8004239315019318, 0.20010598287548295, 0.7945982637120855, 0.13243304395201425, 0.26555755399264247, 0.26555755399264247, 0.3983363309889637, 0.756919671960582, 0.25230655732019397, 0.7517455476647105, 0.8896071198902015, 0.9801886155939498, 0.9202300847394954, 0.9904025439990142, 0.751745707264434, 0.8909035303331763, 0.9404150835112277, 0.7592138134831745, 0.8391258339715265, 0.7017967503676338, 0.31190966683005944, 0.7855014279350411, 0.8534951957032327, 0.18966559904516284, 0.8859036365840072, 0.08859036365840071, 0.990402614531927, 0.6278876787707135, 0.3767326072624281, 0.6326650889857419, 0.25306603559429675, 0.12653301779714837, 0.9404152688921195, 0.6939556849723142], \"Term\": [\"accion\", \"accion\", \"accione\", \"ahi\", \"algun\", \"algun\", \"algun\", \"alguna_manera\", \"alguna_manera\", \"alguna_manera\", \"aos\", \"atleta\", \"atleta\", \"basquet\", \"bonita\", \"busque\", \"campaas\", \"caso\", \"chequear\", \"chevere\", \"clip\", \"color\", \"colore\", \"comercial\", \"comercial\", \"comercial\", \"compra\", \"compra\", \"comprarme\", \"comune\", \"comune\", \"conoce\", \"conversacion\", \"correr\", \"correr\", \"creo\", \"creo\", \"creo\", \"cualqui\", \"cualquier\", \"cuanto\", \"cuerpo\", \"cuerpo\", \"decisione\", \"deja\", \"deporte\", \"deporte\", \"deporte\", \"deportista\", \"deportista\", \"deportista\", \"deportivos\", \"dice\", \"dice\", \"diferente\", \"diferente\", \"diferente\", \"dije\", \"ejemplo\", \"estilo\", \"evento\", \"factor\", \"final\", \"final\", \"foto\", \"futbol\", \"grande\", \"gusta\", \"hacer\", \"hacer\", \"hacer\", \"haciendo\", \"haciendo\", \"hazlo\", \"hazlo\", \"hora\", \"hora\", \"importante\", \"inspira\", \"inspira\", \"inspira\", \"inspiracion\", \"inspiracion\", \"inspiracion\", \"inspiracional\", \"inspiracionale\", \"inspiro\", \"joven\", \"justo\", \"llamativos\", \"llore\", \"lloro\", \"manera\", \"manera\", \"marca\", \"marca\", \"marca\", \"medium\", \"mejor\", \"mencionan\", \"meno\", \"mensaje\", \"mismo\", \"motivacion\", \"motivacion\", \"motivacionale\", \"muestran\", \"mujere\", \"mujere\", \"nike\", \"nio\", \"nivel\", \"objetivo\", \"obviamente\", \"obviamente\", \"olvide\", \"opinion\", \"oye\", \"oye\", \"pandemia\", \"persona\", \"persona\", \"persona\", \"personal\", \"pienso\", \"podium\", \"practique\", \"probable\", \"probablemente\", \"producto\", \"pueda\", \"puede\", \"puede\", \"puede\", \"puse\", \"puse\", \"rede\", \"referente\", \"remotamente\", \"resultado\", \"revise\", \"ropa\", \"ropa\", \"rubro\", \"sale\", \"salian\", \"salir\", \"send\", \"send\", \"sentir\", \"sentir\", \"siempre\", \"siempre\", \"siente\", \"siente\", \"solo\", \"solo\", \"solo\", \"super\", \"super\", \"surgio\", \"tema\", \"termine\", \"tiempo\", \"tienda\", \"transmitiendo\", \"ultimo\", \"usan\", \"utilizan\", \"veia\", \"ver\", \"ver\", \"vez\", \"vida\", \"vida\", \"video\", \"video\", \"virtual\", \"visto\", \"visto\", \"voy\", \"voy\", \"voy\", \"vuelve\", \"youtube\"]}, \"R\": 30, \"lambda.step\": 0.01, \"plot.opts\": {\"xlab\": \"PC1\", \"ylab\": \"PC2\"}, \"topic.order\": [3, 1, 2]};\n",
       "\n",
       "function LDAvis_load_lib(url, callback){\n",
       "  var s = document.createElement('script');\n",
       "  s.src = url;\n",
       "  s.async = true;\n",
       "  s.onreadystatechange = s.onload = callback;\n",
       "  s.onerror = function(){console.warn(\"failed to load library \" + url);};\n",
       "  document.getElementsByTagName(\"head\")[0].appendChild(s);\n",
       "}\n",
       "\n",
       "if(typeof(LDAvis) !== \"undefined\"){\n",
       "   // already loaded: just create the visualization\n",
       "   !function(LDAvis){\n",
       "       new LDAvis(\"#\" + \"ldavis_el46631405933492750885123932072\", ldavis_el46631405933492750885123932072_data);\n",
       "   }(LDAvis);\n",
       "}else if(typeof define === \"function\" && define.amd){\n",
       "   // require.js is available: use it to load d3/LDAvis\n",
       "   require.config({paths: {d3: \"https://d3js.org/d3.v5\"}});\n",
       "   require([\"d3\"], function(d3){\n",
       "      window.d3 = d3;\n",
       "      LDAvis_load_lib(\"https://cdn.jsdelivr.net/gh/bmabey/pyLDAvis@3.3.1/pyLDAvis/js/ldavis.v3.0.0.js\", function(){\n",
       "        new LDAvis(\"#\" + \"ldavis_el46631405933492750885123932072\", ldavis_el46631405933492750885123932072_data);\n",
       "      });\n",
       "    });\n",
       "}else{\n",
       "    // require.js not available: dynamically load d3 & LDAvis\n",
       "    LDAvis_load_lib(\"https://d3js.org/d3.v5.js\", function(){\n",
       "         LDAvis_load_lib(\"https://cdn.jsdelivr.net/gh/bmabey/pyLDAvis@3.3.1/pyLDAvis/js/ldavis.v3.0.0.js\", function(){\n",
       "                 new LDAvis(\"#\" + \"ldavis_el46631405933492750885123932072\", ldavis_el46631405933492750885123932072_data);\n",
       "            })\n",
       "         });\n",
       "}\n",
       "</script>"
      ],
      "text/plain": [
       "PreparedData(topic_coordinates=              x         y  topics  cluster       Freq\n",
       "topic                                                \n",
       "2     -0.043815  0.126922       1        1  43.427164\n",
       "0      0.120457 -0.024762       2        1  31.388058\n",
       "1     -0.076642 -0.102160       3        1  25.184778, topic_info=              Term       Freq      Total Category  logprob  loglift\n",
       "155           nike   9.000000   9.000000  Default  30.0000  30.0000\n",
       "48         deporte  48.000000  48.000000  Default  29.0000  29.0000\n",
       "44         persona  17.000000  17.000000  Default  28.0000  28.0000\n",
       "35             ver  25.000000  25.000000  Default  27.0000  27.0000\n",
       "8             ropa  22.000000  22.000000  Default  26.0000  26.0000\n",
       "..             ...        ...        ...      ...      ...      ...\n",
       "25            creo   3.148999  13.316834   Topic3  -4.6624  -0.0630\n",
       "43      obviamente   2.145439   4.577991   Topic3  -5.0461   0.6210\n",
       "88   alguna_manera   2.061016   4.578698   Topic3  -5.0863   0.5807\n",
       "48         deporte   2.932225  48.929463   Topic3  -4.7337  -1.4357\n",
       "408           hora   2.032377   6.180393   Topic3  -5.1003   0.2668\n",
       "\n",
       "[177 rows x 6 columns], token_table=      Topic      Freq     Term\n",
       "term                          \n",
       "80        1  0.780833   accion\n",
       "80        3  0.260278   accion\n",
       "248       1  0.904912  accione\n",
       "294       3  0.846773      ahi\n",
       "22        1  0.409652    algun\n",
       "...     ...       ...      ...\n",
       "199       1  0.632665      voy\n",
       "199       2  0.253066      voy\n",
       "199       3  0.126533      voy\n",
       "318       3  0.940415   vuelve\n",
       "165       1  0.693956  youtube\n",
       "\n",
       "[185 rows x 3 columns], R=30, lambda_step=0.01, plot_opts={'xlab': 'PC1', 'ylab': 'PC2'}, topic_order=[3, 1, 2])"
      ]
     },
     "metadata": {},
     "output_type": "display_data"
    }
   ],
   "source": [
    "Fig3 = plot_model(lda, plot = 'topic_model')"
   ]
  },
  {
   "cell_type": "markdown",
   "id": "b6d71532",
   "metadata": {},
   "source": [
    "## Organizing data for visualization"
   ]
  },
  {
   "cell_type": "code",
   "execution_count": 16,
   "id": "52282af3",
   "metadata": {},
   "outputs": [],
   "source": [
    "# Separe documents by topic and by class\n",
    "topics_por = lda_data[lda_data[\"Class\"] == \"inspirado_por\"]\n",
    "topics_para = lda_data[lda_data[\"Class\"] == \"inspirado_para\"]"
   ]
  },
  {
   "cell_type": "code",
   "execution_count": 20,
   "id": "946bcc8f",
   "metadata": {},
   "outputs": [],
   "source": [
    "# Vectorization of textual data\n",
    "from sklearn.feature_extraction.text import CountVectorizer\n",
    "def get_top_n_words(corpus, n=None):\n",
    "    vec = CountVectorizer()\n",
    "    bag_of_words = vec.fit_transform(corpus)\n",
    "    sum_words = bag_of_words.sum(axis=0)\n",
    "    words_freq = [\n",
    "        (word, sum_words[0, idx]) for word, idx in vec.vocabulary_.items()\n",
    "    ]\n",
    "    words_freq = sorted(words_freq, key=lambda x: x[1], reverse=True)\n",
    "    return words_freq[:n]"
   ]
  },
  {
   "cell_type": "code",
   "execution_count": 21,
   "id": "8063b8ed",
   "metadata": {},
   "outputs": [],
   "source": [
    "n_words = 20 # Number of words by topic\n",
    "aux_all_common_words = []\n",
    "aux_topic_list = []\n",
    "df_word_per_topic = pd.DataFrame()\n",
    "for i in range(n_topics):\n",
    "    topic_num = \"Topic \" + str(i)\n",
    "    filtered_df = lda_data.loc[lda_data[\"Dominant_Topic\"] == topic_num]\n",
    "    common_words = get_top_n_words(filtered_df[\"Document\"], n=n_words)\n",
    "    for word in common_words:\n",
    "        aux_topic_list.append(i)\n",
    "        aux_all_common_words.append(word)\n",
    "df_word_per_topic = pd.DataFrame(aux_all_common_words, columns=[\"Text\", \"count\"])\n",
    "df_word_per_topic['Topic'] = aux_topic_list"
   ]
  },
  {
   "cell_type": "code",
   "execution_count": 22,
   "id": "28dd7183",
   "metadata": {},
   "outputs": [],
   "source": [
    "pd.set_option('display.max_rows', None)"
   ]
  },
  {
   "cell_type": "code",
   "execution_count": 23,
   "id": "04f3dbef",
   "metadata": {},
   "outputs": [],
   "source": [
    "# Delete some words providing by experts\n",
    "df_word_per_topic.drop(df_word_per_topic[df_word_per_topic[\"Text\"] == \"creo\"].index, inplace=True)\n",
    "df_word_per_topic.drop(df_word_per_topic[df_word_per_topic[\"Text\"] == \"puede\"].index, inplace=True)\n",
    "df_word_per_topic.drop(df_word_per_topic[df_word_per_topic[\"Text\"] == \"pueda\"].index, inplace=True)\n",
    "df_word_per_topic.drop(df_word_per_topic[df_word_per_topic[\"Text\"] == \"siempre\"].index, inplace=True)\n",
    "df_word_per_topic.drop(df_word_per_topic[df_word_per_topic[\"Text\"] == \"ultimo\"].index, inplace=True)\n",
    "df_word_per_topic.drop(df_word_per_topic[df_word_per_topic[\"Text\"] == \"algun\"].index, inplace=True)\n",
    "df_word_per_topic.drop(df_word_per_topic[df_word_per_topic[\"Text\"] == \"comune\"].index, inplace=True)\n",
    "df_word_per_topic.drop(df_word_per_topic[df_word_per_topic[\"Text\"] == \"solo\"].index, inplace=True)\n",
    "df_word_per_topic.drop(df_word_per_topic[df_word_per_topic[\"Text\"] == \"final\"].index, inplace=True)\n",
    "df_word_per_topic.drop(df_word_per_topic[df_word_per_topic[\"Text\"] == \"tema\"].index, inplace=True)\n",
    "df_word_per_topic.drop(df_word_per_topic[df_word_per_topic[\"Text\"] == \"send\"].index, inplace=True)\n",
    "df_word_per_topic.reset_index(drop=True, inplace=True)"
   ]
  },
  {
   "cell_type": "code",
   "execution_count": 24,
   "id": "47301e31",
   "metadata": {},
   "outputs": [],
   "source": [
    "# List of words per topics in spanish selected by experts\n",
    "List_experts_0 = ['ver', 'persona', 'ropa', 'deporte', 'nike', 'hacer', 'correr', 'mensaje', 'chevere','sentir']\n",
    "List_experts_1 = ['persona', 'inspira', 'deportista', 'inspiracion', 'hazlo', 'grande', 'deporte', \n",
    "                  'resultado', 'marca', 'inspiracional']\n",
    "List_experts_2 = ['deporte', 'hacer', 'ver', 'ropa', 'video', 'marca', 'vida', 'siento', 'visto', 'voy']"
   ]
  },
  {
   "cell_type": "code",
   "execution_count": 25,
   "id": "508a9863",
   "metadata": {},
   "outputs": [],
   "source": [
    "# List of words per topics in english selected by experts\n",
    "List_experts_0 = ['see','person','clothes','sport','nike','do','run','message','cool','feel']\n",
    "List_experts_1 = ['person','inspire','athlete','inspiration','do it','big','sport','result','brand','inspirational']\n",
    "List_experts_2 = ['sport','do','see','clothes','video','brand','life', 'athlete','seen','I go']"
   ]
  },
  {
   "cell_type": "code",
   "execution_count": 26,
   "id": "d7586d78",
   "metadata": {},
   "outputs": [
    {
     "data": {
      "text/plain": [
       "45"
      ]
     },
     "execution_count": 26,
     "metadata": {},
     "output_type": "execute_result"
    }
   ],
   "source": [
    "words = ['see','person','clothes','sport','nike','do','run','message','cool','feel','mujer','diferente','comercial',\n",
    "         'veia','hora','person','inspire','athlete','inspiration','do it','big','sport','cuanto',\n",
    "         'mejor','result','cualqui','brand','inspirational','utilizan','obviamente','sport','do','see','clothes',\n",
    "         'video','brand','life', 'athlete','seen','I go','comercial','athlete','inspiration','haciendo','igual']\n",
    "len(words)"
   ]
  },
  {
   "cell_type": "code",
   "execution_count": 27,
   "id": "0082af9e",
   "metadata": {},
   "outputs": [],
   "source": [
    "df_word_per_topic.rename(columns = {'Text':'Text_sp'}, inplace = True)"
   ]
  },
  {
   "cell_type": "code",
   "execution_count": 28,
   "id": "78aab42f",
   "metadata": {},
   "outputs": [
    {
     "data": {
      "text/html": [
       "<div>\n",
       "<style scoped>\n",
       "    .dataframe tbody tr th:only-of-type {\n",
       "        vertical-align: middle;\n",
       "    }\n",
       "\n",
       "    .dataframe tbody tr th {\n",
       "        vertical-align: top;\n",
       "    }\n",
       "\n",
       "    .dataframe thead th {\n",
       "        text-align: right;\n",
       "    }\n",
       "</style>\n",
       "<table border=\"1\" class=\"dataframe\">\n",
       "  <thead>\n",
       "    <tr style=\"text-align: right;\">\n",
       "      <th></th>\n",
       "      <th>Text_sp</th>\n",
       "      <th>count</th>\n",
       "      <th>Topic</th>\n",
       "    </tr>\n",
       "  </thead>\n",
       "  <tbody>\n",
       "    <tr>\n",
       "      <th>0</th>\n",
       "      <td>ver</td>\n",
       "      <td>10</td>\n",
       "      <td>0</td>\n",
       "    </tr>\n",
       "    <tr>\n",
       "      <th>1</th>\n",
       "      <td>persona</td>\n",
       "      <td>9</td>\n",
       "      <td>0</td>\n",
       "    </tr>\n",
       "    <tr>\n",
       "      <th>2</th>\n",
       "      <td>ropa</td>\n",
       "      <td>9</td>\n",
       "      <td>0</td>\n",
       "    </tr>\n",
       "    <tr>\n",
       "      <th>3</th>\n",
       "      <td>deporte</td>\n",
       "      <td>9</td>\n",
       "      <td>0</td>\n",
       "    </tr>\n",
       "    <tr>\n",
       "      <th>4</th>\n",
       "      <td>nike</td>\n",
       "      <td>8</td>\n",
       "      <td>0</td>\n",
       "    </tr>\n",
       "  </tbody>\n",
       "</table>\n",
       "</div>"
      ],
      "text/plain": [
       "   Text_sp  count  Topic\n",
       "0      ver     10      0\n",
       "1  persona      9      0\n",
       "2     ropa      9      0\n",
       "3  deporte      9      0\n",
       "4     nike      8      0"
      ]
     },
     "execution_count": 28,
     "metadata": {},
     "output_type": "execute_result"
    }
   ],
   "source": [
    "df_word_per_topic.head()"
   ]
  },
  {
   "cell_type": "code",
   "execution_count": 29,
   "id": "d8cb25c4",
   "metadata": {},
   "outputs": [],
   "source": [
    "df_word_per_topic['Text'] = words"
   ]
  },
  {
   "cell_type": "code",
   "execution_count": 30,
   "id": "5e2ff69a",
   "metadata": {},
   "outputs": [
    {
     "data": {
      "text/html": [
       "<div>\n",
       "<style scoped>\n",
       "    .dataframe tbody tr th:only-of-type {\n",
       "        vertical-align: middle;\n",
       "    }\n",
       "\n",
       "    .dataframe tbody tr th {\n",
       "        vertical-align: top;\n",
       "    }\n",
       "\n",
       "    .dataframe thead th {\n",
       "        text-align: right;\n",
       "    }\n",
       "</style>\n",
       "<table border=\"1\" class=\"dataframe\">\n",
       "  <thead>\n",
       "    <tr style=\"text-align: right;\">\n",
       "      <th></th>\n",
       "      <th>Text_sp</th>\n",
       "      <th>count</th>\n",
       "      <th>Topic</th>\n",
       "      <th>Text</th>\n",
       "    </tr>\n",
       "  </thead>\n",
       "  <tbody>\n",
       "    <tr>\n",
       "      <th>0</th>\n",
       "      <td>ver</td>\n",
       "      <td>10</td>\n",
       "      <td>0</td>\n",
       "      <td>see</td>\n",
       "    </tr>\n",
       "    <tr>\n",
       "      <th>1</th>\n",
       "      <td>persona</td>\n",
       "      <td>9</td>\n",
       "      <td>0</td>\n",
       "      <td>person</td>\n",
       "    </tr>\n",
       "    <tr>\n",
       "      <th>2</th>\n",
       "      <td>ropa</td>\n",
       "      <td>9</td>\n",
       "      <td>0</td>\n",
       "      <td>clothes</td>\n",
       "    </tr>\n",
       "    <tr>\n",
       "      <th>3</th>\n",
       "      <td>deporte</td>\n",
       "      <td>9</td>\n",
       "      <td>0</td>\n",
       "      <td>sport</td>\n",
       "    </tr>\n",
       "    <tr>\n",
       "      <th>4</th>\n",
       "      <td>nike</td>\n",
       "      <td>8</td>\n",
       "      <td>0</td>\n",
       "      <td>nike</td>\n",
       "    </tr>\n",
       "    <tr>\n",
       "      <th>5</th>\n",
       "      <td>hacer</td>\n",
       "      <td>7</td>\n",
       "      <td>0</td>\n",
       "      <td>do</td>\n",
       "    </tr>\n",
       "    <tr>\n",
       "      <th>6</th>\n",
       "      <td>correr</td>\n",
       "      <td>7</td>\n",
       "      <td>0</td>\n",
       "      <td>run</td>\n",
       "    </tr>\n",
       "    <tr>\n",
       "      <th>7</th>\n",
       "      <td>mensaje</td>\n",
       "      <td>7</td>\n",
       "      <td>0</td>\n",
       "      <td>message</td>\n",
       "    </tr>\n",
       "    <tr>\n",
       "      <th>8</th>\n",
       "      <td>chevere</td>\n",
       "      <td>6</td>\n",
       "      <td>0</td>\n",
       "      <td>cool</td>\n",
       "    </tr>\n",
       "    <tr>\n",
       "      <th>9</th>\n",
       "      <td>sentir</td>\n",
       "      <td>4</td>\n",
       "      <td>0</td>\n",
       "      <td>feel</td>\n",
       "    </tr>\n",
       "    <tr>\n",
       "      <th>10</th>\n",
       "      <td>mujere</td>\n",
       "      <td>4</td>\n",
       "      <td>0</td>\n",
       "      <td>mujer</td>\n",
       "    </tr>\n",
       "    <tr>\n",
       "      <th>11</th>\n",
       "      <td>diferente</td>\n",
       "      <td>4</td>\n",
       "      <td>0</td>\n",
       "      <td>diferente</td>\n",
       "    </tr>\n",
       "    <tr>\n",
       "      <th>12</th>\n",
       "      <td>comercial</td>\n",
       "      <td>4</td>\n",
       "      <td>0</td>\n",
       "      <td>comercial</td>\n",
       "    </tr>\n",
       "    <tr>\n",
       "      <th>13</th>\n",
       "      <td>veia</td>\n",
       "      <td>4</td>\n",
       "      <td>0</td>\n",
       "      <td>veia</td>\n",
       "    </tr>\n",
       "    <tr>\n",
       "      <th>14</th>\n",
       "      <td>hora</td>\n",
       "      <td>4</td>\n",
       "      <td>0</td>\n",
       "      <td>hora</td>\n",
       "    </tr>\n",
       "    <tr>\n",
       "      <th>15</th>\n",
       "      <td>persona</td>\n",
       "      <td>15</td>\n",
       "      <td>1</td>\n",
       "      <td>person</td>\n",
       "    </tr>\n",
       "    <tr>\n",
       "      <th>16</th>\n",
       "      <td>inspira</td>\n",
       "      <td>7</td>\n",
       "      <td>1</td>\n",
       "      <td>inspire</td>\n",
       "    </tr>\n",
       "    <tr>\n",
       "      <th>17</th>\n",
       "      <td>deportista</td>\n",
       "      <td>6</td>\n",
       "      <td>1</td>\n",
       "      <td>athlete</td>\n",
       "    </tr>\n",
       "    <tr>\n",
       "      <th>18</th>\n",
       "      <td>inspiracion</td>\n",
       "      <td>6</td>\n",
       "      <td>1</td>\n",
       "      <td>inspiration</td>\n",
       "    </tr>\n",
       "    <tr>\n",
       "      <th>19</th>\n",
       "      <td>hazlo</td>\n",
       "      <td>6</td>\n",
       "      <td>1</td>\n",
       "      <td>do it</td>\n",
       "    </tr>\n",
       "    <tr>\n",
       "      <th>20</th>\n",
       "      <td>grande</td>\n",
       "      <td>5</td>\n",
       "      <td>1</td>\n",
       "      <td>big</td>\n",
       "    </tr>\n",
       "    <tr>\n",
       "      <th>21</th>\n",
       "      <td>deporte</td>\n",
       "      <td>5</td>\n",
       "      <td>1</td>\n",
       "      <td>sport</td>\n",
       "    </tr>\n",
       "    <tr>\n",
       "      <th>22</th>\n",
       "      <td>cuanto</td>\n",
       "      <td>4</td>\n",
       "      <td>1</td>\n",
       "      <td>cuanto</td>\n",
       "    </tr>\n",
       "    <tr>\n",
       "      <th>23</th>\n",
       "      <td>mejor</td>\n",
       "      <td>4</td>\n",
       "      <td>1</td>\n",
       "      <td>mejor</td>\n",
       "    </tr>\n",
       "    <tr>\n",
       "      <th>24</th>\n",
       "      <td>resultado</td>\n",
       "      <td>4</td>\n",
       "      <td>1</td>\n",
       "      <td>result</td>\n",
       "    </tr>\n",
       "    <tr>\n",
       "      <th>25</th>\n",
       "      <td>cualqui</td>\n",
       "      <td>4</td>\n",
       "      <td>1</td>\n",
       "      <td>cualqui</td>\n",
       "    </tr>\n",
       "    <tr>\n",
       "      <th>26</th>\n",
       "      <td>marca</td>\n",
       "      <td>4</td>\n",
       "      <td>1</td>\n",
       "      <td>brand</td>\n",
       "    </tr>\n",
       "    <tr>\n",
       "      <th>27</th>\n",
       "      <td>inspiracional</td>\n",
       "      <td>3</td>\n",
       "      <td>1</td>\n",
       "      <td>inspirational</td>\n",
       "    </tr>\n",
       "    <tr>\n",
       "      <th>28</th>\n",
       "      <td>utilizan</td>\n",
       "      <td>3</td>\n",
       "      <td>1</td>\n",
       "      <td>utilizan</td>\n",
       "    </tr>\n",
       "    <tr>\n",
       "      <th>29</th>\n",
       "      <td>obviamente</td>\n",
       "      <td>3</td>\n",
       "      <td>1</td>\n",
       "      <td>obviamente</td>\n",
       "    </tr>\n",
       "    <tr>\n",
       "      <th>30</th>\n",
       "      <td>deporte</td>\n",
       "      <td>45</td>\n",
       "      <td>2</td>\n",
       "      <td>sport</td>\n",
       "    </tr>\n",
       "    <tr>\n",
       "      <th>31</th>\n",
       "      <td>hacer</td>\n",
       "      <td>21</td>\n",
       "      <td>2</td>\n",
       "      <td>do</td>\n",
       "    </tr>\n",
       "    <tr>\n",
       "      <th>32</th>\n",
       "      <td>ver</td>\n",
       "      <td>20</td>\n",
       "      <td>2</td>\n",
       "      <td>see</td>\n",
       "    </tr>\n",
       "    <tr>\n",
       "      <th>33</th>\n",
       "      <td>ropa</td>\n",
       "      <td>19</td>\n",
       "      <td>2</td>\n",
       "      <td>clothes</td>\n",
       "    </tr>\n",
       "    <tr>\n",
       "      <th>34</th>\n",
       "      <td>video</td>\n",
       "      <td>12</td>\n",
       "      <td>2</td>\n",
       "      <td>video</td>\n",
       "    </tr>\n",
       "    <tr>\n",
       "      <th>35</th>\n",
       "      <td>marca</td>\n",
       "      <td>10</td>\n",
       "      <td>2</td>\n",
       "      <td>brand</td>\n",
       "    </tr>\n",
       "    <tr>\n",
       "      <th>36</th>\n",
       "      <td>vida</td>\n",
       "      <td>9</td>\n",
       "      <td>2</td>\n",
       "      <td>life</td>\n",
       "    </tr>\n",
       "    <tr>\n",
       "      <th>37</th>\n",
       "      <td>siente</td>\n",
       "      <td>8</td>\n",
       "      <td>2</td>\n",
       "      <td>athlete</td>\n",
       "    </tr>\n",
       "    <tr>\n",
       "      <th>38</th>\n",
       "      <td>visto</td>\n",
       "      <td>7</td>\n",
       "      <td>2</td>\n",
       "      <td>seen</td>\n",
       "    </tr>\n",
       "    <tr>\n",
       "      <th>39</th>\n",
       "      <td>voy</td>\n",
       "      <td>6</td>\n",
       "      <td>2</td>\n",
       "      <td>I go</td>\n",
       "    </tr>\n",
       "    <tr>\n",
       "      <th>40</th>\n",
       "      <td>comercial</td>\n",
       "      <td>5</td>\n",
       "      <td>2</td>\n",
       "      <td>comercial</td>\n",
       "    </tr>\n",
       "    <tr>\n",
       "      <th>41</th>\n",
       "      <td>deportista</td>\n",
       "      <td>5</td>\n",
       "      <td>2</td>\n",
       "      <td>athlete</td>\n",
       "    </tr>\n",
       "    <tr>\n",
       "      <th>42</th>\n",
       "      <td>inspiracion</td>\n",
       "      <td>5</td>\n",
       "      <td>2</td>\n",
       "      <td>inspiration</td>\n",
       "    </tr>\n",
       "    <tr>\n",
       "      <th>43</th>\n",
       "      <td>haciendo</td>\n",
       "      <td>5</td>\n",
       "      <td>2</td>\n",
       "      <td>haciendo</td>\n",
       "    </tr>\n",
       "    <tr>\n",
       "      <th>44</th>\n",
       "      <td>igual</td>\n",
       "      <td>4</td>\n",
       "      <td>2</td>\n",
       "      <td>igual</td>\n",
       "    </tr>\n",
       "  </tbody>\n",
       "</table>\n",
       "</div>"
      ],
      "text/plain": [
       "          Text_sp  count  Topic           Text\n",
       "0             ver     10      0            see\n",
       "1         persona      9      0         person\n",
       "2            ropa      9      0        clothes\n",
       "3         deporte      9      0          sport\n",
       "4            nike      8      0           nike\n",
       "5           hacer      7      0             do\n",
       "6          correr      7      0            run\n",
       "7         mensaje      7      0        message\n",
       "8         chevere      6      0           cool\n",
       "9          sentir      4      0           feel\n",
       "10         mujere      4      0          mujer\n",
       "11      diferente      4      0      diferente\n",
       "12      comercial      4      0      comercial\n",
       "13           veia      4      0           veia\n",
       "14           hora      4      0           hora\n",
       "15        persona     15      1         person\n",
       "16        inspira      7      1        inspire\n",
       "17     deportista      6      1        athlete\n",
       "18    inspiracion      6      1    inspiration\n",
       "19          hazlo      6      1          do it\n",
       "20         grande      5      1            big\n",
       "21        deporte      5      1          sport\n",
       "22         cuanto      4      1         cuanto\n",
       "23          mejor      4      1          mejor\n",
       "24      resultado      4      1         result\n",
       "25        cualqui      4      1        cualqui\n",
       "26          marca      4      1          brand\n",
       "27  inspiracional      3      1  inspirational\n",
       "28       utilizan      3      1       utilizan\n",
       "29     obviamente      3      1     obviamente\n",
       "30        deporte     45      2          sport\n",
       "31          hacer     21      2             do\n",
       "32            ver     20      2            see\n",
       "33           ropa     19      2        clothes\n",
       "34          video     12      2          video\n",
       "35          marca     10      2          brand\n",
       "36           vida      9      2           life\n",
       "37         siente      8      2        athlete\n",
       "38          visto      7      2           seen\n",
       "39            voy      6      2           I go\n",
       "40      comercial      5      2      comercial\n",
       "41     deportista      5      2        athlete\n",
       "42    inspiracion      5      2    inspiration\n",
       "43       haciendo      5      2       haciendo\n",
       "44          igual      4      2          igual"
      ]
     },
     "execution_count": 30,
     "metadata": {},
     "output_type": "execute_result"
    }
   ],
   "source": [
    "df_word_per_topic"
   ]
  },
  {
   "cell_type": "code",
   "execution_count": 31,
   "id": "4cdf9320",
   "metadata": {},
   "outputs": [],
   "source": [
    "df_word_per_topic = df_word_per_topic[df_word_per_topic['Text'].isin(List_experts_0+List_experts_1+List_experts_2)]\n",
    "df_word_per_topic.drop(df_word_per_topic.tail(1).index,inplace=True)"
   ]
  },
  {
   "cell_type": "code",
   "execution_count": 32,
   "id": "1a3b1ff7",
   "metadata": {},
   "outputs": [
    {
     "data": {
      "text/html": [
       "<div>\n",
       "<style scoped>\n",
       "    .dataframe tbody tr th:only-of-type {\n",
       "        vertical-align: middle;\n",
       "    }\n",
       "\n",
       "    .dataframe tbody tr th {\n",
       "        vertical-align: top;\n",
       "    }\n",
       "\n",
       "    .dataframe thead th {\n",
       "        text-align: right;\n",
       "    }\n",
       "</style>\n",
       "<table border=\"1\" class=\"dataframe\">\n",
       "  <thead>\n",
       "    <tr style=\"text-align: right;\">\n",
       "      <th></th>\n",
       "      <th>Text_sp</th>\n",
       "      <th>count</th>\n",
       "      <th>Topic</th>\n",
       "      <th>Text</th>\n",
       "    </tr>\n",
       "  </thead>\n",
       "  <tbody>\n",
       "    <tr>\n",
       "      <th>0</th>\n",
       "      <td>ver</td>\n",
       "      <td>10</td>\n",
       "      <td>0</td>\n",
       "      <td>see</td>\n",
       "    </tr>\n",
       "    <tr>\n",
       "      <th>1</th>\n",
       "      <td>persona</td>\n",
       "      <td>9</td>\n",
       "      <td>0</td>\n",
       "      <td>person</td>\n",
       "    </tr>\n",
       "    <tr>\n",
       "      <th>2</th>\n",
       "      <td>ropa</td>\n",
       "      <td>9</td>\n",
       "      <td>0</td>\n",
       "      <td>clothes</td>\n",
       "    </tr>\n",
       "    <tr>\n",
       "      <th>3</th>\n",
       "      <td>deporte</td>\n",
       "      <td>9</td>\n",
       "      <td>0</td>\n",
       "      <td>sport</td>\n",
       "    </tr>\n",
       "    <tr>\n",
       "      <th>4</th>\n",
       "      <td>nike</td>\n",
       "      <td>8</td>\n",
       "      <td>0</td>\n",
       "      <td>nike</td>\n",
       "    </tr>\n",
       "    <tr>\n",
       "      <th>5</th>\n",
       "      <td>hacer</td>\n",
       "      <td>7</td>\n",
       "      <td>0</td>\n",
       "      <td>do</td>\n",
       "    </tr>\n",
       "    <tr>\n",
       "      <th>6</th>\n",
       "      <td>correr</td>\n",
       "      <td>7</td>\n",
       "      <td>0</td>\n",
       "      <td>run</td>\n",
       "    </tr>\n",
       "    <tr>\n",
       "      <th>7</th>\n",
       "      <td>mensaje</td>\n",
       "      <td>7</td>\n",
       "      <td>0</td>\n",
       "      <td>message</td>\n",
       "    </tr>\n",
       "    <tr>\n",
       "      <th>8</th>\n",
       "      <td>chevere</td>\n",
       "      <td>6</td>\n",
       "      <td>0</td>\n",
       "      <td>cool</td>\n",
       "    </tr>\n",
       "    <tr>\n",
       "      <th>9</th>\n",
       "      <td>sentir</td>\n",
       "      <td>4</td>\n",
       "      <td>0</td>\n",
       "      <td>feel</td>\n",
       "    </tr>\n",
       "    <tr>\n",
       "      <th>15</th>\n",
       "      <td>persona</td>\n",
       "      <td>15</td>\n",
       "      <td>1</td>\n",
       "      <td>person</td>\n",
       "    </tr>\n",
       "    <tr>\n",
       "      <th>16</th>\n",
       "      <td>inspira</td>\n",
       "      <td>7</td>\n",
       "      <td>1</td>\n",
       "      <td>inspire</td>\n",
       "    </tr>\n",
       "    <tr>\n",
       "      <th>17</th>\n",
       "      <td>deportista</td>\n",
       "      <td>6</td>\n",
       "      <td>1</td>\n",
       "      <td>athlete</td>\n",
       "    </tr>\n",
       "    <tr>\n",
       "      <th>18</th>\n",
       "      <td>inspiracion</td>\n",
       "      <td>6</td>\n",
       "      <td>1</td>\n",
       "      <td>inspiration</td>\n",
       "    </tr>\n",
       "    <tr>\n",
       "      <th>19</th>\n",
       "      <td>hazlo</td>\n",
       "      <td>6</td>\n",
       "      <td>1</td>\n",
       "      <td>do it</td>\n",
       "    </tr>\n",
       "    <tr>\n",
       "      <th>20</th>\n",
       "      <td>grande</td>\n",
       "      <td>5</td>\n",
       "      <td>1</td>\n",
       "      <td>big</td>\n",
       "    </tr>\n",
       "    <tr>\n",
       "      <th>21</th>\n",
       "      <td>deporte</td>\n",
       "      <td>5</td>\n",
       "      <td>1</td>\n",
       "      <td>sport</td>\n",
       "    </tr>\n",
       "    <tr>\n",
       "      <th>24</th>\n",
       "      <td>resultado</td>\n",
       "      <td>4</td>\n",
       "      <td>1</td>\n",
       "      <td>result</td>\n",
       "    </tr>\n",
       "    <tr>\n",
       "      <th>26</th>\n",
       "      <td>marca</td>\n",
       "      <td>4</td>\n",
       "      <td>1</td>\n",
       "      <td>brand</td>\n",
       "    </tr>\n",
       "    <tr>\n",
       "      <th>27</th>\n",
       "      <td>inspiracional</td>\n",
       "      <td>3</td>\n",
       "      <td>1</td>\n",
       "      <td>inspirational</td>\n",
       "    </tr>\n",
       "    <tr>\n",
       "      <th>30</th>\n",
       "      <td>deporte</td>\n",
       "      <td>45</td>\n",
       "      <td>2</td>\n",
       "      <td>sport</td>\n",
       "    </tr>\n",
       "    <tr>\n",
       "      <th>31</th>\n",
       "      <td>hacer</td>\n",
       "      <td>21</td>\n",
       "      <td>2</td>\n",
       "      <td>do</td>\n",
       "    </tr>\n",
       "    <tr>\n",
       "      <th>32</th>\n",
       "      <td>ver</td>\n",
       "      <td>20</td>\n",
       "      <td>2</td>\n",
       "      <td>see</td>\n",
       "    </tr>\n",
       "    <tr>\n",
       "      <th>33</th>\n",
       "      <td>ropa</td>\n",
       "      <td>19</td>\n",
       "      <td>2</td>\n",
       "      <td>clothes</td>\n",
       "    </tr>\n",
       "    <tr>\n",
       "      <th>34</th>\n",
       "      <td>video</td>\n",
       "      <td>12</td>\n",
       "      <td>2</td>\n",
       "      <td>video</td>\n",
       "    </tr>\n",
       "    <tr>\n",
       "      <th>35</th>\n",
       "      <td>marca</td>\n",
       "      <td>10</td>\n",
       "      <td>2</td>\n",
       "      <td>brand</td>\n",
       "    </tr>\n",
       "    <tr>\n",
       "      <th>36</th>\n",
       "      <td>vida</td>\n",
       "      <td>9</td>\n",
       "      <td>2</td>\n",
       "      <td>life</td>\n",
       "    </tr>\n",
       "    <tr>\n",
       "      <th>37</th>\n",
       "      <td>siente</td>\n",
       "      <td>8</td>\n",
       "      <td>2</td>\n",
       "      <td>athlete</td>\n",
       "    </tr>\n",
       "    <tr>\n",
       "      <th>38</th>\n",
       "      <td>visto</td>\n",
       "      <td>7</td>\n",
       "      <td>2</td>\n",
       "      <td>seen</td>\n",
       "    </tr>\n",
       "    <tr>\n",
       "      <th>39</th>\n",
       "      <td>voy</td>\n",
       "      <td>6</td>\n",
       "      <td>2</td>\n",
       "      <td>I go</td>\n",
       "    </tr>\n",
       "    <tr>\n",
       "      <th>41</th>\n",
       "      <td>deportista</td>\n",
       "      <td>5</td>\n",
       "      <td>2</td>\n",
       "      <td>athlete</td>\n",
       "    </tr>\n",
       "  </tbody>\n",
       "</table>\n",
       "</div>"
      ],
      "text/plain": [
       "          Text_sp  count  Topic           Text\n",
       "0             ver     10      0            see\n",
       "1         persona      9      0         person\n",
       "2            ropa      9      0        clothes\n",
       "3         deporte      9      0          sport\n",
       "4            nike      8      0           nike\n",
       "5           hacer      7      0             do\n",
       "6          correr      7      0            run\n",
       "7         mensaje      7      0        message\n",
       "8         chevere      6      0           cool\n",
       "9          sentir      4      0           feel\n",
       "15        persona     15      1         person\n",
       "16        inspira      7      1        inspire\n",
       "17     deportista      6      1        athlete\n",
       "18    inspiracion      6      1    inspiration\n",
       "19          hazlo      6      1          do it\n",
       "20         grande      5      1            big\n",
       "21        deporte      5      1          sport\n",
       "24      resultado      4      1         result\n",
       "26          marca      4      1          brand\n",
       "27  inspiracional      3      1  inspirational\n",
       "30        deporte     45      2          sport\n",
       "31          hacer     21      2             do\n",
       "32            ver     20      2            see\n",
       "33           ropa     19      2        clothes\n",
       "34          video     12      2          video\n",
       "35          marca     10      2          brand\n",
       "36           vida      9      2           life\n",
       "37         siente      8      2        athlete\n",
       "38          visto      7      2           seen\n",
       "39            voy      6      2           I go\n",
       "41     deportista      5      2        athlete"
      ]
     },
     "execution_count": 32,
     "metadata": {},
     "output_type": "execute_result"
    }
   ],
   "source": [
    "df_word_per_topic"
   ]
  },
  {
   "cell_type": "code",
   "execution_count": 33,
   "id": "8b2f1ff9",
   "metadata": {},
   "outputs": [],
   "source": [
    "df_word_per_topic = df_word_per_topic.reset_index()"
   ]
  },
  {
   "cell_type": "code",
   "execution_count": 34,
   "id": "95ebb9a9",
   "metadata": {},
   "outputs": [],
   "source": [
    "my_key_list = df_word_per_topic['Text'].to_list()\n",
    "plot_dictionary = dict.fromkeys(my_key_list)\n",
    "for key_val in range(len(my_key_list)):\n",
    "    my_key = df_word_per_topic['Text'][key_val]\n",
    "    if my_key in plot_dictionary:\n",
    "        if not isinstance(plot_dictionary[my_key], list):\n",
    "            # converting key to list type\n",
    "            plot_dictionary[my_key] = [plot_dictionary[my_key]]\n",
    "        # Append the key's value in list\n",
    "        plot_dictionary[my_key].append([df_word_per_topic['count'][key_val],df_word_per_topic['Topic'][key_val]])"
   ]
  },
  {
   "cell_type": "code",
   "execution_count": 35,
   "id": "b1950778",
   "metadata": {},
   "outputs": [
    {
     "data": {
      "text/plain": [
       "{'see': [None, [10, 0], [20, 2]],\n",
       " 'person': [None, [9, 0], [15, 1]],\n",
       " 'clothes': [None, [9, 0], [19, 2]],\n",
       " 'sport': [None, [9, 0], [5, 1], [45, 2]],\n",
       " 'nike': [None, [8, 0]],\n",
       " 'do': [None, [7, 0], [21, 2]],\n",
       " 'run': [None, [7, 0]],\n",
       " 'message': [None, [7, 0]],\n",
       " 'cool': [None, [6, 0]],\n",
       " 'feel': [None, [4, 0]],\n",
       " 'inspire': [None, [7, 1]],\n",
       " 'athlete': [None, [6, 1], [8, 2], [5, 2]],\n",
       " 'inspiration': [None, [6, 1]],\n",
       " 'do it': [None, [6, 1]],\n",
       " 'big': [None, [5, 1]],\n",
       " 'result': [None, [4, 1]],\n",
       " 'brand': [None, [4, 1], [10, 2]],\n",
       " 'inspirational': [None, [3, 1]],\n",
       " 'video': [None, [12, 2]],\n",
       " 'life': [None, [9, 2]],\n",
       " 'seen': [None, [7, 2]],\n",
       " 'I go': [None, [6, 2]]}"
      ]
     },
     "execution_count": 35,
     "metadata": {},
     "output_type": "execute_result"
    }
   ],
   "source": [
    "plot_dictionary"
   ]
  },
  {
   "cell_type": "markdown",
   "id": "8952d0ee",
   "metadata": {},
   "source": [
    "## Visualization of words -> topics"
   ]
  },
  {
   "cell_type": "code",
   "execution_count": 37,
   "id": "7621b82b",
   "metadata": {},
   "outputs": [],
   "source": [
    "source = []\n",
    "target = []\n",
    "values = []\n",
    "words = []\n",
    "color_link = []\n",
    "c = 0\n",
    "domin_por = [int(s) for s in topics_por.Dominant_Topic.mode()[0].split() if s.isdigit()][0]\n",
    "domin_para = [int(s) for s in topics_para.Dominant_Topic.mode()[0].split() if s.isdigit()][0]\n",
    "for key, list_value in plot_dictionary.items():\n",
    "    words.append(key)\n",
    "    for j in range(1,len(list_value)):\n",
    "        source.append(c+(n_topics))\n",
    "        target.append(list_value[j][1])\n",
    "        values.append(list_value[j][0])\n",
    "        if list_value[j][1] == 1 : \n",
    "            color_link.append('#5086c6')\n",
    "        elif list_value[j][1] == 0 : \n",
    "            color_link.append('#ed553b')\n",
    "        else: \n",
    "            color_link.append('#dedede')\n",
    "    c += 1"
   ]
  },
  {
   "cell_type": "code",
   "execution_count": 38,
   "id": "c5bae120",
   "metadata": {},
   "outputs": [],
   "source": [
    "topicos = []\n",
    "labels = []\n",
    "for j in range(0,n_topics):\n",
    "    aux = \"Topic \" + str(j)\n",
    "    topicos.append(aux)\n",
    "labels.extend(topicos)\n",
    "labels.extend(words)"
   ]
  },
  {
   "cell_type": "code",
   "execution_count": 39,
   "id": "62a9c97c",
   "metadata": {},
   "outputs": [
    {
     "data": {
      "application/vnd.plotly.v1+json": {
       "config": {
        "plotlyServerURL": "https://plot.ly"
       },
       "data": [
        {
         "arrangement": "snap",
         "link": {
          "color": [
           "#ed553b",
           "#dedede",
           "#ed553b",
           "#5086c6",
           "#ed553b",
           "#dedede",
           "#ed553b",
           "#5086c6",
           "#dedede",
           "#ed553b",
           "#ed553b",
           "#dedede",
           "#ed553b",
           "#ed553b",
           "#ed553b",
           "#ed553b",
           "#5086c6",
           "#5086c6",
           "#dedede",
           "#dedede",
           "#5086c6",
           "#5086c6",
           "#5086c6",
           "#5086c6",
           "#5086c6",
           "#dedede",
           "#5086c6",
           "#dedede",
           "#dedede",
           "#dedede",
           "#dedede"
          ],
          "source": [
           3,
           3,
           4,
           4,
           5,
           5,
           6,
           6,
           6,
           7,
           8,
           8,
           9,
           10,
           11,
           12,
           13,
           14,
           14,
           14,
           15,
           16,
           17,
           18,
           19,
           19,
           20,
           21,
           22,
           23,
           24
          ],
          "target": [
           0,
           2,
           0,
           1,
           0,
           2,
           0,
           1,
           2,
           0,
           0,
           2,
           0,
           0,
           0,
           0,
           1,
           1,
           2,
           2,
           1,
           1,
           1,
           1,
           1,
           2,
           1,
           2,
           2,
           2,
           2
          ],
          "value": [
           10,
           20,
           9,
           15,
           9,
           19,
           9,
           5,
           45,
           8,
           7,
           21,
           7,
           7,
           6,
           4,
           7,
           6,
           8,
           5,
           6,
           6,
           5,
           4,
           4,
           10,
           3,
           12,
           9,
           7,
           6
          ]
         },
         "node": {
          "color": "#0a553b",
          "label": [
           "Topic 0",
           "Topic 1",
           "Topic 2",
           "see",
           "person",
           "clothes",
           "sport",
           "nike",
           "do",
           "run",
           "message",
           "cool",
           "feel",
           "inspire",
           "athlete",
           "inspiration",
           "do it",
           "big",
           "result",
           "brand",
           "inspirational",
           "video",
           "life",
           "seen",
           "I go"
          ]
         },
         "type": "sankey"
        }
       ],
       "layout": {
        "font": {
         "color": "black",
         "size": 20
        },
        "hovermode": "x",
        "template": {
         "data": {
          "bar": [
           {
            "error_x": {
             "color": "#2a3f5f"
            },
            "error_y": {
             "color": "#2a3f5f"
            },
            "marker": {
             "line": {
              "color": "#E5ECF6",
              "width": 0.5
             },
             "pattern": {
              "fillmode": "overlay",
              "size": 10,
              "solidity": 0.2
             }
            },
            "type": "bar"
           }
          ],
          "barpolar": [
           {
            "marker": {
             "line": {
              "color": "#E5ECF6",
              "width": 0.5
             },
             "pattern": {
              "fillmode": "overlay",
              "size": 10,
              "solidity": 0.2
             }
            },
            "type": "barpolar"
           }
          ],
          "carpet": [
           {
            "aaxis": {
             "endlinecolor": "#2a3f5f",
             "gridcolor": "white",
             "linecolor": "white",
             "minorgridcolor": "white",
             "startlinecolor": "#2a3f5f"
            },
            "baxis": {
             "endlinecolor": "#2a3f5f",
             "gridcolor": "white",
             "linecolor": "white",
             "minorgridcolor": "white",
             "startlinecolor": "#2a3f5f"
            },
            "type": "carpet"
           }
          ],
          "choropleth": [
           {
            "colorbar": {
             "outlinewidth": 0,
             "ticks": ""
            },
            "type": "choropleth"
           }
          ],
          "contour": [
           {
            "colorbar": {
             "outlinewidth": 0,
             "ticks": ""
            },
            "colorscale": [
             [
              0,
              "#0d0887"
             ],
             [
              0.1111111111111111,
              "#46039f"
             ],
             [
              0.2222222222222222,
              "#7201a8"
             ],
             [
              0.3333333333333333,
              "#9c179e"
             ],
             [
              0.4444444444444444,
              "#bd3786"
             ],
             [
              0.5555555555555556,
              "#d8576b"
             ],
             [
              0.6666666666666666,
              "#ed7953"
             ],
             [
              0.7777777777777778,
              "#fb9f3a"
             ],
             [
              0.8888888888888888,
              "#fdca26"
             ],
             [
              1,
              "#f0f921"
             ]
            ],
            "type": "contour"
           }
          ],
          "contourcarpet": [
           {
            "colorbar": {
             "outlinewidth": 0,
             "ticks": ""
            },
            "type": "contourcarpet"
           }
          ],
          "heatmap": [
           {
            "colorbar": {
             "outlinewidth": 0,
             "ticks": ""
            },
            "colorscale": [
             [
              0,
              "#0d0887"
             ],
             [
              0.1111111111111111,
              "#46039f"
             ],
             [
              0.2222222222222222,
              "#7201a8"
             ],
             [
              0.3333333333333333,
              "#9c179e"
             ],
             [
              0.4444444444444444,
              "#bd3786"
             ],
             [
              0.5555555555555556,
              "#d8576b"
             ],
             [
              0.6666666666666666,
              "#ed7953"
             ],
             [
              0.7777777777777778,
              "#fb9f3a"
             ],
             [
              0.8888888888888888,
              "#fdca26"
             ],
             [
              1,
              "#f0f921"
             ]
            ],
            "type": "heatmap"
           }
          ],
          "heatmapgl": [
           {
            "colorbar": {
             "outlinewidth": 0,
             "ticks": ""
            },
            "colorscale": [
             [
              0,
              "#0d0887"
             ],
             [
              0.1111111111111111,
              "#46039f"
             ],
             [
              0.2222222222222222,
              "#7201a8"
             ],
             [
              0.3333333333333333,
              "#9c179e"
             ],
             [
              0.4444444444444444,
              "#bd3786"
             ],
             [
              0.5555555555555556,
              "#d8576b"
             ],
             [
              0.6666666666666666,
              "#ed7953"
             ],
             [
              0.7777777777777778,
              "#fb9f3a"
             ],
             [
              0.8888888888888888,
              "#fdca26"
             ],
             [
              1,
              "#f0f921"
             ]
            ],
            "type": "heatmapgl"
           }
          ],
          "histogram": [
           {
            "marker": {
             "pattern": {
              "fillmode": "overlay",
              "size": 10,
              "solidity": 0.2
             }
            },
            "type": "histogram"
           }
          ],
          "histogram2d": [
           {
            "colorbar": {
             "outlinewidth": 0,
             "ticks": ""
            },
            "colorscale": [
             [
              0,
              "#0d0887"
             ],
             [
              0.1111111111111111,
              "#46039f"
             ],
             [
              0.2222222222222222,
              "#7201a8"
             ],
             [
              0.3333333333333333,
              "#9c179e"
             ],
             [
              0.4444444444444444,
              "#bd3786"
             ],
             [
              0.5555555555555556,
              "#d8576b"
             ],
             [
              0.6666666666666666,
              "#ed7953"
             ],
             [
              0.7777777777777778,
              "#fb9f3a"
             ],
             [
              0.8888888888888888,
              "#fdca26"
             ],
             [
              1,
              "#f0f921"
             ]
            ],
            "type": "histogram2d"
           }
          ],
          "histogram2dcontour": [
           {
            "colorbar": {
             "outlinewidth": 0,
             "ticks": ""
            },
            "colorscale": [
             [
              0,
              "#0d0887"
             ],
             [
              0.1111111111111111,
              "#46039f"
             ],
             [
              0.2222222222222222,
              "#7201a8"
             ],
             [
              0.3333333333333333,
              "#9c179e"
             ],
             [
              0.4444444444444444,
              "#bd3786"
             ],
             [
              0.5555555555555556,
              "#d8576b"
             ],
             [
              0.6666666666666666,
              "#ed7953"
             ],
             [
              0.7777777777777778,
              "#fb9f3a"
             ],
             [
              0.8888888888888888,
              "#fdca26"
             ],
             [
              1,
              "#f0f921"
             ]
            ],
            "type": "histogram2dcontour"
           }
          ],
          "mesh3d": [
           {
            "colorbar": {
             "outlinewidth": 0,
             "ticks": ""
            },
            "type": "mesh3d"
           }
          ],
          "parcoords": [
           {
            "line": {
             "colorbar": {
              "outlinewidth": 0,
              "ticks": ""
             }
            },
            "type": "parcoords"
           }
          ],
          "pie": [
           {
            "automargin": true,
            "type": "pie"
           }
          ],
          "scatter": [
           {
            "marker": {
             "colorbar": {
              "outlinewidth": 0,
              "ticks": ""
             }
            },
            "type": "scatter"
           }
          ],
          "scatter3d": [
           {
            "line": {
             "colorbar": {
              "outlinewidth": 0,
              "ticks": ""
             }
            },
            "marker": {
             "colorbar": {
              "outlinewidth": 0,
              "ticks": ""
             }
            },
            "type": "scatter3d"
           }
          ],
          "scattercarpet": [
           {
            "marker": {
             "colorbar": {
              "outlinewidth": 0,
              "ticks": ""
             }
            },
            "type": "scattercarpet"
           }
          ],
          "scattergeo": [
           {
            "marker": {
             "colorbar": {
              "outlinewidth": 0,
              "ticks": ""
             }
            },
            "type": "scattergeo"
           }
          ],
          "scattergl": [
           {
            "marker": {
             "colorbar": {
              "outlinewidth": 0,
              "ticks": ""
             }
            },
            "type": "scattergl"
           }
          ],
          "scattermapbox": [
           {
            "marker": {
             "colorbar": {
              "outlinewidth": 0,
              "ticks": ""
             }
            },
            "type": "scattermapbox"
           }
          ],
          "scatterpolar": [
           {
            "marker": {
             "colorbar": {
              "outlinewidth": 0,
              "ticks": ""
             }
            },
            "type": "scatterpolar"
           }
          ],
          "scatterpolargl": [
           {
            "marker": {
             "colorbar": {
              "outlinewidth": 0,
              "ticks": ""
             }
            },
            "type": "scatterpolargl"
           }
          ],
          "scatterternary": [
           {
            "marker": {
             "colorbar": {
              "outlinewidth": 0,
              "ticks": ""
             }
            },
            "type": "scatterternary"
           }
          ],
          "surface": [
           {
            "colorbar": {
             "outlinewidth": 0,
             "ticks": ""
            },
            "colorscale": [
             [
              0,
              "#0d0887"
             ],
             [
              0.1111111111111111,
              "#46039f"
             ],
             [
              0.2222222222222222,
              "#7201a8"
             ],
             [
              0.3333333333333333,
              "#9c179e"
             ],
             [
              0.4444444444444444,
              "#bd3786"
             ],
             [
              0.5555555555555556,
              "#d8576b"
             ],
             [
              0.6666666666666666,
              "#ed7953"
             ],
             [
              0.7777777777777778,
              "#fb9f3a"
             ],
             [
              0.8888888888888888,
              "#fdca26"
             ],
             [
              1,
              "#f0f921"
             ]
            ],
            "type": "surface"
           }
          ],
          "table": [
           {
            "cells": {
             "fill": {
              "color": "#EBF0F8"
             },
             "line": {
              "color": "white"
             }
            },
            "header": {
             "fill": {
              "color": "#C8D4E3"
             },
             "line": {
              "color": "white"
             }
            },
            "type": "table"
           }
          ]
         },
         "layout": {
          "annotationdefaults": {
           "arrowcolor": "#2a3f5f",
           "arrowhead": 0,
           "arrowwidth": 1
          },
          "autotypenumbers": "strict",
          "coloraxis": {
           "colorbar": {
            "outlinewidth": 0,
            "ticks": ""
           }
          },
          "colorscale": {
           "diverging": [
            [
             0,
             "#8e0152"
            ],
            [
             0.1,
             "#c51b7d"
            ],
            [
             0.2,
             "#de77ae"
            ],
            [
             0.3,
             "#f1b6da"
            ],
            [
             0.4,
             "#fde0ef"
            ],
            [
             0.5,
             "#f7f7f7"
            ],
            [
             0.6,
             "#e6f5d0"
            ],
            [
             0.7,
             "#b8e186"
            ],
            [
             0.8,
             "#7fbc41"
            ],
            [
             0.9,
             "#4d9221"
            ],
            [
             1,
             "#276419"
            ]
           ],
           "sequential": [
            [
             0,
             "#0d0887"
            ],
            [
             0.1111111111111111,
             "#46039f"
            ],
            [
             0.2222222222222222,
             "#7201a8"
            ],
            [
             0.3333333333333333,
             "#9c179e"
            ],
            [
             0.4444444444444444,
             "#bd3786"
            ],
            [
             0.5555555555555556,
             "#d8576b"
            ],
            [
             0.6666666666666666,
             "#ed7953"
            ],
            [
             0.7777777777777778,
             "#fb9f3a"
            ],
            [
             0.8888888888888888,
             "#fdca26"
            ],
            [
             1,
             "#f0f921"
            ]
           ],
           "sequentialminus": [
            [
             0,
             "#0d0887"
            ],
            [
             0.1111111111111111,
             "#46039f"
            ],
            [
             0.2222222222222222,
             "#7201a8"
            ],
            [
             0.3333333333333333,
             "#9c179e"
            ],
            [
             0.4444444444444444,
             "#bd3786"
            ],
            [
             0.5555555555555556,
             "#d8576b"
            ],
            [
             0.6666666666666666,
             "#ed7953"
            ],
            [
             0.7777777777777778,
             "#fb9f3a"
            ],
            [
             0.8888888888888888,
             "#fdca26"
            ],
            [
             1,
             "#f0f921"
            ]
           ]
          },
          "colorway": [
           "#636efa",
           "#EF553B",
           "#00cc96",
           "#ab63fa",
           "#FFA15A",
           "#19d3f3",
           "#FF6692",
           "#B6E880",
           "#FF97FF",
           "#FECB52"
          ],
          "font": {
           "color": "#2a3f5f"
          },
          "geo": {
           "bgcolor": "white",
           "lakecolor": "white",
           "landcolor": "#E5ECF6",
           "showlakes": true,
           "showland": true,
           "subunitcolor": "white"
          },
          "hoverlabel": {
           "align": "left"
          },
          "hovermode": "closest",
          "mapbox": {
           "style": "light"
          },
          "paper_bgcolor": "white",
          "plot_bgcolor": "#E5ECF6",
          "polar": {
           "angularaxis": {
            "gridcolor": "white",
            "linecolor": "white",
            "ticks": ""
           },
           "bgcolor": "#E5ECF6",
           "radialaxis": {
            "gridcolor": "white",
            "linecolor": "white",
            "ticks": ""
           }
          },
          "scene": {
           "xaxis": {
            "backgroundcolor": "#E5ECF6",
            "gridcolor": "white",
            "gridwidth": 2,
            "linecolor": "white",
            "showbackground": true,
            "ticks": "",
            "zerolinecolor": "white"
           },
           "yaxis": {
            "backgroundcolor": "#E5ECF6",
            "gridcolor": "white",
            "gridwidth": 2,
            "linecolor": "white",
            "showbackground": true,
            "ticks": "",
            "zerolinecolor": "white"
           },
           "zaxis": {
            "backgroundcolor": "#E5ECF6",
            "gridcolor": "white",
            "gridwidth": 2,
            "linecolor": "white",
            "showbackground": true,
            "ticks": "",
            "zerolinecolor": "white"
           }
          },
          "shapedefaults": {
           "line": {
            "color": "#2a3f5f"
           }
          },
          "ternary": {
           "aaxis": {
            "gridcolor": "white",
            "linecolor": "white",
            "ticks": ""
           },
           "baxis": {
            "gridcolor": "white",
            "linecolor": "white",
            "ticks": ""
           },
           "bgcolor": "#E5ECF6",
           "caxis": {
            "gridcolor": "white",
            "linecolor": "white",
            "ticks": ""
           }
          },
          "title": {
           "x": 0.05
          },
          "xaxis": {
           "automargin": true,
           "gridcolor": "white",
           "linecolor": "white",
           "ticks": "",
           "title": {
            "standoff": 15
           },
           "zerolinecolor": "white",
           "zerolinewidth": 2
          },
          "yaxis": {
           "automargin": true,
           "gridcolor": "white",
           "linecolor": "white",
           "ticks": "",
           "title": {
            "standoff": 15
           },
           "zerolinecolor": "white",
           "zerolinewidth": 2
          }
         }
        }
       }
      },
      "text/html": [
       "<div>                            <div id=\"55e5c2b4-d511-4b91-8046-fc508b483c39\" class=\"plotly-graph-div\" style=\"height:525px; width:100%;\"></div>            <script type=\"text/javascript\">                require([\"plotly\"], function(Plotly) {                    window.PLOTLYENV=window.PLOTLYENV || {};                                    if (document.getElementById(\"55e5c2b4-d511-4b91-8046-fc508b483c39\")) {                    Plotly.newPlot(                        \"55e5c2b4-d511-4b91-8046-fc508b483c39\",                        [{\"arrangement\":\"snap\",\"link\":{\"color\":[\"#ed553b\",\"#dedede\",\"#ed553b\",\"#5086c6\",\"#ed553b\",\"#dedede\",\"#ed553b\",\"#5086c6\",\"#dedede\",\"#ed553b\",\"#ed553b\",\"#dedede\",\"#ed553b\",\"#ed553b\",\"#ed553b\",\"#ed553b\",\"#5086c6\",\"#5086c6\",\"#dedede\",\"#dedede\",\"#5086c6\",\"#5086c6\",\"#5086c6\",\"#5086c6\",\"#5086c6\",\"#dedede\",\"#5086c6\",\"#dedede\",\"#dedede\",\"#dedede\",\"#dedede\"],\"source\":[3,3,4,4,5,5,6,6,6,7,8,8,9,10,11,12,13,14,14,14,15,16,17,18,19,19,20,21,22,23,24],\"target\":[0,2,0,1,0,2,0,1,2,0,0,2,0,0,0,0,1,1,2,2,1,1,1,1,1,2,1,2,2,2,2],\"value\":[10,20,9,15,9,19,9,5,45,8,7,21,7,7,6,4,7,6,8,5,6,6,5,4,4,10,3,12,9,7,6]},\"node\":{\"color\":\"#0a553b\",\"label\":[\"Topic 0\",\"Topic 1\",\"Topic 2\",\"see\",\"person\",\"clothes\",\"sport\",\"nike\",\"do\",\"run\",\"message\",\"cool\",\"feel\",\"inspire\",\"athlete\",\"inspiration\",\"do it\",\"big\",\"result\",\"brand\",\"inspirational\",\"video\",\"life\",\"seen\",\"I go\"]},\"type\":\"sankey\"}],                        {\"font\":{\"color\":\"black\",\"size\":20},\"hovermode\":\"x\",\"template\":{\"data\":{\"bar\":[{\"error_x\":{\"color\":\"#2a3f5f\"},\"error_y\":{\"color\":\"#2a3f5f\"},\"marker\":{\"line\":{\"color\":\"#E5ECF6\",\"width\":0.5},\"pattern\":{\"fillmode\":\"overlay\",\"size\":10,\"solidity\":0.2}},\"type\":\"bar\"}],\"barpolar\":[{\"marker\":{\"line\":{\"color\":\"#E5ECF6\",\"width\":0.5},\"pattern\":{\"fillmode\":\"overlay\",\"size\":10,\"solidity\":0.2}},\"type\":\"barpolar\"}],\"carpet\":[{\"aaxis\":{\"endlinecolor\":\"#2a3f5f\",\"gridcolor\":\"white\",\"linecolor\":\"white\",\"minorgridcolor\":\"white\",\"startlinecolor\":\"#2a3f5f\"},\"baxis\":{\"endlinecolor\":\"#2a3f5f\",\"gridcolor\":\"white\",\"linecolor\":\"white\",\"minorgridcolor\":\"white\",\"startlinecolor\":\"#2a3f5f\"},\"type\":\"carpet\"}],\"choropleth\":[{\"colorbar\":{\"outlinewidth\":0,\"ticks\":\"\"},\"type\":\"choropleth\"}],\"contour\":[{\"colorbar\":{\"outlinewidth\":0,\"ticks\":\"\"},\"colorscale\":[[0.0,\"#0d0887\"],[0.1111111111111111,\"#46039f\"],[0.2222222222222222,\"#7201a8\"],[0.3333333333333333,\"#9c179e\"],[0.4444444444444444,\"#bd3786\"],[0.5555555555555556,\"#d8576b\"],[0.6666666666666666,\"#ed7953\"],[0.7777777777777778,\"#fb9f3a\"],[0.8888888888888888,\"#fdca26\"],[1.0,\"#f0f921\"]],\"type\":\"contour\"}],\"contourcarpet\":[{\"colorbar\":{\"outlinewidth\":0,\"ticks\":\"\"},\"type\":\"contourcarpet\"}],\"heatmap\":[{\"colorbar\":{\"outlinewidth\":0,\"ticks\":\"\"},\"colorscale\":[[0.0,\"#0d0887\"],[0.1111111111111111,\"#46039f\"],[0.2222222222222222,\"#7201a8\"],[0.3333333333333333,\"#9c179e\"],[0.4444444444444444,\"#bd3786\"],[0.5555555555555556,\"#d8576b\"],[0.6666666666666666,\"#ed7953\"],[0.7777777777777778,\"#fb9f3a\"],[0.8888888888888888,\"#fdca26\"],[1.0,\"#f0f921\"]],\"type\":\"heatmap\"}],\"heatmapgl\":[{\"colorbar\":{\"outlinewidth\":0,\"ticks\":\"\"},\"colorscale\":[[0.0,\"#0d0887\"],[0.1111111111111111,\"#46039f\"],[0.2222222222222222,\"#7201a8\"],[0.3333333333333333,\"#9c179e\"],[0.4444444444444444,\"#bd3786\"],[0.5555555555555556,\"#d8576b\"],[0.6666666666666666,\"#ed7953\"],[0.7777777777777778,\"#fb9f3a\"],[0.8888888888888888,\"#fdca26\"],[1.0,\"#f0f921\"]],\"type\":\"heatmapgl\"}],\"histogram\":[{\"marker\":{\"pattern\":{\"fillmode\":\"overlay\",\"size\":10,\"solidity\":0.2}},\"type\":\"histogram\"}],\"histogram2d\":[{\"colorbar\":{\"outlinewidth\":0,\"ticks\":\"\"},\"colorscale\":[[0.0,\"#0d0887\"],[0.1111111111111111,\"#46039f\"],[0.2222222222222222,\"#7201a8\"],[0.3333333333333333,\"#9c179e\"],[0.4444444444444444,\"#bd3786\"],[0.5555555555555556,\"#d8576b\"],[0.6666666666666666,\"#ed7953\"],[0.7777777777777778,\"#fb9f3a\"],[0.8888888888888888,\"#fdca26\"],[1.0,\"#f0f921\"]],\"type\":\"histogram2d\"}],\"histogram2dcontour\":[{\"colorbar\":{\"outlinewidth\":0,\"ticks\":\"\"},\"colorscale\":[[0.0,\"#0d0887\"],[0.1111111111111111,\"#46039f\"],[0.2222222222222222,\"#7201a8\"],[0.3333333333333333,\"#9c179e\"],[0.4444444444444444,\"#bd3786\"],[0.5555555555555556,\"#d8576b\"],[0.6666666666666666,\"#ed7953\"],[0.7777777777777778,\"#fb9f3a\"],[0.8888888888888888,\"#fdca26\"],[1.0,\"#f0f921\"]],\"type\":\"histogram2dcontour\"}],\"mesh3d\":[{\"colorbar\":{\"outlinewidth\":0,\"ticks\":\"\"},\"type\":\"mesh3d\"}],\"parcoords\":[{\"line\":{\"colorbar\":{\"outlinewidth\":0,\"ticks\":\"\"}},\"type\":\"parcoords\"}],\"pie\":[{\"automargin\":true,\"type\":\"pie\"}],\"scatter\":[{\"marker\":{\"colorbar\":{\"outlinewidth\":0,\"ticks\":\"\"}},\"type\":\"scatter\"}],\"scatter3d\":[{\"line\":{\"colorbar\":{\"outlinewidth\":0,\"ticks\":\"\"}},\"marker\":{\"colorbar\":{\"outlinewidth\":0,\"ticks\":\"\"}},\"type\":\"scatter3d\"}],\"scattercarpet\":[{\"marker\":{\"colorbar\":{\"outlinewidth\":0,\"ticks\":\"\"}},\"type\":\"scattercarpet\"}],\"scattergeo\":[{\"marker\":{\"colorbar\":{\"outlinewidth\":0,\"ticks\":\"\"}},\"type\":\"scattergeo\"}],\"scattergl\":[{\"marker\":{\"colorbar\":{\"outlinewidth\":0,\"ticks\":\"\"}},\"type\":\"scattergl\"}],\"scattermapbox\":[{\"marker\":{\"colorbar\":{\"outlinewidth\":0,\"ticks\":\"\"}},\"type\":\"scattermapbox\"}],\"scatterpolar\":[{\"marker\":{\"colorbar\":{\"outlinewidth\":0,\"ticks\":\"\"}},\"type\":\"scatterpolar\"}],\"scatterpolargl\":[{\"marker\":{\"colorbar\":{\"outlinewidth\":0,\"ticks\":\"\"}},\"type\":\"scatterpolargl\"}],\"scatterternary\":[{\"marker\":{\"colorbar\":{\"outlinewidth\":0,\"ticks\":\"\"}},\"type\":\"scatterternary\"}],\"surface\":[{\"colorbar\":{\"outlinewidth\":0,\"ticks\":\"\"},\"colorscale\":[[0.0,\"#0d0887\"],[0.1111111111111111,\"#46039f\"],[0.2222222222222222,\"#7201a8\"],[0.3333333333333333,\"#9c179e\"],[0.4444444444444444,\"#bd3786\"],[0.5555555555555556,\"#d8576b\"],[0.6666666666666666,\"#ed7953\"],[0.7777777777777778,\"#fb9f3a\"],[0.8888888888888888,\"#fdca26\"],[1.0,\"#f0f921\"]],\"type\":\"surface\"}],\"table\":[{\"cells\":{\"fill\":{\"color\":\"#EBF0F8\"},\"line\":{\"color\":\"white\"}},\"header\":{\"fill\":{\"color\":\"#C8D4E3\"},\"line\":{\"color\":\"white\"}},\"type\":\"table\"}]},\"layout\":{\"annotationdefaults\":{\"arrowcolor\":\"#2a3f5f\",\"arrowhead\":0,\"arrowwidth\":1},\"autotypenumbers\":\"strict\",\"coloraxis\":{\"colorbar\":{\"outlinewidth\":0,\"ticks\":\"\"}},\"colorscale\":{\"diverging\":[[0,\"#8e0152\"],[0.1,\"#c51b7d\"],[0.2,\"#de77ae\"],[0.3,\"#f1b6da\"],[0.4,\"#fde0ef\"],[0.5,\"#f7f7f7\"],[0.6,\"#e6f5d0\"],[0.7,\"#b8e186\"],[0.8,\"#7fbc41\"],[0.9,\"#4d9221\"],[1,\"#276419\"]],\"sequential\":[[0.0,\"#0d0887\"],[0.1111111111111111,\"#46039f\"],[0.2222222222222222,\"#7201a8\"],[0.3333333333333333,\"#9c179e\"],[0.4444444444444444,\"#bd3786\"],[0.5555555555555556,\"#d8576b\"],[0.6666666666666666,\"#ed7953\"],[0.7777777777777778,\"#fb9f3a\"],[0.8888888888888888,\"#fdca26\"],[1.0,\"#f0f921\"]],\"sequentialminus\":[[0.0,\"#0d0887\"],[0.1111111111111111,\"#46039f\"],[0.2222222222222222,\"#7201a8\"],[0.3333333333333333,\"#9c179e\"],[0.4444444444444444,\"#bd3786\"],[0.5555555555555556,\"#d8576b\"],[0.6666666666666666,\"#ed7953\"],[0.7777777777777778,\"#fb9f3a\"],[0.8888888888888888,\"#fdca26\"],[1.0,\"#f0f921\"]]},\"colorway\":[\"#636efa\",\"#EF553B\",\"#00cc96\",\"#ab63fa\",\"#FFA15A\",\"#19d3f3\",\"#FF6692\",\"#B6E880\",\"#FF97FF\",\"#FECB52\"],\"font\":{\"color\":\"#2a3f5f\"},\"geo\":{\"bgcolor\":\"white\",\"lakecolor\":\"white\",\"landcolor\":\"#E5ECF6\",\"showlakes\":true,\"showland\":true,\"subunitcolor\":\"white\"},\"hoverlabel\":{\"align\":\"left\"},\"hovermode\":\"closest\",\"mapbox\":{\"style\":\"light\"},\"paper_bgcolor\":\"white\",\"plot_bgcolor\":\"#E5ECF6\",\"polar\":{\"angularaxis\":{\"gridcolor\":\"white\",\"linecolor\":\"white\",\"ticks\":\"\"},\"bgcolor\":\"#E5ECF6\",\"radialaxis\":{\"gridcolor\":\"white\",\"linecolor\":\"white\",\"ticks\":\"\"}},\"scene\":{\"xaxis\":{\"backgroundcolor\":\"#E5ECF6\",\"gridcolor\":\"white\",\"gridwidth\":2,\"linecolor\":\"white\",\"showbackground\":true,\"ticks\":\"\",\"zerolinecolor\":\"white\"},\"yaxis\":{\"backgroundcolor\":\"#E5ECF6\",\"gridcolor\":\"white\",\"gridwidth\":2,\"linecolor\":\"white\",\"showbackground\":true,\"ticks\":\"\",\"zerolinecolor\":\"white\"},\"zaxis\":{\"backgroundcolor\":\"#E5ECF6\",\"gridcolor\":\"white\",\"gridwidth\":2,\"linecolor\":\"white\",\"showbackground\":true,\"ticks\":\"\",\"zerolinecolor\":\"white\"}},\"shapedefaults\":{\"line\":{\"color\":\"#2a3f5f\"}},\"ternary\":{\"aaxis\":{\"gridcolor\":\"white\",\"linecolor\":\"white\",\"ticks\":\"\"},\"baxis\":{\"gridcolor\":\"white\",\"linecolor\":\"white\",\"ticks\":\"\"},\"bgcolor\":\"#E5ECF6\",\"caxis\":{\"gridcolor\":\"white\",\"linecolor\":\"white\",\"ticks\":\"\"}},\"title\":{\"x\":0.05},\"xaxis\":{\"automargin\":true,\"gridcolor\":\"white\",\"linecolor\":\"white\",\"ticks\":\"\",\"title\":{\"standoff\":15},\"zerolinecolor\":\"white\",\"zerolinewidth\":2},\"yaxis\":{\"automargin\":true,\"gridcolor\":\"white\",\"linecolor\":\"white\",\"ticks\":\"\",\"title\":{\"standoff\":15},\"zerolinecolor\":\"white\",\"zerolinewidth\":2}}}},                        {\"responsive\": true}                    ).then(function(){\n",
       "                            \n",
       "var gd = document.getElementById('55e5c2b4-d511-4b91-8046-fc508b483c39');\n",
       "var x = new MutationObserver(function (mutations, observer) {{\n",
       "        var display = window.getComputedStyle(gd).display;\n",
       "        if (!display || display === 'none') {{\n",
       "            console.log([gd, 'removed!']);\n",
       "            Plotly.purge(gd);\n",
       "            observer.disconnect();\n",
       "        }}\n",
       "}});\n",
       "\n",
       "// Listen for the removal of the full notebook cells\n",
       "var notebookContainer = gd.closest('#notebook-container');\n",
       "if (notebookContainer) {{\n",
       "    x.observe(notebookContainer, {childList: true});\n",
       "}}\n",
       "\n",
       "// Listen for the clearing of the current output cell\n",
       "var outputEl = gd.closest('.output');\n",
       "if (outputEl) {{\n",
       "    x.observe(outputEl, {childList: true});\n",
       "}}\n",
       "\n",
       "                        })                };                });            </script>        </div>"
      ]
     },
     "metadata": {},
     "output_type": "display_data"
    }
   ],
   "source": [
    "#https://plotly.com/python/sankey-diagram/\n",
    "import plotly.graph_objects as go\n",
    "import plotly.io as pio\n",
    "pio.kaleido.scope.default_format = \"png\"\n",
    "Fig4 = go.Figure(go.Sankey(\n",
    "    arrangement = \"snap\",\n",
    "    node = dict(\n",
    "        label = labels,\n",
    "        #\"x\": [0.8, 0.8, 0.8, 0.1, 0.1, 0.1, 0.1, 0.1, 0.1, 0.1, 0.1],\n",
    "        #\"y\": [0.8, 0.8, 0.8, 0.1, 0.1, 0.1, 0.1, 0.1, 0.1, 0.1, 0.1],\n",
    "        #pad = 50,\n",
    "        color = \"#0a553b\",\n",
    "        #thickness = 5 #Pixels\n",
    "        #color = color_link,\n",
    "        ),  \n",
    "    link = dict(\n",
    "        source = source,\n",
    "        target = target,\n",
    "        value = values,\n",
    "        color = color_link)))\n",
    "\n",
    "Fig4.update_layout(\n",
    "    hovermode = 'x',\n",
    "    font=dict(size = 20, color = 'black'),\n",
    "    #plot_bgcolor='black',\n",
    "    #paper_bgcolor='black'\n",
    ")\n",
    "pio.write_image(Fig4, 'Figures/sankey.png', width=1600, height=850, scale=1.5)\n",
    "#Fig4.write_html(\"Figures/sankey.html\")\n",
    "Fig4.show()"
   ]
  },
  {
   "cell_type": "markdown",
   "id": "f022f6a9",
   "metadata": {},
   "source": [
    "## Distance between tweets and topics"
   ]
  },
  {
   "cell_type": "code",
   "execution_count": 40,
   "id": "c637f800",
   "metadata": {},
   "outputs": [],
   "source": [
    "tweets = pd.read_csv('Data/tweets_corpus.csv')"
   ]
  },
  {
   "cell_type": "code",
   "execution_count": 41,
   "id": "ab41dfb3",
   "metadata": {},
   "outputs": [
    {
     "data": {
      "text/html": [
       "<div>\n",
       "<style scoped>\n",
       "    .dataframe tbody tr th:only-of-type {\n",
       "        vertical-align: middle;\n",
       "    }\n",
       "\n",
       "    .dataframe tbody tr th {\n",
       "        vertical-align: top;\n",
       "    }\n",
       "\n",
       "    .dataframe thead th {\n",
       "        text-align: right;\n",
       "    }\n",
       "</style>\n",
       "<table border=\"1\" class=\"dataframe\">\n",
       "  <thead>\n",
       "    <tr style=\"text-align: right;\">\n",
       "      <th></th>\n",
       "      <th>tweet</th>\n",
       "    </tr>\n",
       "  </thead>\n",
       "  <tbody>\n",
       "    <tr>\n",
       "      <th>0</th>\n",
       "      <td>peligro eche nike dimite traidor</td>\n",
       "    </tr>\n",
       "    <tr>\n",
       "      <th>1</th>\n",
       "      <td>cambiaron nike publicidad club</td>\n",
       "    </tr>\n",
       "    <tr>\n",
       "      <th>2</th>\n",
       "      <td>hace nyc impacto menos downtown midtown hecha ...</td>\n",
       "    </tr>\n",
       "    <tr>\n",
       "      <th>3</th>\n",
       "      <td>alguien puede ayudarme puedo comprar tenis nik...</td>\n",
       "    </tr>\n",
       "    <tr>\n",
       "      <th>4</th>\n",
       "      <td>entonces llega camiseta nike</td>\n",
       "    </tr>\n",
       "  </tbody>\n",
       "</table>\n",
       "</div>"
      ],
      "text/plain": [
       "                                               tweet\n",
       "0                   peligro eche nike dimite traidor\n",
       "1                     cambiaron nike publicidad club\n",
       "2  hace nyc impacto menos downtown midtown hecha ...\n",
       "3  alguien puede ayudarme puedo comprar tenis nik...\n",
       "4                       entonces llega camiseta nike"
      ]
     },
     "execution_count": 41,
     "metadata": {},
     "output_type": "execute_result"
    }
   ],
   "source": [
    "tweets.head()"
   ]
  },
  {
   "cell_type": "code",
   "execution_count": 42,
   "id": "dcdea9d4",
   "metadata": {},
   "outputs": [],
   "source": [
    "import spacy\n",
    "nlp = spacy.load('es_core_news_sm')"
   ]
  },
  {
   "cell_type": "code",
   "execution_count": 43,
   "id": "e8b4a235",
   "metadata": {},
   "outputs": [],
   "source": [
    "v_topic0 = nlp(' '.join(df_word_per_topic.loc[df_word_per_topic['Topic'] == 0]['Text'].tolist()))\n",
    "v_topic1 = nlp(' '.join(df_word_per_topic.loc[df_word_per_topic['Topic'] == 1]['Text'].tolist()))\n",
    "simi_top1_tweet = []\n",
    "simi_top0_tweet = []\n",
    "tweet_vec = []\n",
    "i = 1\n",
    "for i in range(len(tweets)):\n",
    "    if (len(tweets['tweet'][i].split()) >= 3):\n",
    "        tweet = nlp(tweets['tweet'][i])\n",
    "        tweet_vec.append(tweets['tweet'][i])\n",
    "        tweet_topic0 = v_topic0.similarity(tweet)\n",
    "        simi_top0_tweet.append(tweet_topic0)\n",
    "        tweet_topic1 = v_topic1.similarity(tweet)\n",
    "        simi_top1_tweet.append(tweet_topic1)"
   ]
  },
  {
   "cell_type": "code",
   "execution_count": 44,
   "id": "2bd46dff",
   "metadata": {},
   "outputs": [],
   "source": [
    "data_tuples = list(zip(tweet_vec,simi_top0_tweet,simi_top1_tweet))"
   ]
  },
  {
   "cell_type": "code",
   "execution_count": 45,
   "id": "71a91e8c",
   "metadata": {},
   "outputs": [],
   "source": [
    "df_simi = pd.DataFrame(data_tuples, columns=['Tweet','Topic0','Topic1'])"
   ]
  },
  {
   "cell_type": "code",
   "execution_count": 46,
   "id": "64d84dcf",
   "metadata": {},
   "outputs": [
    {
     "data": {
      "text/html": [
       "<div>\n",
       "<style scoped>\n",
       "    .dataframe tbody tr th:only-of-type {\n",
       "        vertical-align: middle;\n",
       "    }\n",
       "\n",
       "    .dataframe tbody tr th {\n",
       "        vertical-align: top;\n",
       "    }\n",
       "\n",
       "    .dataframe thead th {\n",
       "        text-align: right;\n",
       "    }\n",
       "</style>\n",
       "<table border=\"1\" class=\"dataframe\">\n",
       "  <thead>\n",
       "    <tr style=\"text-align: right;\">\n",
       "      <th></th>\n",
       "      <th>Tweet</th>\n",
       "      <th>Topic0</th>\n",
       "      <th>Topic1</th>\n",
       "    </tr>\n",
       "  </thead>\n",
       "  <tbody>\n",
       "    <tr>\n",
       "      <th>6397</th>\n",
       "      <td>descuento nike chance encuentras</td>\n",
       "      <td>0.536238</td>\n",
       "      <td>0.588120</td>\n",
       "    </tr>\n",
       "    <tr>\n",
       "      <th>6398</th>\n",
       "      <td>nuevo capricho quiero unas nike dunk cuales</td>\n",
       "      <td>0.459810</td>\n",
       "      <td>0.383272</td>\n",
       "    </tr>\n",
       "    <tr>\n",
       "      <th>6399</th>\n",
       "      <td>titular encima tener tremendo olympikus frente...</td>\n",
       "      <td>0.618046</td>\n",
       "      <td>0.616539</td>\n",
       "    </tr>\n",
       "    <tr>\n",
       "      <th>6400</th>\n",
       "      <td>si banda fideos</td>\n",
       "      <td>0.310588</td>\n",
       "      <td>0.311635</td>\n",
       "    </tr>\n",
       "    <tr>\n",
       "      <th>6401</th>\n",
       "      <td>instalacion easy fifa mod manager seleccionar ...</td>\n",
       "      <td>0.764621</td>\n",
       "      <td>0.829230</td>\n",
       "    </tr>\n",
       "  </tbody>\n",
       "</table>\n",
       "</div>"
      ],
      "text/plain": [
       "                                                  Tweet    Topic0    Topic1\n",
       "6397                   descuento nike chance encuentras  0.536238  0.588120\n",
       "6398        nuevo capricho quiero unas nike dunk cuales  0.459810  0.383272\n",
       "6399  titular encima tener tremendo olympikus frente...  0.618046  0.616539\n",
       "6400                                    si banda fideos  0.310588  0.311635\n",
       "6401  instalacion easy fifa mod manager seleccionar ...  0.764621  0.829230"
      ]
     },
     "execution_count": 46,
     "metadata": {},
     "output_type": "execute_result"
    }
   ],
   "source": [
    "df_simi.tail()"
   ]
  },
  {
   "cell_type": "code",
   "execution_count": 47,
   "id": "0b846e14",
   "metadata": {},
   "outputs": [
    {
     "data": {
      "text/html": [
       "<div>\n",
       "<style scoped>\n",
       "    .dataframe tbody tr th:only-of-type {\n",
       "        vertical-align: middle;\n",
       "    }\n",
       "\n",
       "    .dataframe tbody tr th {\n",
       "        vertical-align: top;\n",
       "    }\n",
       "\n",
       "    .dataframe thead th {\n",
       "        text-align: right;\n",
       "    }\n",
       "</style>\n",
       "<table border=\"1\" class=\"dataframe\">\n",
       "  <thead>\n",
       "    <tr style=\"text-align: right;\">\n",
       "      <th></th>\n",
       "      <th>Tweet</th>\n",
       "      <th>Topic0</th>\n",
       "      <th>Topic1</th>\n",
       "    </tr>\n",
       "  </thead>\n",
       "  <tbody>\n",
       "    <tr>\n",
       "      <th>29</th>\n",
       "      <td>mientras dueos nike adidas puma etc sientan to...</td>\n",
       "      <td>0.809791</td>\n",
       "      <td>0.758966</td>\n",
       "    </tr>\n",
       "    <tr>\n",
       "      <th>54</th>\n",
       "      <td>barcelona inter liverpool psg chelsea atletico...</td>\n",
       "      <td>0.819212</td>\n",
       "      <td>0.803134</td>\n",
       "    </tr>\n",
       "    <tr>\n",
       "      <th>133</th>\n",
       "      <td>nike mundial agradece comentario esperan usa d...</td>\n",
       "      <td>0.803215</td>\n",
       "      <td>0.786528</td>\n",
       "    </tr>\n",
       "    <tr>\n",
       "      <th>137</th>\n",
       "      <td>mencio clubes nike dejo nike queria si nike de...</td>\n",
       "      <td>0.800674</td>\n",
       "      <td>0.833653</td>\n",
       "    </tr>\n",
       "    <tr>\n",
       "      <th>206</th>\n",
       "      <td>ahi dao colega tiempo recreo coser pelota pa n...</td>\n",
       "      <td>0.829223</td>\n",
       "      <td>0.766182</td>\n",
       "    </tr>\n",
       "    <tr>\n",
       "      <th>643</th>\n",
       "      <td>barcelona fichas ferran traen copia china cami...</td>\n",
       "      <td>0.801605</td>\n",
       "      <td>0.816355</td>\n",
       "    </tr>\n",
       "    <tr>\n",
       "      <th>744</th>\n",
       "      <td>volviendo empire outlet aunque compre vale pen...</td>\n",
       "      <td>0.814642</td>\n",
       "      <td>0.830451</td>\n",
       "    </tr>\n",
       "    <tr>\n",
       "      <th>829</th>\n",
       "      <td>jezi juu ferran torres haina beji barcelona na...</td>\n",
       "      <td>0.800464</td>\n",
       "      <td>0.793754</td>\n",
       "    </tr>\n",
       "    <tr>\n",
       "      <th>1053</th>\n",
       "      <td>fair play cambium cada ao igual limite salaria...</td>\n",
       "      <td>0.816237</td>\n",
       "      <td>0.813051</td>\n",
       "    </tr>\n",
       "    <tr>\n",
       "      <th>1208</th>\n",
       "      <td>dale cuida pise nike jaja cuello bajo cero ice...</td>\n",
       "      <td>0.817362</td>\n",
       "      <td>0.890089</td>\n",
       "    </tr>\n",
       "    <tr>\n",
       "      <th>1223</th>\n",
       "      <td>olimpia tan grande q ao uso marca representant...</td>\n",
       "      <td>0.802829</td>\n",
       "      <td>0.769230</td>\n",
       "    </tr>\n",
       "    <tr>\n",
       "      <th>1237</th>\n",
       "      <td>love mr mr zepeda fyi zepeda fyi ignorantes qu...</td>\n",
       "      <td>0.800486</td>\n",
       "      <td>0.759930</td>\n",
       "    </tr>\n",
       "    <tr>\n",
       "      <th>1263</th>\n",
       "      <td>firma estadounidense nike patrocina fc barcelo...</td>\n",
       "      <td>0.805300</td>\n",
       "      <td>0.858247</td>\n",
       "    </tr>\n",
       "    <tr>\n",
       "      <th>1405</th>\n",
       "      <td>joven rayssa leal medalla plata tokio presenta...</td>\n",
       "      <td>0.808194</td>\n",
       "      <td>0.810829</td>\n",
       "    </tr>\n",
       "    <tr>\n",
       "      <th>1524</th>\n",
       "      <td>ee uu adobe apple google facebook microsoft am...</td>\n",
       "      <td>0.824130</td>\n",
       "      <td>0.861820</td>\n",
       "    </tr>\n",
       "    <tr>\n",
       "      <th>1548</th>\n",
       "      <td>quiero dior gucci zara coo madre nike solo qui...</td>\n",
       "      <td>0.829488</td>\n",
       "      <td>0.774305</td>\n",
       "    </tr>\n",
       "    <tr>\n",
       "      <th>1551</th>\n",
       "      <td>sabemos empezo llamarlo asi encanta apelativo ...</td>\n",
       "      <td>0.801151</td>\n",
       "      <td>0.797119</td>\n",
       "    </tr>\n",
       "    <tr>\n",
       "      <th>1615</th>\n",
       "      <td>carlos nike queda minita</td>\n",
       "      <td>0.807077</td>\n",
       "      <td>0.772081</td>\n",
       "    </tr>\n",
       "    <tr>\n",
       "      <th>1647</th>\n",
       "      <td>jerry lleva zapatos novio guay elaine lleva go...</td>\n",
       "      <td>0.808991</td>\n",
       "      <td>0.831362</td>\n",
       "    </tr>\n",
       "    <tr>\n",
       "      <th>1805</th>\n",
       "      <td>saludos pais mexico voy femenil varonil c more...</td>\n",
       "      <td>0.819363</td>\n",
       "      <td>0.829196</td>\n",
       "    </tr>\n",
       "    <tr>\n",
       "      <th>1807</th>\n",
       "      <td>kun d persona ke enojan x ke planero zapas nik...</td>\n",
       "      <td>0.816681</td>\n",
       "      <td>0.821694</td>\n",
       "    </tr>\n",
       "    <tr>\n",
       "      <th>1945</th>\n",
       "      <td>apple watch nike gps cellular aluminio plata c...</td>\n",
       "      <td>0.801493</td>\n",
       "      <td>0.815774</td>\n",
       "    </tr>\n",
       "    <tr>\n",
       "      <th>2112</th>\n",
       "      <td>din non xeneran mesmo tedes razon neste caso e...</td>\n",
       "      <td>0.852602</td>\n",
       "      <td>0.863678</td>\n",
       "    </tr>\n",
       "    <tr>\n",
       "      <th>2385</th>\n",
       "      <td>nota nike esfuerza hacer diseo original comple...</td>\n",
       "      <td>0.810293</td>\n",
       "      <td>0.794883</td>\n",
       "    </tr>\n",
       "    <tr>\n",
       "      <th>2416</th>\n",
       "      <td>haces san lorenzo so juda ensobrado vos sorete...</td>\n",
       "      <td>0.807589</td>\n",
       "      <td>0.840333</td>\n",
       "    </tr>\n",
       "    <tr>\n",
       "      <th>2492</th>\n",
       "      <td>perfil tipico pendejo progre cree revolucionar...</td>\n",
       "      <td>0.800115</td>\n",
       "      <td>0.813496</td>\n",
       "    </tr>\n",
       "    <tr>\n",
       "      <th>2497</th>\n",
       "      <td>ezequiel querido cuantos sped arcor conoces cu...</td>\n",
       "      <td>0.821426</td>\n",
       "      <td>0.840381</td>\n",
       "    </tr>\n",
       "    <tr>\n",
       "      <th>2553</th>\n",
       "      <td>idea entiendo permiten lado seguro saben capit...</td>\n",
       "      <td>0.809092</td>\n",
       "      <td>0.817138</td>\n",
       "    </tr>\n",
       "    <tr>\n",
       "      <th>2867</th>\n",
       "      <td>made in calle san luis despues nike under qued...</td>\n",
       "      <td>0.800542</td>\n",
       "      <td>0.824053</td>\n",
       "    </tr>\n",
       "    <tr>\n",
       "      <th>2944</th>\n",
       "      <td>balones nike piquivolley disponibles paseo san...</td>\n",
       "      <td>0.809662</td>\n",
       "      <td>0.820646</td>\n",
       "    </tr>\n",
       "    <tr>\n",
       "      <th>3028</th>\n",
       "      <td>lugar mismo estudio uso bts in grammy museum p...</td>\n",
       "      <td>0.837606</td>\n",
       "      <td>0.859062</td>\n",
       "    </tr>\n",
       "    <tr>\n",
       "      <th>3439</th>\n",
       "      <td>pues tome coca cola vayas walmart autozone us ...</td>\n",
       "      <td>0.822736</td>\n",
       "      <td>0.850993</td>\n",
       "    </tr>\n",
       "    <tr>\n",
       "      <th>3462</th>\n",
       "      <td>necesito sport bra nike cansada ver nias sport...</td>\n",
       "      <td>0.820442</td>\n",
       "      <td>0.747586</td>\n",
       "    </tr>\n",
       "    <tr>\n",
       "      <th>3623</th>\n",
       "      <td>productos participantes nike air max intrl nik...</td>\n",
       "      <td>0.801399</td>\n",
       "      <td>0.826385</td>\n",
       "    </tr>\n",
       "    <tr>\n",
       "      <th>3626</th>\n",
       "      <td>productos participantes nike air max intrl nik...</td>\n",
       "      <td>0.802603</td>\n",
       "      <td>0.841561</td>\n",
       "    </tr>\n",
       "    <tr>\n",
       "      <th>3816</th>\n",
       "      <td>empresas privadas tomando represalias invasion...</td>\n",
       "      <td>0.804681</td>\n",
       "      <td>0.847880</td>\n",
       "    </tr>\n",
       "    <tr>\n",
       "      <th>3950</th>\n",
       "      <td>rusia queda iphones estreno batman bmws zapati...</td>\n",
       "      <td>0.810754</td>\n",
       "      <td>0.822270</td>\n",
       "    </tr>\n",
       "    <tr>\n",
       "      <th>3991</th>\n",
       "      <td>necesito millon pa negocio llama nike jordan low</td>\n",
       "      <td>0.806013</td>\n",
       "      <td>0.752067</td>\n",
       "    </tr>\n",
       "    <tr>\n",
       "      <th>4002</th>\n",
       "      <td>escrito iphone ve netflix prime video hbo amer...</td>\n",
       "      <td>0.806142</td>\n",
       "      <td>0.838598</td>\n",
       "    </tr>\n",
       "    <tr>\n",
       "      <th>4009</th>\n",
       "      <td>haaland fichado barsa jugara aos cobrara ao op...</td>\n",
       "      <td>0.811670</td>\n",
       "      <td>0.840103</td>\n",
       "    </tr>\n",
       "    <tr>\n",
       "      <th>4038</th>\n",
       "      <td>pregunto mc donald burger king kfc van cerrar ...</td>\n",
       "      <td>0.810467</td>\n",
       "      <td>0.857372</td>\n",
       "    </tr>\n",
       "    <tr>\n",
       "      <th>4192</th>\n",
       "      <td>apple google ford harley davidson suspenden ve...</td>\n",
       "      <td>0.840389</td>\n",
       "      <td>0.852929</td>\n",
       "    </tr>\n",
       "    <tr>\n",
       "      <th>4198</th>\n",
       "      <td>navieras msc maersk grupos volvo daimler disne...</td>\n",
       "      <td>0.800320</td>\n",
       "      <td>0.808013</td>\n",
       "    </tr>\n",
       "    <tr>\n",
       "      <th>4222</th>\n",
       "      <td>hacen mala fama aunque mayoria marcas saca zap...</td>\n",
       "      <td>0.804510</td>\n",
       "      <td>0.809656</td>\n",
       "    </tr>\n",
       "    <tr>\n",
       "      <th>4266</th>\n",
       "      <td>nike dunk low grey white modelo disponible mie...</td>\n",
       "      <td>0.801557</td>\n",
       "      <td>0.828973</td>\n",
       "    </tr>\n",
       "    <tr>\n",
       "      <th>4306</th>\n",
       "      <td>corrio kilometros nike run club alien ant farm...</td>\n",
       "      <td>0.818601</td>\n",
       "      <td>0.810538</td>\n",
       "    </tr>\n",
       "    <tr>\n",
       "      <th>4351</th>\n",
       "      <td>boca usa usa boca ame club nio aguanteeeeeeeee...</td>\n",
       "      <td>0.818172</td>\n",
       "      <td>0.845798</td>\n",
       "    </tr>\n",
       "    <tr>\n",
       "      <th>4480</th>\n",
       "      <td>marcas territorio guerra sberbank mayor banco ...</td>\n",
       "      <td>0.833995</td>\n",
       "      <td>0.850666</td>\n",
       "    </tr>\n",
       "    <tr>\n",
       "      <th>4622</th>\n",
       "      <td>curiosidades nike planea ser marca lujo gucci ...</td>\n",
       "      <td>0.843550</td>\n",
       "      <td>0.840535</td>\n",
       "    </tr>\n",
       "    <tr>\n",
       "      <th>4632</th>\n",
       "      <td>quiero adidas millonarios quiero nike nacional...</td>\n",
       "      <td>0.822994</td>\n",
       "      <td>0.816623</td>\n",
       "    </tr>\n",
       "    <tr>\n",
       "      <th>4652</th>\n",
       "      <td>novedad javier milei apoya the current thing v...</td>\n",
       "      <td>0.807749</td>\n",
       "      <td>0.803218</td>\n",
       "    </tr>\n",
       "    <tr>\n",
       "      <th>4660</th>\n",
       "      <td>programa jugamos junta nike laureus sport for ...</td>\n",
       "      <td>0.832813</td>\n",
       "      <td>0.872326</td>\n",
       "    </tr>\n",
       "    <tr>\n",
       "      <th>4731</th>\n",
       "      <td>sacan aire popular liberal echo of moscow proh...</td>\n",
       "      <td>0.813820</td>\n",
       "      <td>0.826592</td>\n",
       "    </tr>\n",
       "    <tr>\n",
       "      <th>4767</th>\n",
       "      <td>si adidas nike gatorade visa mastercard etc ru...</td>\n",
       "      <td>0.822210</td>\n",
       "      <td>0.818885</td>\n",
       "    </tr>\n",
       "    <tr>\n",
       "      <th>4829</th>\n",
       "      <td>empresas dejaron operar rusia apple meta insta...</td>\n",
       "      <td>0.826593</td>\n",
       "      <td>0.860936</td>\n",
       "    </tr>\n",
       "    <tr>\n",
       "      <th>4915</th>\n",
       "      <td>american express visa ojala sirviese positivo ...</td>\n",
       "      <td>0.816254</td>\n",
       "      <td>0.855021</td>\n",
       "    </tr>\n",
       "    <tr>\n",
       "      <th>4957</th>\n",
       "      <td>apple nike visa mastercard netflix google limi...</td>\n",
       "      <td>0.807887</td>\n",
       "      <td>0.829584</td>\n",
       "    </tr>\n",
       "    <tr>\n",
       "      <th>4995</th>\n",
       "      <td>nueva guerra digital financiera mercedes benz ...</td>\n",
       "      <td>0.802801</td>\n",
       "      <td>0.837750</td>\n",
       "    </tr>\n",
       "    <tr>\n",
       "      <th>5147</th>\n",
       "      <td>rt hoy nike nk cap metal swoosh hat unisex nio...</td>\n",
       "      <td>0.802623</td>\n",
       "      <td>0.816237</td>\n",
       "    </tr>\n",
       "    <tr>\n",
       "      <th>5372</th>\n",
       "      <td>si quiero hacer ejercicio apple watch tenis ni...</td>\n",
       "      <td>0.811539</td>\n",
       "      <td>0.835264</td>\n",
       "    </tr>\n",
       "    <tr>\n",
       "      <th>5403</th>\n",
       "      <td>is wearing buzo hoodie gengar pantalon relampa...</td>\n",
       "      <td>0.812778</td>\n",
       "      <td>0.874926</td>\n",
       "    </tr>\n",
       "    <tr>\n",
       "      <th>5421</th>\n",
       "      <td>nike mid athletic club parte coleccion athleti...</td>\n",
       "      <td>0.840919</td>\n",
       "      <td>0.890911</td>\n",
       "    </tr>\n",
       "    <tr>\n",
       "      <th>5453</th>\n",
       "      <td>negocios valores bueno casi parece maana anunc...</td>\n",
       "      <td>0.802333</td>\n",
       "      <td>0.804546</td>\n",
       "    </tr>\n",
       "    <tr>\n",
       "      <th>5527</th>\n",
       "      <td>nike air max plus colores saldran proximamente</td>\n",
       "      <td>0.806232</td>\n",
       "      <td>0.865380</td>\n",
       "    </tr>\n",
       "    <tr>\n",
       "      <th>5634</th>\n",
       "      <td>mami corte gato llama cada rato vos puesta des...</td>\n",
       "      <td>0.800231</td>\n",
       "      <td>0.827447</td>\n",
       "    </tr>\n",
       "    <tr>\n",
       "      <th>5676</th>\n",
       "      <td>super oferta nike dry dril blusas negro negro ...</td>\n",
       "      <td>0.809038</td>\n",
       "      <td>0.849347</td>\n",
       "    </tr>\n",
       "    <tr>\n",
       "      <th>5943</th>\n",
       "      <td>sergio ramos vestia joma sevilla tenia duro in...</td>\n",
       "      <td>0.810008</td>\n",
       "      <td>0.834750</td>\n",
       "    </tr>\n",
       "    <tr>\n",
       "      <th>5988</th>\n",
       "      <td>fin chems piensa haaland ira real madrid cambi...</td>\n",
       "      <td>0.807472</td>\n",
       "      <td>0.859799</td>\n",
       "    </tr>\n",
       "    <tr>\n",
       "      <th>6006</th>\n",
       "      <td>doy bonos mundo importa si empleados sigame ay...</td>\n",
       "      <td>0.819324</td>\n",
       "      <td>0.850283</td>\n",
       "    </tr>\n",
       "    <tr>\n",
       "      <th>6016</th>\n",
       "      <td>zapatos nike air for one informacion siguenos ...</td>\n",
       "      <td>0.836026</td>\n",
       "      <td>0.886565</td>\n",
       "    </tr>\n",
       "    <tr>\n",
       "      <th>6143</th>\n",
       "      <td>anunciaron partida rusia starbucks spotify you...</td>\n",
       "      <td>0.808287</td>\n",
       "      <td>0.842781</td>\n",
       "    </tr>\n",
       "    <tr>\n",
       "      <th>6173</th>\n",
       "      <td>si quiero hacer ejercicio apple watch tenis ni...</td>\n",
       "      <td>0.803626</td>\n",
       "      <td>0.819663</td>\n",
       "    </tr>\n",
       "    <tr>\n",
       "      <th>6205</th>\n",
       "      <td>pues igual entendible fairy mimosin ropa nike ...</td>\n",
       "      <td>0.813845</td>\n",
       "      <td>0.809654</td>\n",
       "    </tr>\n",
       "    <tr>\n",
       "      <th>6207</th>\n",
       "      <td>tipico chabal solo viste nike chandal psg solo...</td>\n",
       "      <td>0.810797</td>\n",
       "      <td>0.799529</td>\n",
       "    </tr>\n",
       "    <tr>\n",
       "      <th>6211</th>\n",
       "      <td>queria ponerme buzo nike solo zapas combinaban...</td>\n",
       "      <td>0.808667</td>\n",
       "      <td>0.770717</td>\n",
       "    </tr>\n",
       "    <tr>\n",
       "      <th>6225</th>\n",
       "      <td>crush super heavy modelo pagina nike jaja siem...</td>\n",
       "      <td>0.817031</td>\n",
       "      <td>0.831152</td>\n",
       "    </tr>\n",
       "    <tr>\n",
       "      <th>6262</th>\n",
       "      <td>iba decir dia apareceria pornhub rodeada marca...</td>\n",
       "      <td>0.813895</td>\n",
       "      <td>0.846011</td>\n",
       "    </tr>\n",
       "    <tr>\n",
       "      <th>6297</th>\n",
       "      <td>empresas cerraron operaciones rusia debido gue...</td>\n",
       "      <td>0.842253</td>\n",
       "      <td>0.902015</td>\n",
       "    </tr>\n",
       "  </tbody>\n",
       "</table>\n",
       "</div>"
      ],
      "text/plain": [
       "                                                  Tweet    Topic0    Topic1\n",
       "29    mientras dueos nike adidas puma etc sientan to...  0.809791  0.758966\n",
       "54    barcelona inter liverpool psg chelsea atletico...  0.819212  0.803134\n",
       "133   nike mundial agradece comentario esperan usa d...  0.803215  0.786528\n",
       "137   mencio clubes nike dejo nike queria si nike de...  0.800674  0.833653\n",
       "206   ahi dao colega tiempo recreo coser pelota pa n...  0.829223  0.766182\n",
       "643   barcelona fichas ferran traen copia china cami...  0.801605  0.816355\n",
       "744   volviendo empire outlet aunque compre vale pen...  0.814642  0.830451\n",
       "829   jezi juu ferran torres haina beji barcelona na...  0.800464  0.793754\n",
       "1053  fair play cambium cada ao igual limite salaria...  0.816237  0.813051\n",
       "1208  dale cuida pise nike jaja cuello bajo cero ice...  0.817362  0.890089\n",
       "1223  olimpia tan grande q ao uso marca representant...  0.802829  0.769230\n",
       "1237  love mr mr zepeda fyi zepeda fyi ignorantes qu...  0.800486  0.759930\n",
       "1263  firma estadounidense nike patrocina fc barcelo...  0.805300  0.858247\n",
       "1405  joven rayssa leal medalla plata tokio presenta...  0.808194  0.810829\n",
       "1524  ee uu adobe apple google facebook microsoft am...  0.824130  0.861820\n",
       "1548  quiero dior gucci zara coo madre nike solo qui...  0.829488  0.774305\n",
       "1551  sabemos empezo llamarlo asi encanta apelativo ...  0.801151  0.797119\n",
       "1615                           carlos nike queda minita  0.807077  0.772081\n",
       "1647  jerry lleva zapatos novio guay elaine lleva go...  0.808991  0.831362\n",
       "1805  saludos pais mexico voy femenil varonil c more...  0.819363  0.829196\n",
       "1807  kun d persona ke enojan x ke planero zapas nik...  0.816681  0.821694\n",
       "1945  apple watch nike gps cellular aluminio plata c...  0.801493  0.815774\n",
       "2112  din non xeneran mesmo tedes razon neste caso e...  0.852602  0.863678\n",
       "2385  nota nike esfuerza hacer diseo original comple...  0.810293  0.794883\n",
       "2416  haces san lorenzo so juda ensobrado vos sorete...  0.807589  0.840333\n",
       "2492  perfil tipico pendejo progre cree revolucionar...  0.800115  0.813496\n",
       "2497  ezequiel querido cuantos sped arcor conoces cu...  0.821426  0.840381\n",
       "2553  idea entiendo permiten lado seguro saben capit...  0.809092  0.817138\n",
       "2867  made in calle san luis despues nike under qued...  0.800542  0.824053\n",
       "2944  balones nike piquivolley disponibles paseo san...  0.809662  0.820646\n",
       "3028  lugar mismo estudio uso bts in grammy museum p...  0.837606  0.859062\n",
       "3439  pues tome coca cola vayas walmart autozone us ...  0.822736  0.850993\n",
       "3462  necesito sport bra nike cansada ver nias sport...  0.820442  0.747586\n",
       "3623  productos participantes nike air max intrl nik...  0.801399  0.826385\n",
       "3626  productos participantes nike air max intrl nik...  0.802603  0.841561\n",
       "3816  empresas privadas tomando represalias invasion...  0.804681  0.847880\n",
       "3950  rusia queda iphones estreno batman bmws zapati...  0.810754  0.822270\n",
       "3991   necesito millon pa negocio llama nike jordan low  0.806013  0.752067\n",
       "4002  escrito iphone ve netflix prime video hbo amer...  0.806142  0.838598\n",
       "4009  haaland fichado barsa jugara aos cobrara ao op...  0.811670  0.840103\n",
       "4038  pregunto mc donald burger king kfc van cerrar ...  0.810467  0.857372\n",
       "4192  apple google ford harley davidson suspenden ve...  0.840389  0.852929\n",
       "4198  navieras msc maersk grupos volvo daimler disne...  0.800320  0.808013\n",
       "4222  hacen mala fama aunque mayoria marcas saca zap...  0.804510  0.809656\n",
       "4266  nike dunk low grey white modelo disponible mie...  0.801557  0.828973\n",
       "4306  corrio kilometros nike run club alien ant farm...  0.818601  0.810538\n",
       "4351  boca usa usa boca ame club nio aguanteeeeeeeee...  0.818172  0.845798\n",
       "4480  marcas territorio guerra sberbank mayor banco ...  0.833995  0.850666\n",
       "4622  curiosidades nike planea ser marca lujo gucci ...  0.843550  0.840535\n",
       "4632  quiero adidas millonarios quiero nike nacional...  0.822994  0.816623\n",
       "4652  novedad javier milei apoya the current thing v...  0.807749  0.803218\n",
       "4660  programa jugamos junta nike laureus sport for ...  0.832813  0.872326\n",
       "4731  sacan aire popular liberal echo of moscow proh...  0.813820  0.826592\n",
       "4767  si adidas nike gatorade visa mastercard etc ru...  0.822210  0.818885\n",
       "4829  empresas dejaron operar rusia apple meta insta...  0.826593  0.860936\n",
       "4915  american express visa ojala sirviese positivo ...  0.816254  0.855021\n",
       "4957  apple nike visa mastercard netflix google limi...  0.807887  0.829584\n",
       "4995  nueva guerra digital financiera mercedes benz ...  0.802801  0.837750\n",
       "5147  rt hoy nike nk cap metal swoosh hat unisex nio...  0.802623  0.816237\n",
       "5372  si quiero hacer ejercicio apple watch tenis ni...  0.811539  0.835264\n",
       "5403  is wearing buzo hoodie gengar pantalon relampa...  0.812778  0.874926\n",
       "5421  nike mid athletic club parte coleccion athleti...  0.840919  0.890911\n",
       "5453  negocios valores bueno casi parece maana anunc...  0.802333  0.804546\n",
       "5527     nike air max plus colores saldran proximamente  0.806232  0.865380\n",
       "5634  mami corte gato llama cada rato vos puesta des...  0.800231  0.827447\n",
       "5676  super oferta nike dry dril blusas negro negro ...  0.809038  0.849347\n",
       "5943  sergio ramos vestia joma sevilla tenia duro in...  0.810008  0.834750\n",
       "5988  fin chems piensa haaland ira real madrid cambi...  0.807472  0.859799\n",
       "6006  doy bonos mundo importa si empleados sigame ay...  0.819324  0.850283\n",
       "6016  zapatos nike air for one informacion siguenos ...  0.836026  0.886565\n",
       "6143  anunciaron partida rusia starbucks spotify you...  0.808287  0.842781\n",
       "6173  si quiero hacer ejercicio apple watch tenis ni...  0.803626  0.819663\n",
       "6205  pues igual entendible fairy mimosin ropa nike ...  0.813845  0.809654\n",
       "6207  tipico chabal solo viste nike chandal psg solo...  0.810797  0.799529\n",
       "6211  queria ponerme buzo nike solo zapas combinaban...  0.808667  0.770717\n",
       "6225  crush super heavy modelo pagina nike jaja siem...  0.817031  0.831152\n",
       "6262  iba decir dia apareceria pornhub rodeada marca...  0.813895  0.846011\n",
       "6297  empresas cerraron operaciones rusia debido gue...  0.842253  0.902015"
      ]
     },
     "execution_count": 47,
     "metadata": {},
     "output_type": "execute_result"
    }
   ],
   "source": [
    "df_simi.loc[df_simi['Topic0'] >= 0.8]"
   ]
  },
  {
   "cell_type": "code",
   "execution_count": 48,
   "id": "0084f8e8",
   "metadata": {},
   "outputs": [
    {
     "data": {
      "text/html": [
       "<div>\n",
       "<style scoped>\n",
       "    .dataframe tbody tr th:only-of-type {\n",
       "        vertical-align: middle;\n",
       "    }\n",
       "\n",
       "    .dataframe tbody tr th {\n",
       "        vertical-align: top;\n",
       "    }\n",
       "\n",
       "    .dataframe thead th {\n",
       "        text-align: right;\n",
       "    }\n",
       "</style>\n",
       "<table border=\"1\" class=\"dataframe\">\n",
       "  <thead>\n",
       "    <tr style=\"text-align: right;\">\n",
       "      <th></th>\n",
       "      <th>Tweet</th>\n",
       "      <th>Topic0</th>\n",
       "      <th>Topic1</th>\n",
       "    </tr>\n",
       "  </thead>\n",
       "  <tbody>\n",
       "    <tr>\n",
       "      <th>131</th>\n",
       "      <td>aqui nuevos bb air force next nature valio pen...</td>\n",
       "      <td>0.736749</td>\n",
       "      <td>0.844933</td>\n",
       "    </tr>\n",
       "    <tr>\n",
       "      <th>1094</th>\n",
       "      <td>irma for intimate time intimate time handsome ...</td>\n",
       "      <td>0.708161</td>\n",
       "      <td>0.821732</td>\n",
       "    </tr>\n",
       "    <tr>\n",
       "      <th>289</th>\n",
       "      <td>ferran torres jugando partido escudo sponsor n...</td>\n",
       "      <td>0.698320</td>\n",
       "      <td>0.801802</td>\n",
       "    </tr>\n",
       "    <tr>\n",
       "      <th>956</th>\n",
       "      <td>conjunto espaol empato gol frente napoles camp...</td>\n",
       "      <td>0.698027</td>\n",
       "      <td>0.801175</td>\n",
       "    </tr>\n",
       "    <tr>\n",
       "      <th>975</th>\n",
       "      <td>camiseta edicion especial aik royal edition</td>\n",
       "      <td>0.645969</td>\n",
       "      <td>0.747013</td>\n",
       "    </tr>\n",
       "    <tr>\n",
       "      <th>353</th>\n",
       "      <td>perdonen relatores di cuenta</td>\n",
       "      <td>0.565834</td>\n",
       "      <td>0.666292</td>\n",
       "    </tr>\n",
       "    <tr>\n",
       "      <th>81</th>\n",
       "      <td>puma tito torres visite ahora viste umbro puma...</td>\n",
       "      <td>0.560436</td>\n",
       "      <td>0.662558</td>\n",
       "    </tr>\n",
       "    <tr>\n",
       "      <th>434</th>\n",
       "      <td>escudo logo nike comprado camiseta mantero rambla</td>\n",
       "      <td>0.548834</td>\n",
       "      <td>0.658225</td>\n",
       "    </tr>\n",
       "    <tr>\n",
       "      <th>312</th>\n",
       "      <td>arquero sobrepeso medio rarito</td>\n",
       "      <td>0.311998</td>\n",
       "      <td>0.423662</td>\n",
       "    </tr>\n",
       "    <tr>\n",
       "      <th>938</th>\n",
       "      <td>favor jaja asi</td>\n",
       "      <td>0.293534</td>\n",
       "      <td>0.403656</td>\n",
       "    </tr>\n",
       "  </tbody>\n",
       "</table>\n",
       "</div>"
      ],
      "text/plain": [
       "                                                  Tweet    Topic0    Topic1\n",
       "131   aqui nuevos bb air force next nature valio pen...  0.736749  0.844933\n",
       "1094  irma for intimate time intimate time handsome ...  0.708161  0.821732\n",
       "289   ferran torres jugando partido escudo sponsor n...  0.698320  0.801802\n",
       "956   conjunto espaol empato gol frente napoles camp...  0.698027  0.801175\n",
       "975         camiseta edicion especial aik royal edition  0.645969  0.747013\n",
       "353                        perdonen relatores di cuenta  0.565834  0.666292\n",
       "81    puma tito torres visite ahora viste umbro puma...  0.560436  0.662558\n",
       "434   escudo logo nike comprado camiseta mantero rambla  0.548834  0.658225\n",
       "312                      arquero sobrepeso medio rarito  0.311998  0.423662\n",
       "938                                      favor jaja asi  0.293534  0.403656"
      ]
     },
     "execution_count": 48,
     "metadata": {},
     "output_type": "execute_result"
    }
   ],
   "source": [
    "res_topic1 = df_simi.loc[df_simi['Topic1'] - df_simi['Topic0'] >= 0.1].head(10).sort_values(by=['Topic0'], ascending=False)\n",
    "res_topic1"
   ]
  },
  {
   "cell_type": "code",
   "execution_count": 49,
   "id": "f64c9351",
   "metadata": {},
   "outputs": [
    {
     "data": {
      "text/html": [
       "<div>\n",
       "<style scoped>\n",
       "    .dataframe tbody tr th:only-of-type {\n",
       "        vertical-align: middle;\n",
       "    }\n",
       "\n",
       "    .dataframe tbody tr th {\n",
       "        vertical-align: top;\n",
       "    }\n",
       "\n",
       "    .dataframe thead th {\n",
       "        text-align: right;\n",
       "    }\n",
       "</style>\n",
       "<table border=\"1\" class=\"dataframe\">\n",
       "  <thead>\n",
       "    <tr style=\"text-align: right;\">\n",
       "      <th></th>\n",
       "      <th>Tweet</th>\n",
       "      <th>Topic0</th>\n",
       "      <th>Topic1</th>\n",
       "    </tr>\n",
       "  </thead>\n",
       "  <tbody>\n",
       "    <tr>\n",
       "      <th>518</th>\n",
       "      <td>razon deuda eterna</td>\n",
       "      <td>0.694953</td>\n",
       "      <td>0.579175</td>\n",
       "    </tr>\n",
       "    <tr>\n",
       "      <th>291</th>\n",
       "      <td>nike q drippin</td>\n",
       "      <td>0.571117</td>\n",
       "      <td>0.469891</td>\n",
       "    </tr>\n",
       "    <tr>\n",
       "      <th>463</th>\n",
       "      <td>ma menos falta escudo marca nike</td>\n",
       "      <td>0.561967</td>\n",
       "      <td>0.456540</td>\n",
       "    </tr>\n",
       "    <tr>\n",
       "      <th>341</th>\n",
       "      <td>tan mal barcelona pillando camisetas aliexpress</td>\n",
       "      <td>0.535003</td>\n",
       "      <td>0.427722</td>\n",
       "    </tr>\n",
       "    <tr>\n",
       "      <th>128</th>\n",
       "      <td>ser justos usa nike</td>\n",
       "      <td>0.508536</td>\n",
       "      <td>0.399725</td>\n",
       "    </tr>\n",
       "    <tr>\n",
       "      <th>98</th>\n",
       "      <td>flansito obvio si saldria nike obvio puma dupl...</td>\n",
       "      <td>0.521634</td>\n",
       "      <td>0.397048</td>\n",
       "    </tr>\n",
       "    <tr>\n",
       "      <th>386</th>\n",
       "      <td>tan malo nike bara quieren cerca</td>\n",
       "      <td>0.454944</td>\n",
       "      <td>0.343283</td>\n",
       "    </tr>\n",
       "    <tr>\n",
       "      <th>388</th>\n",
       "      <td>tiempo austeridad si cumplimos</td>\n",
       "      <td>0.405120</td>\n",
       "      <td>0.245572</td>\n",
       "    </tr>\n",
       "    <tr>\n",
       "      <th>458</th>\n",
       "      <td>escudo logo nike deben ser invisibles</td>\n",
       "      <td>0.248461</td>\n",
       "      <td>0.129491</td>\n",
       "    </tr>\n",
       "    <tr>\n",
       "      <th>571</th>\n",
       "      <td>nike siendo nike</td>\n",
       "      <td>0.218596</td>\n",
       "      <td>0.050029</td>\n",
       "    </tr>\n",
       "  </tbody>\n",
       "</table>\n",
       "</div>"
      ],
      "text/plain": [
       "                                                 Tweet    Topic0    Topic1\n",
       "518                                 razon deuda eterna  0.694953  0.579175\n",
       "291                                     nike q drippin  0.571117  0.469891\n",
       "463                   ma menos falta escudo marca nike  0.561967  0.456540\n",
       "341    tan mal barcelona pillando camisetas aliexpress  0.535003  0.427722\n",
       "128                                ser justos usa nike  0.508536  0.399725\n",
       "98   flansito obvio si saldria nike obvio puma dupl...  0.521634  0.397048\n",
       "386                   tan malo nike bara quieren cerca  0.454944  0.343283\n",
       "388                     tiempo austeridad si cumplimos  0.405120  0.245572\n",
       "458              escudo logo nike deben ser invisibles  0.248461  0.129491\n",
       "571                                   nike siendo nike  0.218596  0.050029"
      ]
     },
     "execution_count": 49,
     "metadata": {},
     "output_type": "execute_result"
    }
   ],
   "source": [
    "res_topic0 = df_simi.loc[df_simi['Topic0'] - df_simi['Topic1'] >= 0.1].head(10).sort_values(by=['Topic1'], ascending=False)\n",
    "res_topic0"
   ]
  },
  {
   "cell_type": "markdown",
   "id": "f48bc3e1",
   "metadata": {},
   "source": [
    "## Embedding (skip-gram) inspired for"
   ]
  },
  {
   "cell_type": "code",
   "execution_count": 50,
   "id": "ef23af98",
   "metadata": {},
   "outputs": [],
   "source": [
    "from gensim.models import Word2Vec\n",
    "import gensim\n",
    "from nltk.tokenize import sent_tokenize, word_tokenize"
   ]
  },
  {
   "cell_type": "code",
   "execution_count": 51,
   "id": "6c5515b9",
   "metadata": {},
   "outputs": [],
   "source": [
    "ipor = corpus[corpus[\"Class\"] == 'inspirado_por']"
   ]
  },
  {
   "cell_type": "code",
   "execution_count": 52,
   "id": "532ad277",
   "metadata": {},
   "outputs": [],
   "source": [
    "lista_words_ipor = ' '.join(ipor.Document.to_list())"
   ]
  },
  {
   "cell_type": "code",
   "execution_count": 53,
   "id": "33fd6372",
   "metadata": {},
   "outputs": [
    {
     "data": {
      "text/plain": [
       "20123"
      ]
     },
     "execution_count": 53,
     "metadata": {},
     "output_type": "execute_result"
    }
   ],
   "source": [
    "len(lista_words_ipor)"
   ]
  },
  {
   "cell_type": "code",
   "execution_count": 54,
   "id": "34b14619",
   "metadata": {},
   "outputs": [],
   "source": [
    "data_ipor = []\n",
    "for i in sent_tokenize(lista_words_ipor):\n",
    "    temp = []\n",
    "     \n",
    "    # tokenize the sentence into words\n",
    "    for j in word_tokenize(i):\n",
    "        temp.append(j.lower())\n",
    " \n",
    "    data_ipor.append(temp)"
   ]
  },
  {
   "cell_type": "code",
   "execution_count": 55,
   "id": "090090a1",
   "metadata": {},
   "outputs": [
    {
     "name": "stderr",
     "output_type": "stream",
     "text": [
      "/opt/anaconda3/envs/dm/lib/python3.8/site-packages/past/builtins/misc.py:45: DeprecationWarning: the imp module is deprecated in favour of importlib; see the module's documentation for alternative uses\n",
      "  from imp import reload\n",
      "/opt/anaconda3/envs/dm/lib/python3.8/site-packages/sklearn/linear_model/_least_angle.py:34: DeprecationWarning: `np.float` is a deprecated alias for the builtin `float`. To silence this warning, use `float` by itself. Doing this will not modify any behavior and is safe. If you specifically wanted the numpy scalar type, use `np.float64` here.\n",
      "Deprecated in NumPy 1.20; for more details and guidance: https://numpy.org/devdocs/release/1.20.0-notes.html#deprecations\n",
      "  method='lar', copy_X=True, eps=np.finfo(np.float).eps,\n",
      "/opt/anaconda3/envs/dm/lib/python3.8/site-packages/sklearn/linear_model/_least_angle.py:164: DeprecationWarning: `np.float` is a deprecated alias for the builtin `float`. To silence this warning, use `float` by itself. Doing this will not modify any behavior and is safe. If you specifically wanted the numpy scalar type, use `np.float64` here.\n",
      "Deprecated in NumPy 1.20; for more details and guidance: https://numpy.org/devdocs/release/1.20.0-notes.html#deprecations\n",
      "  method='lar', copy_X=True, eps=np.finfo(np.float).eps,\n",
      "/opt/anaconda3/envs/dm/lib/python3.8/site-packages/sklearn/linear_model/_least_angle.py:281: DeprecationWarning: `np.float` is a deprecated alias for the builtin `float`. To silence this warning, use `float` by itself. Doing this will not modify any behavior and is safe. If you specifically wanted the numpy scalar type, use `np.float64` here.\n",
      "Deprecated in NumPy 1.20; for more details and guidance: https://numpy.org/devdocs/release/1.20.0-notes.html#deprecations\n",
      "  eps=np.finfo(np.float).eps, copy_Gram=True, verbose=0,\n",
      "/opt/anaconda3/envs/dm/lib/python3.8/site-packages/sklearn/linear_model/_least_angle.py:865: DeprecationWarning: `np.float` is a deprecated alias for the builtin `float`. To silence this warning, use `float` by itself. Doing this will not modify any behavior and is safe. If you specifically wanted the numpy scalar type, use `np.float64` here.\n",
      "Deprecated in NumPy 1.20; for more details and guidance: https://numpy.org/devdocs/release/1.20.0-notes.html#deprecations\n",
      "  eps=np.finfo(np.float).eps, copy_X=True, fit_path=True,\n",
      "/opt/anaconda3/envs/dm/lib/python3.8/site-packages/sklearn/linear_model/_least_angle.py:1121: DeprecationWarning: `np.float` is a deprecated alias for the builtin `float`. To silence this warning, use `float` by itself. Doing this will not modify any behavior and is safe. If you specifically wanted the numpy scalar type, use `np.float64` here.\n",
      "Deprecated in NumPy 1.20; for more details and guidance: https://numpy.org/devdocs/release/1.20.0-notes.html#deprecations\n",
      "  eps=np.finfo(np.float).eps, copy_X=True, fit_path=True,\n",
      "/opt/anaconda3/envs/dm/lib/python3.8/site-packages/sklearn/linear_model/_least_angle.py:1149: DeprecationWarning: `np.float` is a deprecated alias for the builtin `float`. To silence this warning, use `float` by itself. Doing this will not modify any behavior and is safe. If you specifically wanted the numpy scalar type, use `np.float64` here.\n",
      "Deprecated in NumPy 1.20; for more details and guidance: https://numpy.org/devdocs/release/1.20.0-notes.html#deprecations\n",
      "  eps=np.finfo(np.float).eps, positive=False):\n",
      "/opt/anaconda3/envs/dm/lib/python3.8/site-packages/sklearn/linear_model/_least_angle.py:1379: DeprecationWarning: `np.float` is a deprecated alias for the builtin `float`. To silence this warning, use `float` by itself. Doing this will not modify any behavior and is safe. If you specifically wanted the numpy scalar type, use `np.float64` here.\n",
      "Deprecated in NumPy 1.20; for more details and guidance: https://numpy.org/devdocs/release/1.20.0-notes.html#deprecations\n",
      "  max_n_alphas=1000, n_jobs=None, eps=np.finfo(np.float).eps,\n",
      "/opt/anaconda3/envs/dm/lib/python3.8/site-packages/sklearn/linear_model/_least_angle.py:1621: DeprecationWarning: `np.float` is a deprecated alias for the builtin `float`. To silence this warning, use `float` by itself. Doing this will not modify any behavior and is safe. If you specifically wanted the numpy scalar type, use `np.float64` here.\n",
      "Deprecated in NumPy 1.20; for more details and guidance: https://numpy.org/devdocs/release/1.20.0-notes.html#deprecations\n",
      "  max_n_alphas=1000, n_jobs=None, eps=np.finfo(np.float).eps,\n",
      "/opt/anaconda3/envs/dm/lib/python3.8/site-packages/sklearn/linear_model/_least_angle.py:1755: DeprecationWarning: `np.float` is a deprecated alias for the builtin `float`. To silence this warning, use `float` by itself. Doing this will not modify any behavior and is safe. If you specifically wanted the numpy scalar type, use `np.float64` here.\n",
      "Deprecated in NumPy 1.20; for more details and guidance: https://numpy.org/devdocs/release/1.20.0-notes.html#deprecations\n",
      "  eps=np.finfo(np.float).eps, copy_X=True, positive=False):\n",
      "/opt/anaconda3/envs/dm/lib/python3.8/site-packages/sklearn/decomposition/_lda.py:28: DeprecationWarning: `np.float` is a deprecated alias for the builtin `float`. To silence this warning, use `float` by itself. Doing this will not modify any behavior and is safe. If you specifically wanted the numpy scalar type, use `np.float64` here.\n",
      "Deprecated in NumPy 1.20; for more details and guidance: https://numpy.org/devdocs/release/1.20.0-notes.html#deprecations\n",
      "  EPS = np.finfo(np.float).eps\n",
      "/opt/anaconda3/envs/dm/lib/python3.8/site-packages/past/builtins/misc.py:45: DeprecationWarning: the imp module is deprecated in favour of importlib; see the module's documentation for alternative uses\n",
      "  from imp import reload\n",
      "/opt/anaconda3/envs/dm/lib/python3.8/site-packages/sklearn/linear_model/_least_angle.py:34: DeprecationWarning: `np.float` is a deprecated alias for the builtin `float`. To silence this warning, use `float` by itself. Doing this will not modify any behavior and is safe. If you specifically wanted the numpy scalar type, use `np.float64` here.\n",
      "Deprecated in NumPy 1.20; for more details and guidance: https://numpy.org/devdocs/release/1.20.0-notes.html#deprecations\n",
      "  method='lar', copy_X=True, eps=np.finfo(np.float).eps,\n",
      "/opt/anaconda3/envs/dm/lib/python3.8/site-packages/sklearn/linear_model/_least_angle.py:164: DeprecationWarning: `np.float` is a deprecated alias for the builtin `float`. To silence this warning, use `float` by itself. Doing this will not modify any behavior and is safe. If you specifically wanted the numpy scalar type, use `np.float64` here.\n",
      "Deprecated in NumPy 1.20; for more details and guidance: https://numpy.org/devdocs/release/1.20.0-notes.html#deprecations\n",
      "  method='lar', copy_X=True, eps=np.finfo(np.float).eps,\n",
      "/opt/anaconda3/envs/dm/lib/python3.8/site-packages/sklearn/linear_model/_least_angle.py:281: DeprecationWarning: `np.float` is a deprecated alias for the builtin `float`. To silence this warning, use `float` by itself. Doing this will not modify any behavior and is safe. If you specifically wanted the numpy scalar type, use `np.float64` here.\n",
      "Deprecated in NumPy 1.20; for more details and guidance: https://numpy.org/devdocs/release/1.20.0-notes.html#deprecations\n",
      "  eps=np.finfo(np.float).eps, copy_Gram=True, verbose=0,\n",
      "/opt/anaconda3/envs/dm/lib/python3.8/site-packages/sklearn/linear_model/_least_angle.py:865: DeprecationWarning: `np.float` is a deprecated alias for the builtin `float`. To silence this warning, use `float` by itself. Doing this will not modify any behavior and is safe. If you specifically wanted the numpy scalar type, use `np.float64` here.\n",
      "Deprecated in NumPy 1.20; for more details and guidance: https://numpy.org/devdocs/release/1.20.0-notes.html#deprecations\n",
      "  eps=np.finfo(np.float).eps, copy_X=True, fit_path=True,\n",
      "/opt/anaconda3/envs/dm/lib/python3.8/site-packages/sklearn/linear_model/_least_angle.py:1121: DeprecationWarning: `np.float` is a deprecated alias for the builtin `float`. To silence this warning, use `float` by itself. Doing this will not modify any behavior and is safe. If you specifically wanted the numpy scalar type, use `np.float64` here.\n",
      "Deprecated in NumPy 1.20; for more details and guidance: https://numpy.org/devdocs/release/1.20.0-notes.html#deprecations\n",
      "  eps=np.finfo(np.float).eps, copy_X=True, fit_path=True,\n",
      "/opt/anaconda3/envs/dm/lib/python3.8/site-packages/sklearn/linear_model/_least_angle.py:1149: DeprecationWarning: `np.float` is a deprecated alias for the builtin `float`. To silence this warning, use `float` by itself. Doing this will not modify any behavior and is safe. If you specifically wanted the numpy scalar type, use `np.float64` here.\n",
      "Deprecated in NumPy 1.20; for more details and guidance: https://numpy.org/devdocs/release/1.20.0-notes.html#deprecations\n",
      "  eps=np.finfo(np.float).eps, positive=False):\n",
      "/opt/anaconda3/envs/dm/lib/python3.8/site-packages/sklearn/linear_model/_least_angle.py:1379: DeprecationWarning: `np.float` is a deprecated alias for the builtin `float`. To silence this warning, use `float` by itself. Doing this will not modify any behavior and is safe. If you specifically wanted the numpy scalar type, use `np.float64` here.\n",
      "Deprecated in NumPy 1.20; for more details and guidance: https://numpy.org/devdocs/release/1.20.0-notes.html#deprecations\n",
      "  max_n_alphas=1000, n_jobs=None, eps=np.finfo(np.float).eps,\n",
      "/opt/anaconda3/envs/dm/lib/python3.8/site-packages/sklearn/linear_model/_least_angle.py:1621: DeprecationWarning: `np.float` is a deprecated alias for the builtin `float`. To silence this warning, use `float` by itself. Doing this will not modify any behavior and is safe. If you specifically wanted the numpy scalar type, use `np.float64` here.\n",
      "Deprecated in NumPy 1.20; for more details and guidance: https://numpy.org/devdocs/release/1.20.0-notes.html#deprecations\n",
      "  max_n_alphas=1000, n_jobs=None, eps=np.finfo(np.float).eps,\n",
      "/opt/anaconda3/envs/dm/lib/python3.8/site-packages/sklearn/linear_model/_least_angle.py:1755: DeprecationWarning: `np.float` is a deprecated alias for the builtin `float`. To silence this warning, use `float` by itself. Doing this will not modify any behavior and is safe. If you specifically wanted the numpy scalar type, use `np.float64` here.\n",
      "Deprecated in NumPy 1.20; for more details and guidance: https://numpy.org/devdocs/release/1.20.0-notes.html#deprecations\n",
      "  eps=np.finfo(np.float).eps, copy_X=True, positive=False):\n",
      "/opt/anaconda3/envs/dm/lib/python3.8/site-packages/sklearn/decomposition/_lda.py:28: DeprecationWarning: `np.float` is a deprecated alias for the builtin `float`. To silence this warning, use `float` by itself. Doing this will not modify any behavior and is safe. If you specifically wanted the numpy scalar type, use `np.float64` here.\n",
      "Deprecated in NumPy 1.20; for more details and guidance: https://numpy.org/devdocs/release/1.20.0-notes.html#deprecations\n",
      "  EPS = np.finfo(np.float).eps\n"
     ]
    },
    {
     "name": "stderr",
     "output_type": "stream",
     "text": [
      "/opt/anaconda3/envs/dm/lib/python3.8/site-packages/past/builtins/misc.py:45: DeprecationWarning: the imp module is deprecated in favour of importlib; see the module's documentation for alternative uses\n",
      "  from imp import reload\n",
      "/opt/anaconda3/envs/dm/lib/python3.8/site-packages/sklearn/linear_model/_least_angle.py:34: DeprecationWarning: `np.float` is a deprecated alias for the builtin `float`. To silence this warning, use `float` by itself. Doing this will not modify any behavior and is safe. If you specifically wanted the numpy scalar type, use `np.float64` here.\n",
      "Deprecated in NumPy 1.20; for more details and guidance: https://numpy.org/devdocs/release/1.20.0-notes.html#deprecations\n",
      "  method='lar', copy_X=True, eps=np.finfo(np.float).eps,\n",
      "/opt/anaconda3/envs/dm/lib/python3.8/site-packages/sklearn/linear_model/_least_angle.py:164: DeprecationWarning: `np.float` is a deprecated alias for the builtin `float`. To silence this warning, use `float` by itself. Doing this will not modify any behavior and is safe. If you specifically wanted the numpy scalar type, use `np.float64` here.\n",
      "Deprecated in NumPy 1.20; for more details and guidance: https://numpy.org/devdocs/release/1.20.0-notes.html#deprecations\n",
      "  method='lar', copy_X=True, eps=np.finfo(np.float).eps,\n",
      "/opt/anaconda3/envs/dm/lib/python3.8/site-packages/sklearn/linear_model/_least_angle.py:281: DeprecationWarning: `np.float` is a deprecated alias for the builtin `float`. To silence this warning, use `float` by itself. Doing this will not modify any behavior and is safe. If you specifically wanted the numpy scalar type, use `np.float64` here.\n",
      "Deprecated in NumPy 1.20; for more details and guidance: https://numpy.org/devdocs/release/1.20.0-notes.html#deprecations\n",
      "  eps=np.finfo(np.float).eps, copy_Gram=True, verbose=0,\n",
      "/opt/anaconda3/envs/dm/lib/python3.8/site-packages/sklearn/linear_model/_least_angle.py:865: DeprecationWarning: `np.float` is a deprecated alias for the builtin `float`. To silence this warning, use `float` by itself. Doing this will not modify any behavior and is safe. If you specifically wanted the numpy scalar type, use `np.float64` here.\n",
      "Deprecated in NumPy 1.20; for more details and guidance: https://numpy.org/devdocs/release/1.20.0-notes.html#deprecations\n",
      "  eps=np.finfo(np.float).eps, copy_X=True, fit_path=True,\n",
      "/opt/anaconda3/envs/dm/lib/python3.8/site-packages/sklearn/linear_model/_least_angle.py:1121: DeprecationWarning: `np.float` is a deprecated alias for the builtin `float`. To silence this warning, use `float` by itself. Doing this will not modify any behavior and is safe. If you specifically wanted the numpy scalar type, use `np.float64` here.\n",
      "Deprecated in NumPy 1.20; for more details and guidance: https://numpy.org/devdocs/release/1.20.0-notes.html#deprecations\n",
      "  eps=np.finfo(np.float).eps, copy_X=True, fit_path=True,\n",
      "/opt/anaconda3/envs/dm/lib/python3.8/site-packages/sklearn/linear_model/_least_angle.py:1149: DeprecationWarning: `np.float` is a deprecated alias for the builtin `float`. To silence this warning, use `float` by itself. Doing this will not modify any behavior and is safe. If you specifically wanted the numpy scalar type, use `np.float64` here.\n",
      "Deprecated in NumPy 1.20; for more details and guidance: https://numpy.org/devdocs/release/1.20.0-notes.html#deprecations\n",
      "  eps=np.finfo(np.float).eps, positive=False):\n",
      "/opt/anaconda3/envs/dm/lib/python3.8/site-packages/sklearn/linear_model/_least_angle.py:1379: DeprecationWarning: `np.float` is a deprecated alias for the builtin `float`. To silence this warning, use `float` by itself. Doing this will not modify any behavior and is safe. If you specifically wanted the numpy scalar type, use `np.float64` here.\n",
      "Deprecated in NumPy 1.20; for more details and guidance: https://numpy.org/devdocs/release/1.20.0-notes.html#deprecations\n",
      "  max_n_alphas=1000, n_jobs=None, eps=np.finfo(np.float).eps,\n",
      "/opt/anaconda3/envs/dm/lib/python3.8/site-packages/sklearn/linear_model/_least_angle.py:1621: DeprecationWarning: `np.float` is a deprecated alias for the builtin `float`. To silence this warning, use `float` by itself. Doing this will not modify any behavior and is safe. If you specifically wanted the numpy scalar type, use `np.float64` here.\n",
      "Deprecated in NumPy 1.20; for more details and guidance: https://numpy.org/devdocs/release/1.20.0-notes.html#deprecations\n",
      "  max_n_alphas=1000, n_jobs=None, eps=np.finfo(np.float).eps,\n",
      "/opt/anaconda3/envs/dm/lib/python3.8/site-packages/sklearn/linear_model/_least_angle.py:1755: DeprecationWarning: `np.float` is a deprecated alias for the builtin `float`. To silence this warning, use `float` by itself. Doing this will not modify any behavior and is safe. If you specifically wanted the numpy scalar type, use `np.float64` here.\n",
      "Deprecated in NumPy 1.20; for more details and guidance: https://numpy.org/devdocs/release/1.20.0-notes.html#deprecations\n",
      "  eps=np.finfo(np.float).eps, copy_X=True, positive=False):\n",
      "/opt/anaconda3/envs/dm/lib/python3.8/site-packages/sklearn/decomposition/_lda.py:28: DeprecationWarning: `np.float` is a deprecated alias for the builtin `float`. To silence this warning, use `float` by itself. Doing this will not modify any behavior and is safe. If you specifically wanted the numpy scalar type, use `np.float64` here.\n",
      "Deprecated in NumPy 1.20; for more details and guidance: https://numpy.org/devdocs/release/1.20.0-notes.html#deprecations\n",
      "  EPS = np.finfo(np.float).eps\n",
      "/opt/anaconda3/envs/dm/lib/python3.8/site-packages/past/builtins/misc.py:45: DeprecationWarning: the imp module is deprecated in favour of importlib; see the module's documentation for alternative uses\n",
      "  from imp import reload\n",
      "/opt/anaconda3/envs/dm/lib/python3.8/site-packages/sklearn/linear_model/_least_angle.py:34: DeprecationWarning: `np.float` is a deprecated alias for the builtin `float`. To silence this warning, use `float` by itself. Doing this will not modify any behavior and is safe. If you specifically wanted the numpy scalar type, use `np.float64` here.\n",
      "Deprecated in NumPy 1.20; for more details and guidance: https://numpy.org/devdocs/release/1.20.0-notes.html#deprecations\n",
      "  method='lar', copy_X=True, eps=np.finfo(np.float).eps,\n",
      "/opt/anaconda3/envs/dm/lib/python3.8/site-packages/sklearn/linear_model/_least_angle.py:164: DeprecationWarning: `np.float` is a deprecated alias for the builtin `float`. To silence this warning, use `float` by itself. Doing this will not modify any behavior and is safe. If you specifically wanted the numpy scalar type, use `np.float64` here.\n",
      "Deprecated in NumPy 1.20; for more details and guidance: https://numpy.org/devdocs/release/1.20.0-notes.html#deprecations\n",
      "  method='lar', copy_X=True, eps=np.finfo(np.float).eps,\n",
      "/opt/anaconda3/envs/dm/lib/python3.8/site-packages/sklearn/linear_model/_least_angle.py:281: DeprecationWarning: `np.float` is a deprecated alias for the builtin `float`. To silence this warning, use `float` by itself. Doing this will not modify any behavior and is safe. If you specifically wanted the numpy scalar type, use `np.float64` here.\n",
      "Deprecated in NumPy 1.20; for more details and guidance: https://numpy.org/devdocs/release/1.20.0-notes.html#deprecations\n",
      "  eps=np.finfo(np.float).eps, copy_Gram=True, verbose=0,\n",
      "/opt/anaconda3/envs/dm/lib/python3.8/site-packages/sklearn/linear_model/_least_angle.py:865: DeprecationWarning: `np.float` is a deprecated alias for the builtin `float`. To silence this warning, use `float` by itself. Doing this will not modify any behavior and is safe. If you specifically wanted the numpy scalar type, use `np.float64` here.\n",
      "Deprecated in NumPy 1.20; for more details and guidance: https://numpy.org/devdocs/release/1.20.0-notes.html#deprecations\n",
      "  eps=np.finfo(np.float).eps, copy_X=True, fit_path=True,\n",
      "/opt/anaconda3/envs/dm/lib/python3.8/site-packages/sklearn/linear_model/_least_angle.py:1121: DeprecationWarning: `np.float` is a deprecated alias for the builtin `float`. To silence this warning, use `float` by itself. Doing this will not modify any behavior and is safe. If you specifically wanted the numpy scalar type, use `np.float64` here.\n",
      "Deprecated in NumPy 1.20; for more details and guidance: https://numpy.org/devdocs/release/1.20.0-notes.html#deprecations\n",
      "  eps=np.finfo(np.float).eps, copy_X=True, fit_path=True,\n",
      "/opt/anaconda3/envs/dm/lib/python3.8/site-packages/sklearn/linear_model/_least_angle.py:1149: DeprecationWarning: `np.float` is a deprecated alias for the builtin `float`. To silence this warning, use `float` by itself. Doing this will not modify any behavior and is safe. If you specifically wanted the numpy scalar type, use `np.float64` here.\n",
      "Deprecated in NumPy 1.20; for more details and guidance: https://numpy.org/devdocs/release/1.20.0-notes.html#deprecations\n",
      "  eps=np.finfo(np.float).eps, positive=False):\n",
      "/opt/anaconda3/envs/dm/lib/python3.8/site-packages/sklearn/linear_model/_least_angle.py:1379: DeprecationWarning: `np.float` is a deprecated alias for the builtin `float`. To silence this warning, use `float` by itself. Doing this will not modify any behavior and is safe. If you specifically wanted the numpy scalar type, use `np.float64` here.\n",
      "Deprecated in NumPy 1.20; for more details and guidance: https://numpy.org/devdocs/release/1.20.0-notes.html#deprecations\n",
      "  max_n_alphas=1000, n_jobs=None, eps=np.finfo(np.float).eps,\n",
      "/opt/anaconda3/envs/dm/lib/python3.8/site-packages/sklearn/linear_model/_least_angle.py:1621: DeprecationWarning: `np.float` is a deprecated alias for the builtin `float`. To silence this warning, use `float` by itself. Doing this will not modify any behavior and is safe. If you specifically wanted the numpy scalar type, use `np.float64` here.\n",
      "Deprecated in NumPy 1.20; for more details and guidance: https://numpy.org/devdocs/release/1.20.0-notes.html#deprecations\n",
      "  max_n_alphas=1000, n_jobs=None, eps=np.finfo(np.float).eps,\n",
      "/opt/anaconda3/envs/dm/lib/python3.8/site-packages/sklearn/linear_model/_least_angle.py:1755: DeprecationWarning: `np.float` is a deprecated alias for the builtin `float`. To silence this warning, use `float` by itself. Doing this will not modify any behavior and is safe. If you specifically wanted the numpy scalar type, use `np.float64` here.\n",
      "Deprecated in NumPy 1.20; for more details and guidance: https://numpy.org/devdocs/release/1.20.0-notes.html#deprecations\n",
      "  eps=np.finfo(np.float).eps, copy_X=True, positive=False):\n",
      "/opt/anaconda3/envs/dm/lib/python3.8/site-packages/sklearn/decomposition/_lda.py:28: DeprecationWarning: `np.float` is a deprecated alias for the builtin `float`. To silence this warning, use `float` by itself. Doing this will not modify any behavior and is safe. If you specifically wanted the numpy scalar type, use `np.float64` here.\n",
      "Deprecated in NumPy 1.20; for more details and guidance: https://numpy.org/devdocs/release/1.20.0-notes.html#deprecations\n",
      "  EPS = np.finfo(np.float).eps\n"
     ]
    },
    {
     "name": "stderr",
     "output_type": "stream",
     "text": [
      "/opt/anaconda3/envs/dm/lib/python3.8/site-packages/past/builtins/misc.py:45: DeprecationWarning: the imp module is deprecated in favour of importlib; see the module's documentation for alternative uses\n",
      "  from imp import reload\n",
      "/opt/anaconda3/envs/dm/lib/python3.8/site-packages/sklearn/linear_model/_least_angle.py:34: DeprecationWarning: `np.float` is a deprecated alias for the builtin `float`. To silence this warning, use `float` by itself. Doing this will not modify any behavior and is safe. If you specifically wanted the numpy scalar type, use `np.float64` here.\n",
      "Deprecated in NumPy 1.20; for more details and guidance: https://numpy.org/devdocs/release/1.20.0-notes.html#deprecations\n",
      "  method='lar', copy_X=True, eps=np.finfo(np.float).eps,\n",
      "/opt/anaconda3/envs/dm/lib/python3.8/site-packages/sklearn/linear_model/_least_angle.py:164: DeprecationWarning: `np.float` is a deprecated alias for the builtin `float`. To silence this warning, use `float` by itself. Doing this will not modify any behavior and is safe. If you specifically wanted the numpy scalar type, use `np.float64` here.\n",
      "Deprecated in NumPy 1.20; for more details and guidance: https://numpy.org/devdocs/release/1.20.0-notes.html#deprecations\n",
      "  method='lar', copy_X=True, eps=np.finfo(np.float).eps,\n",
      "/opt/anaconda3/envs/dm/lib/python3.8/site-packages/sklearn/linear_model/_least_angle.py:281: DeprecationWarning: `np.float` is a deprecated alias for the builtin `float`. To silence this warning, use `float` by itself. Doing this will not modify any behavior and is safe. If you specifically wanted the numpy scalar type, use `np.float64` here.\n",
      "Deprecated in NumPy 1.20; for more details and guidance: https://numpy.org/devdocs/release/1.20.0-notes.html#deprecations\n",
      "  eps=np.finfo(np.float).eps, copy_Gram=True, verbose=0,\n",
      "/opt/anaconda3/envs/dm/lib/python3.8/site-packages/sklearn/linear_model/_least_angle.py:865: DeprecationWarning: `np.float` is a deprecated alias for the builtin `float`. To silence this warning, use `float` by itself. Doing this will not modify any behavior and is safe. If you specifically wanted the numpy scalar type, use `np.float64` here.\n",
      "Deprecated in NumPy 1.20; for more details and guidance: https://numpy.org/devdocs/release/1.20.0-notes.html#deprecations\n",
      "  eps=np.finfo(np.float).eps, copy_X=True, fit_path=True,\n",
      "/opt/anaconda3/envs/dm/lib/python3.8/site-packages/sklearn/linear_model/_least_angle.py:1121: DeprecationWarning: `np.float` is a deprecated alias for the builtin `float`. To silence this warning, use `float` by itself. Doing this will not modify any behavior and is safe. If you specifically wanted the numpy scalar type, use `np.float64` here.\n",
      "Deprecated in NumPy 1.20; for more details and guidance: https://numpy.org/devdocs/release/1.20.0-notes.html#deprecations\n",
      "  eps=np.finfo(np.float).eps, copy_X=True, fit_path=True,\n",
      "/opt/anaconda3/envs/dm/lib/python3.8/site-packages/sklearn/linear_model/_least_angle.py:1149: DeprecationWarning: `np.float` is a deprecated alias for the builtin `float`. To silence this warning, use `float` by itself. Doing this will not modify any behavior and is safe. If you specifically wanted the numpy scalar type, use `np.float64` here.\n",
      "Deprecated in NumPy 1.20; for more details and guidance: https://numpy.org/devdocs/release/1.20.0-notes.html#deprecations\n",
      "  eps=np.finfo(np.float).eps, positive=False):\n",
      "/opt/anaconda3/envs/dm/lib/python3.8/site-packages/sklearn/linear_model/_least_angle.py:1379: DeprecationWarning: `np.float` is a deprecated alias for the builtin `float`. To silence this warning, use `float` by itself. Doing this will not modify any behavior and is safe. If you specifically wanted the numpy scalar type, use `np.float64` here.\n",
      "Deprecated in NumPy 1.20; for more details and guidance: https://numpy.org/devdocs/release/1.20.0-notes.html#deprecations\n",
      "  max_n_alphas=1000, n_jobs=None, eps=np.finfo(np.float).eps,\n",
      "/opt/anaconda3/envs/dm/lib/python3.8/site-packages/sklearn/linear_model/_least_angle.py:1621: DeprecationWarning: `np.float` is a deprecated alias for the builtin `float`. To silence this warning, use `float` by itself. Doing this will not modify any behavior and is safe. If you specifically wanted the numpy scalar type, use `np.float64` here.\n",
      "Deprecated in NumPy 1.20; for more details and guidance: https://numpy.org/devdocs/release/1.20.0-notes.html#deprecations\n",
      "  max_n_alphas=1000, n_jobs=None, eps=np.finfo(np.float).eps,\n",
      "/opt/anaconda3/envs/dm/lib/python3.8/site-packages/sklearn/linear_model/_least_angle.py:1755: DeprecationWarning: `np.float` is a deprecated alias for the builtin `float`. To silence this warning, use `float` by itself. Doing this will not modify any behavior and is safe. If you specifically wanted the numpy scalar type, use `np.float64` here.\n",
      "Deprecated in NumPy 1.20; for more details and guidance: https://numpy.org/devdocs/release/1.20.0-notes.html#deprecations\n",
      "  eps=np.finfo(np.float).eps, copy_X=True, positive=False):\n",
      "/opt/anaconda3/envs/dm/lib/python3.8/site-packages/sklearn/decomposition/_lda.py:28: DeprecationWarning: `np.float` is a deprecated alias for the builtin `float`. To silence this warning, use `float` by itself. Doing this will not modify any behavior and is safe. If you specifically wanted the numpy scalar type, use `np.float64` here.\n",
      "Deprecated in NumPy 1.20; for more details and guidance: https://numpy.org/devdocs/release/1.20.0-notes.html#deprecations\n",
      "  EPS = np.finfo(np.float).eps\n",
      "/opt/anaconda3/envs/dm/lib/python3.8/site-packages/past/builtins/misc.py:45: DeprecationWarning: the imp module is deprecated in favour of importlib; see the module's documentation for alternative uses\n",
      "  from imp import reload\n",
      "/opt/anaconda3/envs/dm/lib/python3.8/site-packages/sklearn/linear_model/_least_angle.py:34: DeprecationWarning: `np.float` is a deprecated alias for the builtin `float`. To silence this warning, use `float` by itself. Doing this will not modify any behavior and is safe. If you specifically wanted the numpy scalar type, use `np.float64` here.\n",
      "Deprecated in NumPy 1.20; for more details and guidance: https://numpy.org/devdocs/release/1.20.0-notes.html#deprecations\n",
      "  method='lar', copy_X=True, eps=np.finfo(np.float).eps,\n",
      "/opt/anaconda3/envs/dm/lib/python3.8/site-packages/sklearn/linear_model/_least_angle.py:164: DeprecationWarning: `np.float` is a deprecated alias for the builtin `float`. To silence this warning, use `float` by itself. Doing this will not modify any behavior and is safe. If you specifically wanted the numpy scalar type, use `np.float64` here.\n",
      "Deprecated in NumPy 1.20; for more details and guidance: https://numpy.org/devdocs/release/1.20.0-notes.html#deprecations\n",
      "  method='lar', copy_X=True, eps=np.finfo(np.float).eps,\n",
      "/opt/anaconda3/envs/dm/lib/python3.8/site-packages/sklearn/linear_model/_least_angle.py:281: DeprecationWarning: `np.float` is a deprecated alias for the builtin `float`. To silence this warning, use `float` by itself. Doing this will not modify any behavior and is safe. If you specifically wanted the numpy scalar type, use `np.float64` here.\n",
      "Deprecated in NumPy 1.20; for more details and guidance: https://numpy.org/devdocs/release/1.20.0-notes.html#deprecations\n",
      "  eps=np.finfo(np.float).eps, copy_Gram=True, verbose=0,\n",
      "/opt/anaconda3/envs/dm/lib/python3.8/site-packages/sklearn/linear_model/_least_angle.py:865: DeprecationWarning: `np.float` is a deprecated alias for the builtin `float`. To silence this warning, use `float` by itself. Doing this will not modify any behavior and is safe. If you specifically wanted the numpy scalar type, use `np.float64` here.\n",
      "Deprecated in NumPy 1.20; for more details and guidance: https://numpy.org/devdocs/release/1.20.0-notes.html#deprecations\n",
      "  eps=np.finfo(np.float).eps, copy_X=True, fit_path=True,\n",
      "/opt/anaconda3/envs/dm/lib/python3.8/site-packages/sklearn/linear_model/_least_angle.py:1121: DeprecationWarning: `np.float` is a deprecated alias for the builtin `float`. To silence this warning, use `float` by itself. Doing this will not modify any behavior and is safe. If you specifically wanted the numpy scalar type, use `np.float64` here.\n",
      "Deprecated in NumPy 1.20; for more details and guidance: https://numpy.org/devdocs/release/1.20.0-notes.html#deprecations\n",
      "  eps=np.finfo(np.float).eps, copy_X=True, fit_path=True,\n",
      "/opt/anaconda3/envs/dm/lib/python3.8/site-packages/sklearn/linear_model/_least_angle.py:1149: DeprecationWarning: `np.float` is a deprecated alias for the builtin `float`. To silence this warning, use `float` by itself. Doing this will not modify any behavior and is safe. If you specifically wanted the numpy scalar type, use `np.float64` here.\n",
      "Deprecated in NumPy 1.20; for more details and guidance: https://numpy.org/devdocs/release/1.20.0-notes.html#deprecations\n",
      "  eps=np.finfo(np.float).eps, positive=False):\n",
      "/opt/anaconda3/envs/dm/lib/python3.8/site-packages/sklearn/linear_model/_least_angle.py:1379: DeprecationWarning: `np.float` is a deprecated alias for the builtin `float`. To silence this warning, use `float` by itself. Doing this will not modify any behavior and is safe. If you specifically wanted the numpy scalar type, use `np.float64` here.\n",
      "Deprecated in NumPy 1.20; for more details and guidance: https://numpy.org/devdocs/release/1.20.0-notes.html#deprecations\n",
      "  max_n_alphas=1000, n_jobs=None, eps=np.finfo(np.float).eps,\n",
      "/opt/anaconda3/envs/dm/lib/python3.8/site-packages/sklearn/linear_model/_least_angle.py:1621: DeprecationWarning: `np.float` is a deprecated alias for the builtin `float`. To silence this warning, use `float` by itself. Doing this will not modify any behavior and is safe. If you specifically wanted the numpy scalar type, use `np.float64` here.\n",
      "Deprecated in NumPy 1.20; for more details and guidance: https://numpy.org/devdocs/release/1.20.0-notes.html#deprecations\n",
      "  max_n_alphas=1000, n_jobs=None, eps=np.finfo(np.float).eps,\n",
      "/opt/anaconda3/envs/dm/lib/python3.8/site-packages/sklearn/linear_model/_least_angle.py:1755: DeprecationWarning: `np.float` is a deprecated alias for the builtin `float`. To silence this warning, use `float` by itself. Doing this will not modify any behavior and is safe. If you specifically wanted the numpy scalar type, use `np.float64` here.\n",
      "Deprecated in NumPy 1.20; for more details and guidance: https://numpy.org/devdocs/release/1.20.0-notes.html#deprecations\n",
      "  eps=np.finfo(np.float).eps, copy_X=True, positive=False):\n",
      "/opt/anaconda3/envs/dm/lib/python3.8/site-packages/sklearn/decomposition/_lda.py:28: DeprecationWarning: `np.float` is a deprecated alias for the builtin `float`. To silence this warning, use `float` by itself. Doing this will not modify any behavior and is safe. If you specifically wanted the numpy scalar type, use `np.float64` here.\n",
      "Deprecated in NumPy 1.20; for more details and guidance: https://numpy.org/devdocs/release/1.20.0-notes.html#deprecations\n",
      "  EPS = np.finfo(np.float).eps\n",
      "/opt/anaconda3/envs/dm/lib/python3.8/site-packages/past/builtins/misc.py:45: DeprecationWarning: the imp module is deprecated in favour of importlib; see the module's documentation for alternative uses\n",
      "  from imp import reload\n",
      "/opt/anaconda3/envs/dm/lib/python3.8/site-packages/sklearn/linear_model/_least_angle.py:34: DeprecationWarning: `np.float` is a deprecated alias for the builtin `float`. To silence this warning, use `float` by itself. Doing this will not modify any behavior and is safe. If you specifically wanted the numpy scalar type, use `np.float64` here.\n",
      "Deprecated in NumPy 1.20; for more details and guidance: https://numpy.org/devdocs/release/1.20.0-notes.html#deprecations\n",
      "  method='lar', copy_X=True, eps=np.finfo(np.float).eps,\n",
      "/opt/anaconda3/envs/dm/lib/python3.8/site-packages/sklearn/linear_model/_least_angle.py:164: DeprecationWarning: `np.float` is a deprecated alias for the builtin `float`. To silence this warning, use `float` by itself. Doing this will not modify any behavior and is safe. If you specifically wanted the numpy scalar type, use `np.float64` here.\n",
      "Deprecated in NumPy 1.20; for more details and guidance: https://numpy.org/devdocs/release/1.20.0-notes.html#deprecations\n",
      "  method='lar', copy_X=True, eps=np.finfo(np.float).eps,\n",
      "/opt/anaconda3/envs/dm/lib/python3.8/site-packages/sklearn/linear_model/_least_angle.py:281: DeprecationWarning: `np.float` is a deprecated alias for the builtin `float`. To silence this warning, use `float` by itself. Doing this will not modify any behavior and is safe. If you specifically wanted the numpy scalar type, use `np.float64` here.\n",
      "Deprecated in NumPy 1.20; for more details and guidance: https://numpy.org/devdocs/release/1.20.0-notes.html#deprecations\n",
      "  eps=np.finfo(np.float).eps, copy_Gram=True, verbose=0,\n",
      "/opt/anaconda3/envs/dm/lib/python3.8/site-packages/sklearn/linear_model/_least_angle.py:865: DeprecationWarning: `np.float` is a deprecated alias for the builtin `float`. To silence this warning, use `float` by itself. Doing this will not modify any behavior and is safe. If you specifically wanted the numpy scalar type, use `np.float64` here.\n",
      "Deprecated in NumPy 1.20; for more details and guidance: https://numpy.org/devdocs/release/1.20.0-notes.html#deprecations\n",
      "  eps=np.finfo(np.float).eps, copy_X=True, fit_path=True,\n",
      "/opt/anaconda3/envs/dm/lib/python3.8/site-packages/sklearn/linear_model/_least_angle.py:1121: DeprecationWarning: `np.float` is a deprecated alias for the builtin `float`. To silence this warning, use `float` by itself. Doing this will not modify any behavior and is safe. If you specifically wanted the numpy scalar type, use `np.float64` here.\n",
      "Deprecated in NumPy 1.20; for more details and guidance: https://numpy.org/devdocs/release/1.20.0-notes.html#deprecations\n",
      "  eps=np.finfo(np.float).eps, copy_X=True, fit_path=True,\n",
      "/opt/anaconda3/envs/dm/lib/python3.8/site-packages/sklearn/linear_model/_least_angle.py:1149: DeprecationWarning: `np.float` is a deprecated alias for the builtin `float`. To silence this warning, use `float` by itself. Doing this will not modify any behavior and is safe. If you specifically wanted the numpy scalar type, use `np.float64` here.\n",
      "Deprecated in NumPy 1.20; for more details and guidance: https://numpy.org/devdocs/release/1.20.0-notes.html#deprecations\n",
      "  eps=np.finfo(np.float).eps, positive=False):\n",
      "/opt/anaconda3/envs/dm/lib/python3.8/site-packages/sklearn/linear_model/_least_angle.py:1379: DeprecationWarning: `np.float` is a deprecated alias for the builtin `float`. To silence this warning, use `float` by itself. Doing this will not modify any behavior and is safe. If you specifically wanted the numpy scalar type, use `np.float64` here.\n",
      "Deprecated in NumPy 1.20; for more details and guidance: https://numpy.org/devdocs/release/1.20.0-notes.html#deprecations\n",
      "  max_n_alphas=1000, n_jobs=None, eps=np.finfo(np.float).eps,\n",
      "/opt/anaconda3/envs/dm/lib/python3.8/site-packages/sklearn/linear_model/_least_angle.py:1621: DeprecationWarning: `np.float` is a deprecated alias for the builtin `float`. To silence this warning, use `float` by itself. Doing this will not modify any behavior and is safe. If you specifically wanted the numpy scalar type, use `np.float64` here.\n",
      "Deprecated in NumPy 1.20; for more details and guidance: https://numpy.org/devdocs/release/1.20.0-notes.html#deprecations\n",
      "  max_n_alphas=1000, n_jobs=None, eps=np.finfo(np.float).eps,\n",
      "/opt/anaconda3/envs/dm/lib/python3.8/site-packages/sklearn/linear_model/_least_angle.py:1755: DeprecationWarning: `np.float` is a deprecated alias for the builtin `float`. To silence this warning, use `float` by itself. Doing this will not modify any behavior and is safe. If you specifically wanted the numpy scalar type, use `np.float64` here.\n",
      "Deprecated in NumPy 1.20; for more details and guidance: https://numpy.org/devdocs/release/1.20.0-notes.html#deprecations\n",
      "  eps=np.finfo(np.float).eps, copy_X=True, positive=False):\n",
      "/opt/anaconda3/envs/dm/lib/python3.8/site-packages/sklearn/decomposition/_lda.py:28: DeprecationWarning: `np.float` is a deprecated alias for the builtin `float`. To silence this warning, use `float` by itself. Doing this will not modify any behavior and is safe. If you specifically wanted the numpy scalar type, use `np.float64` here.\n",
      "Deprecated in NumPy 1.20; for more details and guidance: https://numpy.org/devdocs/release/1.20.0-notes.html#deprecations\n",
      "  EPS = np.finfo(np.float).eps\n"
     ]
    },
    {
     "name": "stderr",
     "output_type": "stream",
     "text": [
      "/opt/anaconda3/envs/dm/lib/python3.8/site-packages/past/builtins/misc.py:45: DeprecationWarning: the imp module is deprecated in favour of importlib; see the module's documentation for alternative uses\n",
      "  from imp import reload\n",
      "/opt/anaconda3/envs/dm/lib/python3.8/site-packages/sklearn/linear_model/_least_angle.py:34: DeprecationWarning: `np.float` is a deprecated alias for the builtin `float`. To silence this warning, use `float` by itself. Doing this will not modify any behavior and is safe. If you specifically wanted the numpy scalar type, use `np.float64` here.\n",
      "Deprecated in NumPy 1.20; for more details and guidance: https://numpy.org/devdocs/release/1.20.0-notes.html#deprecations\n",
      "  method='lar', copy_X=True, eps=np.finfo(np.float).eps,\n",
      "/opt/anaconda3/envs/dm/lib/python3.8/site-packages/sklearn/linear_model/_least_angle.py:164: DeprecationWarning: `np.float` is a deprecated alias for the builtin `float`. To silence this warning, use `float` by itself. Doing this will not modify any behavior and is safe. If you specifically wanted the numpy scalar type, use `np.float64` here.\n",
      "Deprecated in NumPy 1.20; for more details and guidance: https://numpy.org/devdocs/release/1.20.0-notes.html#deprecations\n",
      "  method='lar', copy_X=True, eps=np.finfo(np.float).eps,\n",
      "/opt/anaconda3/envs/dm/lib/python3.8/site-packages/sklearn/linear_model/_least_angle.py:281: DeprecationWarning: `np.float` is a deprecated alias for the builtin `float`. To silence this warning, use `float` by itself. Doing this will not modify any behavior and is safe. If you specifically wanted the numpy scalar type, use `np.float64` here.\n",
      "Deprecated in NumPy 1.20; for more details and guidance: https://numpy.org/devdocs/release/1.20.0-notes.html#deprecations\n",
      "  eps=np.finfo(np.float).eps, copy_Gram=True, verbose=0,\n",
      "/opt/anaconda3/envs/dm/lib/python3.8/site-packages/sklearn/linear_model/_least_angle.py:865: DeprecationWarning: `np.float` is a deprecated alias for the builtin `float`. To silence this warning, use `float` by itself. Doing this will not modify any behavior and is safe. If you specifically wanted the numpy scalar type, use `np.float64` here.\n",
      "Deprecated in NumPy 1.20; for more details and guidance: https://numpy.org/devdocs/release/1.20.0-notes.html#deprecations\n",
      "  eps=np.finfo(np.float).eps, copy_X=True, fit_path=True,\n",
      "/opt/anaconda3/envs/dm/lib/python3.8/site-packages/sklearn/linear_model/_least_angle.py:1121: DeprecationWarning: `np.float` is a deprecated alias for the builtin `float`. To silence this warning, use `float` by itself. Doing this will not modify any behavior and is safe. If you specifically wanted the numpy scalar type, use `np.float64` here.\n",
      "Deprecated in NumPy 1.20; for more details and guidance: https://numpy.org/devdocs/release/1.20.0-notes.html#deprecations\n",
      "  eps=np.finfo(np.float).eps, copy_X=True, fit_path=True,\n",
      "/opt/anaconda3/envs/dm/lib/python3.8/site-packages/sklearn/linear_model/_least_angle.py:1149: DeprecationWarning: `np.float` is a deprecated alias for the builtin `float`. To silence this warning, use `float` by itself. Doing this will not modify any behavior and is safe. If you specifically wanted the numpy scalar type, use `np.float64` here.\n",
      "Deprecated in NumPy 1.20; for more details and guidance: https://numpy.org/devdocs/release/1.20.0-notes.html#deprecations\n",
      "  eps=np.finfo(np.float).eps, positive=False):\n",
      "/opt/anaconda3/envs/dm/lib/python3.8/site-packages/sklearn/linear_model/_least_angle.py:1379: DeprecationWarning: `np.float` is a deprecated alias for the builtin `float`. To silence this warning, use `float` by itself. Doing this will not modify any behavior and is safe. If you specifically wanted the numpy scalar type, use `np.float64` here.\n",
      "Deprecated in NumPy 1.20; for more details and guidance: https://numpy.org/devdocs/release/1.20.0-notes.html#deprecations\n",
      "  max_n_alphas=1000, n_jobs=None, eps=np.finfo(np.float).eps,\n",
      "/opt/anaconda3/envs/dm/lib/python3.8/site-packages/sklearn/linear_model/_least_angle.py:1621: DeprecationWarning: `np.float` is a deprecated alias for the builtin `float`. To silence this warning, use `float` by itself. Doing this will not modify any behavior and is safe. If you specifically wanted the numpy scalar type, use `np.float64` here.\n",
      "Deprecated in NumPy 1.20; for more details and guidance: https://numpy.org/devdocs/release/1.20.0-notes.html#deprecations\n",
      "  max_n_alphas=1000, n_jobs=None, eps=np.finfo(np.float).eps,\n",
      "/opt/anaconda3/envs/dm/lib/python3.8/site-packages/sklearn/linear_model/_least_angle.py:1755: DeprecationWarning: `np.float` is a deprecated alias for the builtin `float`. To silence this warning, use `float` by itself. Doing this will not modify any behavior and is safe. If you specifically wanted the numpy scalar type, use `np.float64` here.\n",
      "Deprecated in NumPy 1.20; for more details and guidance: https://numpy.org/devdocs/release/1.20.0-notes.html#deprecations\n",
      "  eps=np.finfo(np.float).eps, copy_X=True, positive=False):\n",
      "/opt/anaconda3/envs/dm/lib/python3.8/site-packages/sklearn/decomposition/_lda.py:28: DeprecationWarning: `np.float` is a deprecated alias for the builtin `float`. To silence this warning, use `float` by itself. Doing this will not modify any behavior and is safe. If you specifically wanted the numpy scalar type, use `np.float64` here.\n",
      "Deprecated in NumPy 1.20; for more details and guidance: https://numpy.org/devdocs/release/1.20.0-notes.html#deprecations\n",
      "  EPS = np.finfo(np.float).eps\n"
     ]
    }
   ],
   "source": [
    "model_skip_ipor = gensim.models.Word2Vec(data_ipor, min_count = 1, vector_size = 20000, window = 15, sg = 1)"
   ]
  },
  {
   "cell_type": "code",
   "execution_count": 56,
   "id": "840b3871",
   "metadata": {},
   "outputs": [
    {
     "data": {
      "text/plain": [
       "[('entonces', 0.9999924302101135),\n",
       " ('si', 0.9999920725822449),\n",
       " ('tiempo', 0.9999918341636658),\n",
       " ('puedes', 0.999991774559021),\n",
       " ('ser', 0.999991774559021),\n",
       " ('nike', 0.9999916553497314),\n",
       " ('ver', 0.9999916553497314),\n",
       " ('tema', 0.9999915957450867),\n",
       " ('siempre', 0.9999915957450867),\n",
       " ('ahi', 0.9999915361404419),\n",
       " ('bien', 0.9999914765357971),\n",
       " ('va', 0.9999914765357971),\n",
       " ('comerciales', 0.9999914765357971),\n",
       " ('tipo', 0.9999914765357971),\n",
       " ('bastante', 0.9999914169311523),\n",
       " ('hacer', 0.9999914169311523),\n",
       " ('bueno', 0.9999914169311523),\n",
       " ('cierto', 0.9999913573265076),\n",
       " ('ma', 0.9999912977218628),\n",
       " ('vi', 0.9999912977218628),\n",
       " ('veces', 0.9999911785125732),\n",
       " ('puedo', 0.9999911785125732),\n",
       " ('mejor', 0.9999911785125732),\n",
       " ('motivacion', 0.9999911189079285),\n",
       " ('luego', 0.9999911189079285),\n",
       " ('zapatillas', 0.9999910593032837),\n",
       " ('diferentes', 0.9999910593032837),\n",
       " ('haciendo', 0.9999910593032837),\n",
       " ('dice', 0.9999910593032837),\n",
       " ('sino', 0.9999910593032837),\n",
       " ('voy', 0.9999909996986389),\n",
       " ('final', 0.9999909996986389),\n",
       " ('ejemplo', 0.9999909996986389),\n",
       " ('creo', 0.9999909996986389),\n",
       " ('persona', 0.9999909996986389),\n",
       " ('comercial', 0.9999909996986389),\n",
       " ('correr', 0.9999909400939941),\n",
       " ('solo', 0.9999909400939941),\n",
       " ('veia', 0.9999909400939941),\n",
       " ('basicamente', 0.9999909400939941)]"
      ]
     },
     "execution_count": 56,
     "metadata": {},
     "output_type": "execute_result"
    }
   ],
   "source": [
    "vector_skip_ipor = model_skip_ipor.wv['deporte'] \n",
    "sims_skip_ipor = model_skip_ipor.wv.most_similar('deporte', topn=40)\n",
    "sims_skip_ipor"
   ]
  },
  {
   "cell_type": "markdown",
   "id": "d96c2c99",
   "metadata": {},
   "source": [
    "## Embeddings (skip-gram) for inspired by"
   ]
  },
  {
   "cell_type": "code",
   "execution_count": 57,
   "id": "939b067a",
   "metadata": {},
   "outputs": [],
   "source": [
    "ipara = corpus[corpus[\"Class\"] == 'inspirado_para']"
   ]
  },
  {
   "cell_type": "code",
   "execution_count": 58,
   "id": "10f0a0ca",
   "metadata": {},
   "outputs": [],
   "source": [
    "lista_words_ipara = ' '.join(ipara.Document.to_list())"
   ]
  },
  {
   "cell_type": "code",
   "execution_count": 59,
   "id": "ac4736cb",
   "metadata": {},
   "outputs": [],
   "source": [
    "data_ipara = []\n",
    "for i in sent_tokenize(lista_words_ipara):\n",
    "    temp = []\n",
    "    # tokenize the sentence into words\n",
    "    for j in word_tokenize(i):\n",
    "        temp.append(j.lower())\n",
    "    data_ipara.append(temp)"
   ]
  },
  {
   "cell_type": "code",
   "execution_count": 60,
   "id": "5bc06a99",
   "metadata": {},
   "outputs": [],
   "source": [
    "model_skip_ipara = gensim.models.Word2Vec(data_ipara, min_count = 1, vector_size = 20000, window = 15, sg = 1)"
   ]
  },
  {
   "cell_type": "code",
   "execution_count": 61,
   "id": "74730c02",
   "metadata": {},
   "outputs": [
    {
     "data": {
      "text/plain": [
       "[('entonces', 0.9999926090240479),\n",
       " ('si', 0.9999924898147583),\n",
       " ('ropa', 0.9999924302101135),\n",
       " ('marca', 0.9999916553497314),\n",
       " ('veces', 0.9999914169311523),\n",
       " ('asi', 0.9999913573265076),\n",
       " ('persona', 0.9999911785125732),\n",
       " ('video', 0.9999911189079285),\n",
       " ('ver', 0.9999910593032837),\n",
       " ('bueno', 0.9999908804893494),\n",
       " ('vi', 0.9999908208847046),\n",
       " ('zapatillas', 0.999990701675415),\n",
       " ('ganas', 0.9999905228614807),\n",
       " ('inspira', 0.9999903440475464),\n",
       " ('hacer', 0.9999902844429016),\n",
       " ('veo', 0.9999902248382568),\n",
       " ('nike', 0.9999901652336121),\n",
       " ('seguir', 0.9999901056289673),\n",
       " ('manera', 0.999989926815033),\n",
       " ('creo', 0.999989926815033),\n",
       " ('motivacion', 0.999989926815033),\n",
       " ('comprar', 0.9999898672103882),\n",
       " ('quiero', 0.9999898076057434),\n",
       " ('motiva', 0.9999897480010986),\n",
       " ('veia', 0.9999896883964539),\n",
       " ('ma', 0.9999895691871643),\n",
       " ('pucha', 0.9999894499778748),\n",
       " ('presente', 0.9999894499778748),\n",
       " ('f', 0.99998939037323),\n",
       " ('puedo', 0.9999893307685852)]"
      ]
     },
     "execution_count": 61,
     "metadata": {},
     "output_type": "execute_result"
    }
   ],
   "source": [
    "vector_skip_ipara = model_skip_ipara.wv['deporte'] \n",
    "sims_skip_ipara = model_skip_ipara.wv.most_similar('deporte', topn=30)\n",
    "sims_skip_ipara"
   ]
  },
  {
   "cell_type": "markdown",
   "id": "625e3910",
   "metadata": {},
   "source": [
    "## Wordclouds"
   ]
  },
  {
   "cell_type": "code",
   "execution_count": 62,
   "id": "b3f2e5c6",
   "metadata": {},
   "outputs": [],
   "source": [
    "from wordcloud import WordCloud, STOPWORDS\n",
    "import wordcloud as wc\n",
    "import matplotlib.pyplot as plt\n",
    "from itertools import combinations, chain\n",
    "from PIL import Image\n",
    "import numpy as np"
   ]
  },
  {
   "cell_type": "code",
   "execution_count": 63,
   "id": "dc520fec",
   "metadata": {},
   "outputs": [],
   "source": [
    "#txt_persona_por = \"visto deportistas comercial trayectoria ejemplo nike va puedes deporte ser zapatillas haciendo inspiracion solo pienso\"\n",
    "txt_person_for = \"seen athletes advertisement trajectory example nike he/she_goes you_can sport be sneakers doing inspiration just I_think\"\n",
    "test_keys= txt_person_for.split(' ')\n",
    "test_values= [2] * len(test_keys)\n",
    "dict_person_for = {test_keys[i]: test_values[i] for i in range(len(test_keys))}"
   ]
  },
  {
   "cell_type": "code",
   "execution_count": 64,
   "id": "64c192a2",
   "metadata": {},
   "outputs": [],
   "source": [
    "#txt_persona_para = \"deporte ropa marca zapatillas nike seguir ver hacer ganas inspira discapacidad creo comprar manera quiero\"\n",
    "txt_person_by = \"sport clothes brand sneakers nike follow see do desire ispire disability I_believe buy manner I_want\"\n",
    "test_keys= txt_person_by.split(' ')\n",
    "test_values= [2] * len(test_keys)\n",
    "dict_person_by = {test_keys[i]: test_values[i] for i in range(len(test_keys))}"
   ]
  },
  {
   "cell_type": "code",
   "execution_count": 65,
   "id": "130e13e8",
   "metadata": {},
   "outputs": [],
   "source": [
    "#txt_deporte_por = \"puedes ser nike ver va comerciales hacer mejor motivacion zapatillas haciendo voy ejemplo persona correr\"\n",
    "txt_sport_for = \"you_can be nike see he/she_goes advertisements do better motivation sneakers doing I_go example person run\"\n",
    "test_keys= txt_sport_for.split(' ')\n",
    "test_values= [2] * len(test_keys)\n",
    "dict_sport_for = {test_keys[i]: test_values[i] for i in range(len(test_keys))}"
   ]
  },
  {
   "cell_type": "code",
   "execution_count": 66,
   "id": "3fd906a5",
   "metadata": {},
   "outputs": [],
   "source": [
    "#txt_deporte_para = \"ropa marca persona ver zapatillas ganas inspira hacer nike seguir motivacion comprar quiero motiva veia\"\n",
    "txt_sport_by = \"clothes brand person see sneakers desire inspire do nike follow motivation buy I_want motivates I_saw\"\n",
    "test_keys= txt_sport_by.split(' ')\n",
    "test_values= [2] * len(test_keys)\n",
    "dict_sport_by = {test_keys[i]: test_values[i] for i in range(len(test_keys))}"
   ]
  },
  {
   "cell_type": "code",
   "execution_count": 67,
   "id": "22dd599b",
   "metadata": {},
   "outputs": [],
   "source": [
    "import string\n",
    "# 2+ consecutive letters (also include apostrophes), e.x It's\n",
    "normal_word = r\"(?:\\w[\\w/]+)\"\n",
    "# 2+ consecutive punctuations, e.x. :)\n",
    "ascii_art = r\"(?:[{punctuation}][{punctuation}]+)\".format(punctuation=string.punctuation)\n",
    "regexp = r\"{normal_word}|{ascii_art}\".format(normal_word=normal_word, ascii_art=ascii_art)"
   ]
  },
  {
   "cell_type": "code",
   "execution_count": 68,
   "id": "2ccaba58",
   "metadata": {},
   "outputs": [],
   "source": [
    "wordcloud = WordCloud(\n",
    "        width=3000,\n",
    "        height=2000,\n",
    "        random_state=1,\n",
    "        background_color=\"white\",\n",
    "        #colormap=\"Blues\",\n",
    "        color_func=wc.get_single_color_func('Blue'),\n",
    "        collocations=False,\n",
    "        regexp=regexp,\n",
    "        ).generate_from_frequencies(dict_sport_for)"
   ]
  },
  {
   "cell_type": "code",
   "execution_count": 63,
   "id": "d65cd61f",
   "metadata": {},
   "outputs": [
    {
     "data": {
      "image/png": "[encoded data removed]",
      "text/plain": [
       "<Figure size 720x720 with 1 Axes>"
      ]
     },
     "metadata": {
      "needs_background": "light"
     },
     "output_type": "display_data"
    },
    {
     "name": "stderr",
     "output_type": "stream",
     "text": [
      "/opt/anaconda3/envs/dm/lib/python3.8/site-packages/past/builtins/misc.py:45: DeprecationWarning: the imp module is deprecated in favour of importlib; see the module's documentation for alternative uses\n",
      "  from imp import reload\n",
      "/opt/anaconda3/envs/dm/lib/python3.8/site-packages/sklearn/linear_model/_least_angle.py:34: DeprecationWarning: `np.float` is a deprecated alias for the builtin `float`. To silence this warning, use `float` by itself. Doing this will not modify any behavior and is safe. If you specifically wanted the numpy scalar type, use `np.float64` here.\n",
      "Deprecated in NumPy 1.20; for more details and guidance: https://numpy.org/devdocs/release/1.20.0-notes.html#deprecations\n",
      "  method='lar', copy_X=True, eps=np.finfo(np.float).eps,\n",
      "/opt/anaconda3/envs/dm/lib/python3.8/site-packages/sklearn/linear_model/_least_angle.py:164: DeprecationWarning: `np.float` is a deprecated alias for the builtin `float`. To silence this warning, use `float` by itself. Doing this will not modify any behavior and is safe. If you specifically wanted the numpy scalar type, use `np.float64` here.\n",
      "Deprecated in NumPy 1.20; for more details and guidance: https://numpy.org/devdocs/release/1.20.0-notes.html#deprecations\n",
      "  method='lar', copy_X=True, eps=np.finfo(np.float).eps,\n",
      "/opt/anaconda3/envs/dm/lib/python3.8/site-packages/sklearn/linear_model/_least_angle.py:281: DeprecationWarning: `np.float` is a deprecated alias for the builtin `float`. To silence this warning, use `float` by itself. Doing this will not modify any behavior and is safe. If you specifically wanted the numpy scalar type, use `np.float64` here.\n",
      "Deprecated in NumPy 1.20; for more details and guidance: https://numpy.org/devdocs/release/1.20.0-notes.html#deprecations\n",
      "  eps=np.finfo(np.float).eps, copy_Gram=True, verbose=0,\n",
      "/opt/anaconda3/envs/dm/lib/python3.8/site-packages/sklearn/linear_model/_least_angle.py:865: DeprecationWarning: `np.float` is a deprecated alias for the builtin `float`. To silence this warning, use `float` by itself. Doing this will not modify any behavior and is safe. If you specifically wanted the numpy scalar type, use `np.float64` here.\n",
      "Deprecated in NumPy 1.20; for more details and guidance: https://numpy.org/devdocs/release/1.20.0-notes.html#deprecations\n",
      "  eps=np.finfo(np.float).eps, copy_X=True, fit_path=True,\n",
      "/opt/anaconda3/envs/dm/lib/python3.8/site-packages/sklearn/linear_model/_least_angle.py:1121: DeprecationWarning: `np.float` is a deprecated alias for the builtin `float`. To silence this warning, use `float` by itself. Doing this will not modify any behavior and is safe. If you specifically wanted the numpy scalar type, use `np.float64` here.\n",
      "Deprecated in NumPy 1.20; for more details and guidance: https://numpy.org/devdocs/release/1.20.0-notes.html#deprecations\n",
      "  eps=np.finfo(np.float).eps, copy_X=True, fit_path=True,\n",
      "/opt/anaconda3/envs/dm/lib/python3.8/site-packages/sklearn/linear_model/_least_angle.py:1149: DeprecationWarning: `np.float` is a deprecated alias for the builtin `float`. To silence this warning, use `float` by itself. Doing this will not modify any behavior and is safe. If you specifically wanted the numpy scalar type, use `np.float64` here.\n",
      "Deprecated in NumPy 1.20; for more details and guidance: https://numpy.org/devdocs/release/1.20.0-notes.html#deprecations\n",
      "  eps=np.finfo(np.float).eps, positive=False):\n",
      "/opt/anaconda3/envs/dm/lib/python3.8/site-packages/sklearn/linear_model/_least_angle.py:1379: DeprecationWarning: `np.float` is a deprecated alias for the builtin `float`. To silence this warning, use `float` by itself. Doing this will not modify any behavior and is safe. If you specifically wanted the numpy scalar type, use `np.float64` here.\n",
      "Deprecated in NumPy 1.20; for more details and guidance: https://numpy.org/devdocs/release/1.20.0-notes.html#deprecations\n",
      "  max_n_alphas=1000, n_jobs=None, eps=np.finfo(np.float).eps,\n",
      "/opt/anaconda3/envs/dm/lib/python3.8/site-packages/sklearn/linear_model/_least_angle.py:1621: DeprecationWarning: `np.float` is a deprecated alias for the builtin `float`. To silence this warning, use `float` by itself. Doing this will not modify any behavior and is safe. If you specifically wanted the numpy scalar type, use `np.float64` here.\n",
      "Deprecated in NumPy 1.20; for more details and guidance: https://numpy.org/devdocs/release/1.20.0-notes.html#deprecations\n",
      "  max_n_alphas=1000, n_jobs=None, eps=np.finfo(np.float).eps,\n",
      "/opt/anaconda3/envs/dm/lib/python3.8/site-packages/sklearn/linear_model/_least_angle.py:1755: DeprecationWarning: `np.float` is a deprecated alias for the builtin `float`. To silence this warning, use `float` by itself. Doing this will not modify any behavior and is safe. If you specifically wanted the numpy scalar type, use `np.float64` here.\n",
      "Deprecated in NumPy 1.20; for more details and guidance: https://numpy.org/devdocs/release/1.20.0-notes.html#deprecations\n",
      "  eps=np.finfo(np.float).eps, copy_X=True, positive=False):\n",
      "/opt/anaconda3/envs/dm/lib/python3.8/site-packages/sklearn/decomposition/_lda.py:28: DeprecationWarning: `np.float` is a deprecated alias for the builtin `float`. To silence this warning, use `float` by itself. Doing this will not modify any behavior and is safe. If you specifically wanted the numpy scalar type, use `np.float64` here.\n",
      "Deprecated in NumPy 1.20; for more details and guidance: https://numpy.org/devdocs/release/1.20.0-notes.html#deprecations\n",
      "  EPS = np.finfo(np.float).eps\n",
      "/opt/anaconda3/envs/dm/lib/python3.8/site-packages/past/builtins/misc.py:45: DeprecationWarning: the imp module is deprecated in favour of importlib; see the module's documentation for alternative uses\n",
      "  from imp import reload\n",
      "/opt/anaconda3/envs/dm/lib/python3.8/site-packages/sklearn/linear_model/_least_angle.py:34: DeprecationWarning: `np.float` is a deprecated alias for the builtin `float`. To silence this warning, use `float` by itself. Doing this will not modify any behavior and is safe. If you specifically wanted the numpy scalar type, use `np.float64` here.\n",
      "Deprecated in NumPy 1.20; for more details and guidance: https://numpy.org/devdocs/release/1.20.0-notes.html#deprecations\n",
      "  method='lar', copy_X=True, eps=np.finfo(np.float).eps,\n",
      "/opt/anaconda3/envs/dm/lib/python3.8/site-packages/sklearn/linear_model/_least_angle.py:164: DeprecationWarning: `np.float` is a deprecated alias for the builtin `float`. To silence this warning, use `float` by itself. Doing this will not modify any behavior and is safe. If you specifically wanted the numpy scalar type, use `np.float64` here.\n",
      "Deprecated in NumPy 1.20; for more details and guidance: https://numpy.org/devdocs/release/1.20.0-notes.html#deprecations\n",
      "  method='lar', copy_X=True, eps=np.finfo(np.float).eps,\n",
      "/opt/anaconda3/envs/dm/lib/python3.8/site-packages/sklearn/linear_model/_least_angle.py:281: DeprecationWarning: `np.float` is a deprecated alias for the builtin `float`. To silence this warning, use `float` by itself. Doing this will not modify any behavior and is safe. If you specifically wanted the numpy scalar type, use `np.float64` here.\n",
      "Deprecated in NumPy 1.20; for more details and guidance: https://numpy.org/devdocs/release/1.20.0-notes.html#deprecations\n",
      "  eps=np.finfo(np.float).eps, copy_Gram=True, verbose=0,\n",
      "/opt/anaconda3/envs/dm/lib/python3.8/site-packages/sklearn/linear_model/_least_angle.py:865: DeprecationWarning: `np.float` is a deprecated alias for the builtin `float`. To silence this warning, use `float` by itself. Doing this will not modify any behavior and is safe. If you specifically wanted the numpy scalar type, use `np.float64` here.\n",
      "Deprecated in NumPy 1.20; for more details and guidance: https://numpy.org/devdocs/release/1.20.0-notes.html#deprecations\n",
      "  eps=np.finfo(np.float).eps, copy_X=True, fit_path=True,\n",
      "/opt/anaconda3/envs/dm/lib/python3.8/site-packages/sklearn/linear_model/_least_angle.py:1121: DeprecationWarning: `np.float` is a deprecated alias for the builtin `float`. To silence this warning, use `float` by itself. Doing this will not modify any behavior and is safe. If you specifically wanted the numpy scalar type, use `np.float64` here.\n",
      "Deprecated in NumPy 1.20; for more details and guidance: https://numpy.org/devdocs/release/1.20.0-notes.html#deprecations\n",
      "  eps=np.finfo(np.float).eps, copy_X=True, fit_path=True,\n",
      "/opt/anaconda3/envs/dm/lib/python3.8/site-packages/sklearn/linear_model/_least_angle.py:1149: DeprecationWarning: `np.float` is a deprecated alias for the builtin `float`. To silence this warning, use `float` by itself. Doing this will not modify any behavior and is safe. If you specifically wanted the numpy scalar type, use `np.float64` here.\n",
      "Deprecated in NumPy 1.20; for more details and guidance: https://numpy.org/devdocs/release/1.20.0-notes.html#deprecations\n",
      "  eps=np.finfo(np.float).eps, positive=False):\n",
      "/opt/anaconda3/envs/dm/lib/python3.8/site-packages/sklearn/linear_model/_least_angle.py:1379: DeprecationWarning: `np.float` is a deprecated alias for the builtin `float`. To silence this warning, use `float` by itself. Doing this will not modify any behavior and is safe. If you specifically wanted the numpy scalar type, use `np.float64` here.\n",
      "Deprecated in NumPy 1.20; for more details and guidance: https://numpy.org/devdocs/release/1.20.0-notes.html#deprecations\n",
      "  max_n_alphas=1000, n_jobs=None, eps=np.finfo(np.float).eps,\n",
      "/opt/anaconda3/envs/dm/lib/python3.8/site-packages/sklearn/linear_model/_least_angle.py:1621: DeprecationWarning: `np.float` is a deprecated alias for the builtin `float`. To silence this warning, use `float` by itself. Doing this will not modify any behavior and is safe. If you specifically wanted the numpy scalar type, use `np.float64` here.\n",
      "Deprecated in NumPy 1.20; for more details and guidance: https://numpy.org/devdocs/release/1.20.0-notes.html#deprecations\n",
      "  max_n_alphas=1000, n_jobs=None, eps=np.finfo(np.float).eps,\n",
      "/opt/anaconda3/envs/dm/lib/python3.8/site-packages/sklearn/linear_model/_least_angle.py:1755: DeprecationWarning: `np.float` is a deprecated alias for the builtin `float`. To silence this warning, use `float` by itself. Doing this will not modify any behavior and is safe. If you specifically wanted the numpy scalar type, use `np.float64` here.\n",
      "Deprecated in NumPy 1.20; for more details and guidance: https://numpy.org/devdocs/release/1.20.0-notes.html#deprecations\n",
      "  eps=np.finfo(np.float).eps, copy_X=True, positive=False):\n",
      "/opt/anaconda3/envs/dm/lib/python3.8/site-packages/sklearn/decomposition/_lda.py:28: DeprecationWarning: `np.float` is a deprecated alias for the builtin `float`. To silence this warning, use `float` by itself. Doing this will not modify any behavior and is safe. If you specifically wanted the numpy scalar type, use `np.float64` here.\n",
      "Deprecated in NumPy 1.20; for more details and guidance: https://numpy.org/devdocs/release/1.20.0-notes.html#deprecations\n",
      "  EPS = np.finfo(np.float).eps\n"
     ]
    },
    {
     "name": "stderr",
     "output_type": "stream",
     "text": [
      "/opt/anaconda3/envs/dm/lib/python3.8/site-packages/past/builtins/misc.py:45: DeprecationWarning: the imp module is deprecated in favour of importlib; see the module's documentation for alternative uses\n",
      "  from imp import reload\n",
      "/opt/anaconda3/envs/dm/lib/python3.8/site-packages/sklearn/linear_model/_least_angle.py:34: DeprecationWarning: `np.float` is a deprecated alias for the builtin `float`. To silence this warning, use `float` by itself. Doing this will not modify any behavior and is safe. If you specifically wanted the numpy scalar type, use `np.float64` here.\n",
      "Deprecated in NumPy 1.20; for more details and guidance: https://numpy.org/devdocs/release/1.20.0-notes.html#deprecations\n",
      "  method='lar', copy_X=True, eps=np.finfo(np.float).eps,\n",
      "/opt/anaconda3/envs/dm/lib/python3.8/site-packages/sklearn/linear_model/_least_angle.py:164: DeprecationWarning: `np.float` is a deprecated alias for the builtin `float`. To silence this warning, use `float` by itself. Doing this will not modify any behavior and is safe. If you specifically wanted the numpy scalar type, use `np.float64` here.\n",
      "Deprecated in NumPy 1.20; for more details and guidance: https://numpy.org/devdocs/release/1.20.0-notes.html#deprecations\n",
      "  method='lar', copy_X=True, eps=np.finfo(np.float).eps,\n",
      "/opt/anaconda3/envs/dm/lib/python3.8/site-packages/sklearn/linear_model/_least_angle.py:281: DeprecationWarning: `np.float` is a deprecated alias for the builtin `float`. To silence this warning, use `float` by itself. Doing this will not modify any behavior and is safe. If you specifically wanted the numpy scalar type, use `np.float64` here.\n",
      "Deprecated in NumPy 1.20; for more details and guidance: https://numpy.org/devdocs/release/1.20.0-notes.html#deprecations\n",
      "  eps=np.finfo(np.float).eps, copy_Gram=True, verbose=0,\n",
      "/opt/anaconda3/envs/dm/lib/python3.8/site-packages/sklearn/linear_model/_least_angle.py:865: DeprecationWarning: `np.float` is a deprecated alias for the builtin `float`. To silence this warning, use `float` by itself. Doing this will not modify any behavior and is safe. If you specifically wanted the numpy scalar type, use `np.float64` here.\n",
      "Deprecated in NumPy 1.20; for more details and guidance: https://numpy.org/devdocs/release/1.20.0-notes.html#deprecations\n",
      "  eps=np.finfo(np.float).eps, copy_X=True, fit_path=True,\n",
      "/opt/anaconda3/envs/dm/lib/python3.8/site-packages/sklearn/linear_model/_least_angle.py:1121: DeprecationWarning: `np.float` is a deprecated alias for the builtin `float`. To silence this warning, use `float` by itself. Doing this will not modify any behavior and is safe. If you specifically wanted the numpy scalar type, use `np.float64` here.\n",
      "Deprecated in NumPy 1.20; for more details and guidance: https://numpy.org/devdocs/release/1.20.0-notes.html#deprecations\n",
      "  eps=np.finfo(np.float).eps, copy_X=True, fit_path=True,\n",
      "/opt/anaconda3/envs/dm/lib/python3.8/site-packages/sklearn/linear_model/_least_angle.py:1149: DeprecationWarning: `np.float` is a deprecated alias for the builtin `float`. To silence this warning, use `float` by itself. Doing this will not modify any behavior and is safe. If you specifically wanted the numpy scalar type, use `np.float64` here.\n",
      "Deprecated in NumPy 1.20; for more details and guidance: https://numpy.org/devdocs/release/1.20.0-notes.html#deprecations\n",
      "  eps=np.finfo(np.float).eps, positive=False):\n",
      "/opt/anaconda3/envs/dm/lib/python3.8/site-packages/sklearn/linear_model/_least_angle.py:1379: DeprecationWarning: `np.float` is a deprecated alias for the builtin `float`. To silence this warning, use `float` by itself. Doing this will not modify any behavior and is safe. If you specifically wanted the numpy scalar type, use `np.float64` here.\n",
      "Deprecated in NumPy 1.20; for more details and guidance: https://numpy.org/devdocs/release/1.20.0-notes.html#deprecations\n",
      "  max_n_alphas=1000, n_jobs=None, eps=np.finfo(np.float).eps,\n",
      "/opt/anaconda3/envs/dm/lib/python3.8/site-packages/sklearn/linear_model/_least_angle.py:1621: DeprecationWarning: `np.float` is a deprecated alias for the builtin `float`. To silence this warning, use `float` by itself. Doing this will not modify any behavior and is safe. If you specifically wanted the numpy scalar type, use `np.float64` here.\n",
      "Deprecated in NumPy 1.20; for more details and guidance: https://numpy.org/devdocs/release/1.20.0-notes.html#deprecations\n",
      "  max_n_alphas=1000, n_jobs=None, eps=np.finfo(np.float).eps,\n",
      "/opt/anaconda3/envs/dm/lib/python3.8/site-packages/sklearn/linear_model/_least_angle.py:1755: DeprecationWarning: `np.float` is a deprecated alias for the builtin `float`. To silence this warning, use `float` by itself. Doing this will not modify any behavior and is safe. If you specifically wanted the numpy scalar type, use `np.float64` here.\n",
      "Deprecated in NumPy 1.20; for more details and guidance: https://numpy.org/devdocs/release/1.20.0-notes.html#deprecations\n",
      "  eps=np.finfo(np.float).eps, copy_X=True, positive=False):\n",
      "/opt/anaconda3/envs/dm/lib/python3.8/site-packages/sklearn/decomposition/_lda.py:28: DeprecationWarning: `np.float` is a deprecated alias for the builtin `float`. To silence this warning, use `float` by itself. Doing this will not modify any behavior and is safe. If you specifically wanted the numpy scalar type, use `np.float64` here.\n",
      "Deprecated in NumPy 1.20; for more details and guidance: https://numpy.org/devdocs/release/1.20.0-notes.html#deprecations\n",
      "  EPS = np.finfo(np.float).eps\n",
      "/opt/anaconda3/envs/dm/lib/python3.8/site-packages/past/builtins/misc.py:45: DeprecationWarning: the imp module is deprecated in favour of importlib; see the module's documentation for alternative uses\n",
      "  from imp import reload\n",
      "/opt/anaconda3/envs/dm/lib/python3.8/site-packages/sklearn/linear_model/_least_angle.py:34: DeprecationWarning: `np.float` is a deprecated alias for the builtin `float`. To silence this warning, use `float` by itself. Doing this will not modify any behavior and is safe. If you specifically wanted the numpy scalar type, use `np.float64` here.\n",
      "Deprecated in NumPy 1.20; for more details and guidance: https://numpy.org/devdocs/release/1.20.0-notes.html#deprecations\n",
      "  method='lar', copy_X=True, eps=np.finfo(np.float).eps,\n",
      "/opt/anaconda3/envs/dm/lib/python3.8/site-packages/sklearn/linear_model/_least_angle.py:164: DeprecationWarning: `np.float` is a deprecated alias for the builtin `float`. To silence this warning, use `float` by itself. Doing this will not modify any behavior and is safe. If you specifically wanted the numpy scalar type, use `np.float64` here.\n",
      "Deprecated in NumPy 1.20; for more details and guidance: https://numpy.org/devdocs/release/1.20.0-notes.html#deprecations\n",
      "  method='lar', copy_X=True, eps=np.finfo(np.float).eps,\n",
      "/opt/anaconda3/envs/dm/lib/python3.8/site-packages/sklearn/linear_model/_least_angle.py:281: DeprecationWarning: `np.float` is a deprecated alias for the builtin `float`. To silence this warning, use `float` by itself. Doing this will not modify any behavior and is safe. If you specifically wanted the numpy scalar type, use `np.float64` here.\n",
      "Deprecated in NumPy 1.20; for more details and guidance: https://numpy.org/devdocs/release/1.20.0-notes.html#deprecations\n",
      "  eps=np.finfo(np.float).eps, copy_Gram=True, verbose=0,\n",
      "/opt/anaconda3/envs/dm/lib/python3.8/site-packages/sklearn/linear_model/_least_angle.py:865: DeprecationWarning: `np.float` is a deprecated alias for the builtin `float`. To silence this warning, use `float` by itself. Doing this will not modify any behavior and is safe. If you specifically wanted the numpy scalar type, use `np.float64` here.\n",
      "Deprecated in NumPy 1.20; for more details and guidance: https://numpy.org/devdocs/release/1.20.0-notes.html#deprecations\n",
      "  eps=np.finfo(np.float).eps, copy_X=True, fit_path=True,\n",
      "/opt/anaconda3/envs/dm/lib/python3.8/site-packages/sklearn/linear_model/_least_angle.py:1121: DeprecationWarning: `np.float` is a deprecated alias for the builtin `float`. To silence this warning, use `float` by itself. Doing this will not modify any behavior and is safe. If you specifically wanted the numpy scalar type, use `np.float64` here.\n",
      "Deprecated in NumPy 1.20; for more details and guidance: https://numpy.org/devdocs/release/1.20.0-notes.html#deprecations\n",
      "  eps=np.finfo(np.float).eps, copy_X=True, fit_path=True,\n",
      "/opt/anaconda3/envs/dm/lib/python3.8/site-packages/sklearn/linear_model/_least_angle.py:1149: DeprecationWarning: `np.float` is a deprecated alias for the builtin `float`. To silence this warning, use `float` by itself. Doing this will not modify any behavior and is safe. If you specifically wanted the numpy scalar type, use `np.float64` here.\n",
      "Deprecated in NumPy 1.20; for more details and guidance: https://numpy.org/devdocs/release/1.20.0-notes.html#deprecations\n",
      "  eps=np.finfo(np.float).eps, positive=False):\n",
      "/opt/anaconda3/envs/dm/lib/python3.8/site-packages/sklearn/linear_model/_least_angle.py:1379: DeprecationWarning: `np.float` is a deprecated alias for the builtin `float`. To silence this warning, use `float` by itself. Doing this will not modify any behavior and is safe. If you specifically wanted the numpy scalar type, use `np.float64` here.\n",
      "Deprecated in NumPy 1.20; for more details and guidance: https://numpy.org/devdocs/release/1.20.0-notes.html#deprecations\n",
      "  max_n_alphas=1000, n_jobs=None, eps=np.finfo(np.float).eps,\n",
      "/opt/anaconda3/envs/dm/lib/python3.8/site-packages/sklearn/linear_model/_least_angle.py:1621: DeprecationWarning: `np.float` is a deprecated alias for the builtin `float`. To silence this warning, use `float` by itself. Doing this will not modify any behavior and is safe. If you specifically wanted the numpy scalar type, use `np.float64` here.\n",
      "Deprecated in NumPy 1.20; for more details and guidance: https://numpy.org/devdocs/release/1.20.0-notes.html#deprecations\n",
      "  max_n_alphas=1000, n_jobs=None, eps=np.finfo(np.float).eps,\n",
      "/opt/anaconda3/envs/dm/lib/python3.8/site-packages/sklearn/linear_model/_least_angle.py:1755: DeprecationWarning: `np.float` is a deprecated alias for the builtin `float`. To silence this warning, use `float` by itself. Doing this will not modify any behavior and is safe. If you specifically wanted the numpy scalar type, use `np.float64` here.\n",
      "Deprecated in NumPy 1.20; for more details and guidance: https://numpy.org/devdocs/release/1.20.0-notes.html#deprecations\n",
      "  eps=np.finfo(np.float).eps, copy_X=True, positive=False):\n",
      "/opt/anaconda3/envs/dm/lib/python3.8/site-packages/sklearn/decomposition/_lda.py:28: DeprecationWarning: `np.float` is a deprecated alias for the builtin `float`. To silence this warning, use `float` by itself. Doing this will not modify any behavior and is safe. If you specifically wanted the numpy scalar type, use `np.float64` here.\n",
      "Deprecated in NumPy 1.20; for more details and guidance: https://numpy.org/devdocs/release/1.20.0-notes.html#deprecations\n",
      "  EPS = np.finfo(np.float).eps\n",
      "/opt/anaconda3/envs/dm/lib/python3.8/site-packages/past/builtins/misc.py:45: DeprecationWarning: the imp module is deprecated in favour of importlib; see the module's documentation for alternative uses\n",
      "  from imp import reload\n",
      "/opt/anaconda3/envs/dm/lib/python3.8/site-packages/sklearn/linear_model/_least_angle.py:34: DeprecationWarning: `np.float` is a deprecated alias for the builtin `float`. To silence this warning, use `float` by itself. Doing this will not modify any behavior and is safe. If you specifically wanted the numpy scalar type, use `np.float64` here.\n",
      "Deprecated in NumPy 1.20; for more details and guidance: https://numpy.org/devdocs/release/1.20.0-notes.html#deprecations\n",
      "  method='lar', copy_X=True, eps=np.finfo(np.float).eps,\n",
      "/opt/anaconda3/envs/dm/lib/python3.8/site-packages/sklearn/linear_model/_least_angle.py:164: DeprecationWarning: `np.float` is a deprecated alias for the builtin `float`. To silence this warning, use `float` by itself. Doing this will not modify any behavior and is safe. If you specifically wanted the numpy scalar type, use `np.float64` here.\n",
      "Deprecated in NumPy 1.20; for more details and guidance: https://numpy.org/devdocs/release/1.20.0-notes.html#deprecations\n",
      "  method='lar', copy_X=True, eps=np.finfo(np.float).eps,\n",
      "/opt/anaconda3/envs/dm/lib/python3.8/site-packages/sklearn/linear_model/_least_angle.py:281: DeprecationWarning: `np.float` is a deprecated alias for the builtin `float`. To silence this warning, use `float` by itself. Doing this will not modify any behavior and is safe. If you specifically wanted the numpy scalar type, use `np.float64` here.\n",
      "Deprecated in NumPy 1.20; for more details and guidance: https://numpy.org/devdocs/release/1.20.0-notes.html#deprecations\n",
      "  eps=np.finfo(np.float).eps, copy_Gram=True, verbose=0,\n",
      "/opt/anaconda3/envs/dm/lib/python3.8/site-packages/sklearn/linear_model/_least_angle.py:865: DeprecationWarning: `np.float` is a deprecated alias for the builtin `float`. To silence this warning, use `float` by itself. Doing this will not modify any behavior and is safe. If you specifically wanted the numpy scalar type, use `np.float64` here.\n",
      "Deprecated in NumPy 1.20; for more details and guidance: https://numpy.org/devdocs/release/1.20.0-notes.html#deprecations\n",
      "  eps=np.finfo(np.float).eps, copy_X=True, fit_path=True,\n",
      "/opt/anaconda3/envs/dm/lib/python3.8/site-packages/sklearn/linear_model/_least_angle.py:1121: DeprecationWarning: `np.float` is a deprecated alias for the builtin `float`. To silence this warning, use `float` by itself. Doing this will not modify any behavior and is safe. If you specifically wanted the numpy scalar type, use `np.float64` here.\n",
      "Deprecated in NumPy 1.20; for more details and guidance: https://numpy.org/devdocs/release/1.20.0-notes.html#deprecations\n",
      "  eps=np.finfo(np.float).eps, copy_X=True, fit_path=True,\n",
      "/opt/anaconda3/envs/dm/lib/python3.8/site-packages/sklearn/linear_model/_least_angle.py:1149: DeprecationWarning: `np.float` is a deprecated alias for the builtin `float`. To silence this warning, use `float` by itself. Doing this will not modify any behavior and is safe. If you specifically wanted the numpy scalar type, use `np.float64` here.\n",
      "Deprecated in NumPy 1.20; for more details and guidance: https://numpy.org/devdocs/release/1.20.0-notes.html#deprecations\n",
      "  eps=np.finfo(np.float).eps, positive=False):\n",
      "/opt/anaconda3/envs/dm/lib/python3.8/site-packages/sklearn/linear_model/_least_angle.py:1379: DeprecationWarning: `np.float` is a deprecated alias for the builtin `float`. To silence this warning, use `float` by itself. Doing this will not modify any behavior and is safe. If you specifically wanted the numpy scalar type, use `np.float64` here.\n",
      "Deprecated in NumPy 1.20; for more details and guidance: https://numpy.org/devdocs/release/1.20.0-notes.html#deprecations\n",
      "  max_n_alphas=1000, n_jobs=None, eps=np.finfo(np.float).eps,\n",
      "/opt/anaconda3/envs/dm/lib/python3.8/site-packages/sklearn/linear_model/_least_angle.py:1621: DeprecationWarning: `np.float` is a deprecated alias for the builtin `float`. To silence this warning, use `float` by itself. Doing this will not modify any behavior and is safe. If you specifically wanted the numpy scalar type, use `np.float64` here.\n",
      "Deprecated in NumPy 1.20; for more details and guidance: https://numpy.org/devdocs/release/1.20.0-notes.html#deprecations\n",
      "  max_n_alphas=1000, n_jobs=None, eps=np.finfo(np.float).eps,\n",
      "/opt/anaconda3/envs/dm/lib/python3.8/site-packages/sklearn/linear_model/_least_angle.py:1755: DeprecationWarning: `np.float` is a deprecated alias for the builtin `float`. To silence this warning, use `float` by itself. Doing this will not modify any behavior and is safe. If you specifically wanted the numpy scalar type, use `np.float64` here.\n",
      "Deprecated in NumPy 1.20; for more details and guidance: https://numpy.org/devdocs/release/1.20.0-notes.html#deprecations\n",
      "  eps=np.finfo(np.float).eps, copy_X=True, positive=False):\n",
      "/opt/anaconda3/envs/dm/lib/python3.8/site-packages/sklearn/decomposition/_lda.py:28: DeprecationWarning: `np.float` is a deprecated alias for the builtin `float`. To silence this warning, use `float` by itself. Doing this will not modify any behavior and is safe. If you specifically wanted the numpy scalar type, use `np.float64` here.\n",
      "Deprecated in NumPy 1.20; for more details and guidance: https://numpy.org/devdocs/release/1.20.0-notes.html#deprecations\n",
      "  EPS = np.finfo(np.float).eps\n"
     ]
    },
    {
     "name": "stderr",
     "output_type": "stream",
     "text": [
      "/opt/anaconda3/envs/dm/lib/python3.8/site-packages/past/builtins/misc.py:45: DeprecationWarning: the imp module is deprecated in favour of importlib; see the module's documentation for alternative uses\n",
      "  from imp import reload\n",
      "/opt/anaconda3/envs/dm/lib/python3.8/site-packages/sklearn/linear_model/_least_angle.py:34: DeprecationWarning: `np.float` is a deprecated alias for the builtin `float`. To silence this warning, use `float` by itself. Doing this will not modify any behavior and is safe. If you specifically wanted the numpy scalar type, use `np.float64` here.\n",
      "Deprecated in NumPy 1.20; for more details and guidance: https://numpy.org/devdocs/release/1.20.0-notes.html#deprecations\n",
      "  method='lar', copy_X=True, eps=np.finfo(np.float).eps,\n",
      "/opt/anaconda3/envs/dm/lib/python3.8/site-packages/sklearn/linear_model/_least_angle.py:164: DeprecationWarning: `np.float` is a deprecated alias for the builtin `float`. To silence this warning, use `float` by itself. Doing this will not modify any behavior and is safe. If you specifically wanted the numpy scalar type, use `np.float64` here.\n",
      "Deprecated in NumPy 1.20; for more details and guidance: https://numpy.org/devdocs/release/1.20.0-notes.html#deprecations\n",
      "  method='lar', copy_X=True, eps=np.finfo(np.float).eps,\n",
      "/opt/anaconda3/envs/dm/lib/python3.8/site-packages/sklearn/linear_model/_least_angle.py:281: DeprecationWarning: `np.float` is a deprecated alias for the builtin `float`. To silence this warning, use `float` by itself. Doing this will not modify any behavior and is safe. If you specifically wanted the numpy scalar type, use `np.float64` here.\n",
      "Deprecated in NumPy 1.20; for more details and guidance: https://numpy.org/devdocs/release/1.20.0-notes.html#deprecations\n",
      "  eps=np.finfo(np.float).eps, copy_Gram=True, verbose=0,\n",
      "/opt/anaconda3/envs/dm/lib/python3.8/site-packages/sklearn/linear_model/_least_angle.py:865: DeprecationWarning: `np.float` is a deprecated alias for the builtin `float`. To silence this warning, use `float` by itself. Doing this will not modify any behavior and is safe. If you specifically wanted the numpy scalar type, use `np.float64` here.\n",
      "Deprecated in NumPy 1.20; for more details and guidance: https://numpy.org/devdocs/release/1.20.0-notes.html#deprecations\n",
      "  eps=np.finfo(np.float).eps, copy_X=True, fit_path=True,\n",
      "/opt/anaconda3/envs/dm/lib/python3.8/site-packages/sklearn/linear_model/_least_angle.py:1121: DeprecationWarning: `np.float` is a deprecated alias for the builtin `float`. To silence this warning, use `float` by itself. Doing this will not modify any behavior and is safe. If you specifically wanted the numpy scalar type, use `np.float64` here.\n",
      "Deprecated in NumPy 1.20; for more details and guidance: https://numpy.org/devdocs/release/1.20.0-notes.html#deprecations\n",
      "  eps=np.finfo(np.float).eps, copy_X=True, fit_path=True,\n",
      "/opt/anaconda3/envs/dm/lib/python3.8/site-packages/sklearn/linear_model/_least_angle.py:1149: DeprecationWarning: `np.float` is a deprecated alias for the builtin `float`. To silence this warning, use `float` by itself. Doing this will not modify any behavior and is safe. If you specifically wanted the numpy scalar type, use `np.float64` here.\n",
      "Deprecated in NumPy 1.20; for more details and guidance: https://numpy.org/devdocs/release/1.20.0-notes.html#deprecations\n",
      "  eps=np.finfo(np.float).eps, positive=False):\n",
      "/opt/anaconda3/envs/dm/lib/python3.8/site-packages/sklearn/linear_model/_least_angle.py:1379: DeprecationWarning: `np.float` is a deprecated alias for the builtin `float`. To silence this warning, use `float` by itself. Doing this will not modify any behavior and is safe. If you specifically wanted the numpy scalar type, use `np.float64` here.\n",
      "Deprecated in NumPy 1.20; for more details and guidance: https://numpy.org/devdocs/release/1.20.0-notes.html#deprecations\n",
      "  max_n_alphas=1000, n_jobs=None, eps=np.finfo(np.float).eps,\n",
      "/opt/anaconda3/envs/dm/lib/python3.8/site-packages/sklearn/linear_model/_least_angle.py:1621: DeprecationWarning: `np.float` is a deprecated alias for the builtin `float`. To silence this warning, use `float` by itself. Doing this will not modify any behavior and is safe. If you specifically wanted the numpy scalar type, use `np.float64` here.\n",
      "Deprecated in NumPy 1.20; for more details and guidance: https://numpy.org/devdocs/release/1.20.0-notes.html#deprecations\n",
      "  max_n_alphas=1000, n_jobs=None, eps=np.finfo(np.float).eps,\n",
      "/opt/anaconda3/envs/dm/lib/python3.8/site-packages/sklearn/linear_model/_least_angle.py:1755: DeprecationWarning: `np.float` is a deprecated alias for the builtin `float`. To silence this warning, use `float` by itself. Doing this will not modify any behavior and is safe. If you specifically wanted the numpy scalar type, use `np.float64` here.\n",
      "Deprecated in NumPy 1.20; for more details and guidance: https://numpy.org/devdocs/release/1.20.0-notes.html#deprecations\n",
      "  eps=np.finfo(np.float).eps, copy_X=True, positive=False):\n",
      "/opt/anaconda3/envs/dm/lib/python3.8/site-packages/sklearn/decomposition/_lda.py:28: DeprecationWarning: `np.float` is a deprecated alias for the builtin `float`. To silence this warning, use `float` by itself. Doing this will not modify any behavior and is safe. If you specifically wanted the numpy scalar type, use `np.float64` here.\n",
      "Deprecated in NumPy 1.20; for more details and guidance: https://numpy.org/devdocs/release/1.20.0-notes.html#deprecations\n",
      "  EPS = np.finfo(np.float).eps\n",
      "/opt/anaconda3/envs/dm/lib/python3.8/site-packages/past/builtins/misc.py:45: DeprecationWarning: the imp module is deprecated in favour of importlib; see the module's documentation for alternative uses\n",
      "  from imp import reload\n",
      "/opt/anaconda3/envs/dm/lib/python3.8/site-packages/sklearn/linear_model/_least_angle.py:34: DeprecationWarning: `np.float` is a deprecated alias for the builtin `float`. To silence this warning, use `float` by itself. Doing this will not modify any behavior and is safe. If you specifically wanted the numpy scalar type, use `np.float64` here.\n",
      "Deprecated in NumPy 1.20; for more details and guidance: https://numpy.org/devdocs/release/1.20.0-notes.html#deprecations\n",
      "  method='lar', copy_X=True, eps=np.finfo(np.float).eps,\n",
      "/opt/anaconda3/envs/dm/lib/python3.8/site-packages/sklearn/linear_model/_least_angle.py:164: DeprecationWarning: `np.float` is a deprecated alias for the builtin `float`. To silence this warning, use `float` by itself. Doing this will not modify any behavior and is safe. If you specifically wanted the numpy scalar type, use `np.float64` here.\n",
      "Deprecated in NumPy 1.20; for more details and guidance: https://numpy.org/devdocs/release/1.20.0-notes.html#deprecations\n",
      "  method='lar', copy_X=True, eps=np.finfo(np.float).eps,\n",
      "/opt/anaconda3/envs/dm/lib/python3.8/site-packages/sklearn/linear_model/_least_angle.py:281: DeprecationWarning: `np.float` is a deprecated alias for the builtin `float`. To silence this warning, use `float` by itself. Doing this will not modify any behavior and is safe. If you specifically wanted the numpy scalar type, use `np.float64` here.\n",
      "Deprecated in NumPy 1.20; for more details and guidance: https://numpy.org/devdocs/release/1.20.0-notes.html#deprecations\n",
      "  eps=np.finfo(np.float).eps, copy_Gram=True, verbose=0,\n",
      "/opt/anaconda3/envs/dm/lib/python3.8/site-packages/sklearn/linear_model/_least_angle.py:865: DeprecationWarning: `np.float` is a deprecated alias for the builtin `float`. To silence this warning, use `float` by itself. Doing this will not modify any behavior and is safe. If you specifically wanted the numpy scalar type, use `np.float64` here.\n",
      "Deprecated in NumPy 1.20; for more details and guidance: https://numpy.org/devdocs/release/1.20.0-notes.html#deprecations\n",
      "  eps=np.finfo(np.float).eps, copy_X=True, fit_path=True,\n",
      "/opt/anaconda3/envs/dm/lib/python3.8/site-packages/sklearn/linear_model/_least_angle.py:1121: DeprecationWarning: `np.float` is a deprecated alias for the builtin `float`. To silence this warning, use `float` by itself. Doing this will not modify any behavior and is safe. If you specifically wanted the numpy scalar type, use `np.float64` here.\n",
      "Deprecated in NumPy 1.20; for more details and guidance: https://numpy.org/devdocs/release/1.20.0-notes.html#deprecations\n",
      "  eps=np.finfo(np.float).eps, copy_X=True, fit_path=True,\n",
      "/opt/anaconda3/envs/dm/lib/python3.8/site-packages/sklearn/linear_model/_least_angle.py:1149: DeprecationWarning: `np.float` is a deprecated alias for the builtin `float`. To silence this warning, use `float` by itself. Doing this will not modify any behavior and is safe. If you specifically wanted the numpy scalar type, use `np.float64` here.\n",
      "Deprecated in NumPy 1.20; for more details and guidance: https://numpy.org/devdocs/release/1.20.0-notes.html#deprecations\n",
      "  eps=np.finfo(np.float).eps, positive=False):\n",
      "/opt/anaconda3/envs/dm/lib/python3.8/site-packages/sklearn/linear_model/_least_angle.py:1379: DeprecationWarning: `np.float` is a deprecated alias for the builtin `float`. To silence this warning, use `float` by itself. Doing this will not modify any behavior and is safe. If you specifically wanted the numpy scalar type, use `np.float64` here.\n",
      "Deprecated in NumPy 1.20; for more details and guidance: https://numpy.org/devdocs/release/1.20.0-notes.html#deprecations\n",
      "  max_n_alphas=1000, n_jobs=None, eps=np.finfo(np.float).eps,\n",
      "/opt/anaconda3/envs/dm/lib/python3.8/site-packages/sklearn/linear_model/_least_angle.py:1621: DeprecationWarning: `np.float` is a deprecated alias for the builtin `float`. To silence this warning, use `float` by itself. Doing this will not modify any behavior and is safe. If you specifically wanted the numpy scalar type, use `np.float64` here.\n",
      "Deprecated in NumPy 1.20; for more details and guidance: https://numpy.org/devdocs/release/1.20.0-notes.html#deprecations\n",
      "  max_n_alphas=1000, n_jobs=None, eps=np.finfo(np.float).eps,\n",
      "/opt/anaconda3/envs/dm/lib/python3.8/site-packages/sklearn/linear_model/_least_angle.py:1755: DeprecationWarning: `np.float` is a deprecated alias for the builtin `float`. To silence this warning, use `float` by itself. Doing this will not modify any behavior and is safe. If you specifically wanted the numpy scalar type, use `np.float64` here.\n",
      "Deprecated in NumPy 1.20; for more details and guidance: https://numpy.org/devdocs/release/1.20.0-notes.html#deprecations\n",
      "  eps=np.finfo(np.float).eps, copy_X=True, positive=False):\n",
      "/opt/anaconda3/envs/dm/lib/python3.8/site-packages/sklearn/decomposition/_lda.py:28: DeprecationWarning: `np.float` is a deprecated alias for the builtin `float`. To silence this warning, use `float` by itself. Doing this will not modify any behavior and is safe. If you specifically wanted the numpy scalar type, use `np.float64` here.\n",
      "Deprecated in NumPy 1.20; for more details and guidance: https://numpy.org/devdocs/release/1.20.0-notes.html#deprecations\n",
      "  EPS = np.finfo(np.float).eps\n",
      "/opt/anaconda3/envs/dm/lib/python3.8/site-packages/past/builtins/misc.py:45: DeprecationWarning: the imp module is deprecated in favour of importlib; see the module's documentation for alternative uses\n",
      "  from imp import reload\n",
      "/opt/anaconda3/envs/dm/lib/python3.8/site-packages/sklearn/linear_model/_least_angle.py:34: DeprecationWarning: `np.float` is a deprecated alias for the builtin `float`. To silence this warning, use `float` by itself. Doing this will not modify any behavior and is safe. If you specifically wanted the numpy scalar type, use `np.float64` here.\n",
      "Deprecated in NumPy 1.20; for more details and guidance: https://numpy.org/devdocs/release/1.20.0-notes.html#deprecations\n",
      "  method='lar', copy_X=True, eps=np.finfo(np.float).eps,\n",
      "/opt/anaconda3/envs/dm/lib/python3.8/site-packages/sklearn/linear_model/_least_angle.py:164: DeprecationWarning: `np.float` is a deprecated alias for the builtin `float`. To silence this warning, use `float` by itself. Doing this will not modify any behavior and is safe. If you specifically wanted the numpy scalar type, use `np.float64` here.\n",
      "Deprecated in NumPy 1.20; for more details and guidance: https://numpy.org/devdocs/release/1.20.0-notes.html#deprecations\n",
      "  method='lar', copy_X=True, eps=np.finfo(np.float).eps,\n",
      "/opt/anaconda3/envs/dm/lib/python3.8/site-packages/sklearn/linear_model/_least_angle.py:281: DeprecationWarning: `np.float` is a deprecated alias for the builtin `float`. To silence this warning, use `float` by itself. Doing this will not modify any behavior and is safe. If you specifically wanted the numpy scalar type, use `np.float64` here.\n",
      "Deprecated in NumPy 1.20; for more details and guidance: https://numpy.org/devdocs/release/1.20.0-notes.html#deprecations\n",
      "  eps=np.finfo(np.float).eps, copy_Gram=True, verbose=0,\n",
      "/opt/anaconda3/envs/dm/lib/python3.8/site-packages/sklearn/linear_model/_least_angle.py:865: DeprecationWarning: `np.float` is a deprecated alias for the builtin `float`. To silence this warning, use `float` by itself. Doing this will not modify any behavior and is safe. If you specifically wanted the numpy scalar type, use `np.float64` here.\n",
      "Deprecated in NumPy 1.20; for more details and guidance: https://numpy.org/devdocs/release/1.20.0-notes.html#deprecations\n",
      "  eps=np.finfo(np.float).eps, copy_X=True, fit_path=True,\n",
      "/opt/anaconda3/envs/dm/lib/python3.8/site-packages/sklearn/linear_model/_least_angle.py:1121: DeprecationWarning: `np.float` is a deprecated alias for the builtin `float`. To silence this warning, use `float` by itself. Doing this will not modify any behavior and is safe. If you specifically wanted the numpy scalar type, use `np.float64` here.\n",
      "Deprecated in NumPy 1.20; for more details and guidance: https://numpy.org/devdocs/release/1.20.0-notes.html#deprecations\n",
      "  eps=np.finfo(np.float).eps, copy_X=True, fit_path=True,\n",
      "/opt/anaconda3/envs/dm/lib/python3.8/site-packages/sklearn/linear_model/_least_angle.py:1149: DeprecationWarning: `np.float` is a deprecated alias for the builtin `float`. To silence this warning, use `float` by itself. Doing this will not modify any behavior and is safe. If you specifically wanted the numpy scalar type, use `np.float64` here.\n",
      "Deprecated in NumPy 1.20; for more details and guidance: https://numpy.org/devdocs/release/1.20.0-notes.html#deprecations\n",
      "  eps=np.finfo(np.float).eps, positive=False):\n",
      "/opt/anaconda3/envs/dm/lib/python3.8/site-packages/sklearn/linear_model/_least_angle.py:1379: DeprecationWarning: `np.float` is a deprecated alias for the builtin `float`. To silence this warning, use `float` by itself. Doing this will not modify any behavior and is safe. If you specifically wanted the numpy scalar type, use `np.float64` here.\n",
      "Deprecated in NumPy 1.20; for more details and guidance: https://numpy.org/devdocs/release/1.20.0-notes.html#deprecations\n",
      "  max_n_alphas=1000, n_jobs=None, eps=np.finfo(np.float).eps,\n",
      "/opt/anaconda3/envs/dm/lib/python3.8/site-packages/sklearn/linear_model/_least_angle.py:1621: DeprecationWarning: `np.float` is a deprecated alias for the builtin `float`. To silence this warning, use `float` by itself. Doing this will not modify any behavior and is safe. If you specifically wanted the numpy scalar type, use `np.float64` here.\n",
      "Deprecated in NumPy 1.20; for more details and guidance: https://numpy.org/devdocs/release/1.20.0-notes.html#deprecations\n",
      "  max_n_alphas=1000, n_jobs=None, eps=np.finfo(np.float).eps,\n",
      "/opt/anaconda3/envs/dm/lib/python3.8/site-packages/sklearn/linear_model/_least_angle.py:1755: DeprecationWarning: `np.float` is a deprecated alias for the builtin `float`. To silence this warning, use `float` by itself. Doing this will not modify any behavior and is safe. If you specifically wanted the numpy scalar type, use `np.float64` here.\n",
      "Deprecated in NumPy 1.20; for more details and guidance: https://numpy.org/devdocs/release/1.20.0-notes.html#deprecations\n",
      "  eps=np.finfo(np.float).eps, copy_X=True, positive=False):\n",
      "/opt/anaconda3/envs/dm/lib/python3.8/site-packages/sklearn/decomposition/_lda.py:28: DeprecationWarning: `np.float` is a deprecated alias for the builtin `float`. To silence this warning, use `float` by itself. Doing this will not modify any behavior and is safe. If you specifically wanted the numpy scalar type, use `np.float64` here.\n",
      "Deprecated in NumPy 1.20; for more details and guidance: https://numpy.org/devdocs/release/1.20.0-notes.html#deprecations\n",
      "  EPS = np.finfo(np.float).eps\n"
     ]
    }
   ],
   "source": [
    "plt.figure(figsize = (10, 10), facecolor = None, )\n",
    "plt.imshow(wordcloud)\n",
    "plt.axis(\"off\")\n",
    "plt.tight_layout(pad = 0)\n",
    "#plt.savefig('Figures/dict_sport_for.png')\n",
    "plt.show()"
   ]
  }
 ],
 "metadata": {
  "kernelspec": {
   "display_name": "Python 3 (ipykernel)",
   "language": "python",
   "name": "python3"
  },
  "language_info": {
   "codemirror_mode": {
    "name": "ipython",
    "version": 3
   },
   "file_extension": ".py",
   "mimetype": "text/x-python",
   "name": "python",
   "nbconvert_exporter": "python",
   "pygments_lexer": "ipython3",
   "version": "3.8.12"
  }
 },
 "nbformat": 4,
 "nbformat_minor": 5
}
